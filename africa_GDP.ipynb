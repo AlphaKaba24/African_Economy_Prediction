{
  "nbformat": 4,
  "nbformat_minor": 0,
  "metadata": {
    "colab": {
      "name": "africa_GDP",
      "provenance": [],
      "toc_visible": true,
      "authorship_tag": "ABX9TyNIUUkcT0sk+VAF1Q+5wO7A",
      "include_colab_link": true
    },
    "kernelspec": {
      "name": "python3",
      "display_name": "Python 3"
    },
    "language_info": {
      "name": "python"
    }
  },
  "cells": [
    {
      "cell_type": "markdown",
      "metadata": {
        "id": "view-in-github",
        "colab_type": "text"
      },
      "source": [
        "<a href=\"https://colab.research.google.com/github/AlphaKaba24/African_Economy_Prediction/blob/main/africa_GDP.ipynb\" target=\"_parent\"><img src=\"https://colab.research.google.com/assets/colab-badge.svg\" alt=\"Open In Colab\"/></a>"
      ]
    },
    {
      "cell_type": "markdown",
      "source": [
        "# **AFRICAN GDP GROWTH PER YEAR**\n",
        "##Alpha Kaba //"
      ],
      "metadata": {
        "id": "bXshy-nmt2oM"
      }
    },
    {
      "cell_type": "markdown",
      "source": [
        "##**Import Libraries/Load Data**"
      ],
      "metadata": {
        "id": "SapbQKE1JtYF"
      }
    },
    {
      "cell_type": "code",
      "source": [
        "import pandas as pd\n",
        "import numpy as np\n",
        "from sklearn.model_selection import train_test_split, GridSearchCV\n",
        "import seaborn as sns\n",
        "import matplotlib.pyplot as plt\n",
        "from sklearn.compose import make_column_selector, make_column_transformer\n",
        "from sklearn.pipeline import make_pipeline\n",
        "from sklearn.preprocessing import StandardScaler\n",
        "from sklearn.cluster import KMeans\n",
        "from sklearn.neighbors import KNeighborsRegressor\n",
        "from sklearn.preprocessing import StandardScaler, OneHotEncoder\n",
        "from sklearn.decomposition import PCA\n",
        "from sklearn.tree import DecisionTreeRegressor\n",
        "from sklearn.linear_model import LinearRegression\n",
        "from sklearn.metrics import mean_absolute_error, mean_squared_error, r2_score"
      ],
      "metadata": {
        "id": "jLAD2txquZYB"
      },
      "execution_count": 610,
      "outputs": []
    },
    {
      "cell_type": "code",
      "execution_count": 555,
      "metadata": {
        "colab": {
          "base_uri": "https://localhost:8080/",
          "height": 421
        },
        "id": "WB2abHeQt19N",
        "outputId": "4e0da6d6-4509-4c55-b48d-58b8cb81332a"
      },
      "outputs": [
        {
          "output_type": "execute_result",
          "data": {
            "text/plain": [
              "  Country  Year  Real per Capita GDP Growth Rate (annual %)  \\\n",
              "0  Malawi  1980                                         NaN   \n",
              "1  Malawi  1981                                      -13.06   \n",
              "2  Malawi  1982                                       -0.93   \n",
              "3  Malawi  1983                                        1.56   \n",
              "4  Malawi  1984                                        0.54   \n",
              "\n",
              "   Real GDP growth (annual %)  Gross domestic product, (constant prices US$)  \\\n",
              "0                         NaN                                        3038.14   \n",
              "1                      -10.81                                        2709.74   \n",
              "2                        1.44                                        2748.84   \n",
              "3                        4.21                                        2864.70   \n",
              "4                        3.92                                        2976.95   \n",
              "\n",
              "   Gross domestic product, current prices (current US$)  \\\n",
              "0                                            2236.36      \n",
              "1                                            2236.40      \n",
              "2                                            2113.68      \n",
              "3                                            2203.66      \n",
              "4                                            2157.88      \n",
              "\n",
              "   Final consumption expenditure  (current US$)  \\\n",
              "0                                       1104.30   \n",
              "1                                       1091.26   \n",
              "2                                       1002.45   \n",
              "3                                       1037.06   \n",
              "4                                       1028.95   \n",
              "\n",
              "   General government final consumption expenditure (current US$)  \\\n",
              "0                                             238.76                \n",
              "1                                             221.16                \n",
              "2                                             206.82                \n",
              "3                                             200.81                \n",
              "4                                             189.62                \n",
              "\n",
              "   Household final consumption expenditure (current US$)  \\\n",
              "0                                             865.54       \n",
              "1                                             870.10       \n",
              "2                                             795.63       \n",
              "3                                             836.26       \n",
              "4                                             839.34       \n",
              "\n",
              "   Gross capital formation (current US$)  ...  \\\n",
              "0                                 306.24  ...   \n",
              "1                                 218.14  ...   \n",
              "2                                 252.58  ...   \n",
              "3                                 278.87  ...   \n",
              "4                                 155.58  ...   \n",
              "\n",
              "   Imports of goods and services (% of GDP)  \\\n",
              "0                                     21.48   \n",
              "1                                     17.41   \n",
              "2                                     16.10   \n",
              "3                                     15.73   \n",
              "4                                     14.79   \n",
              "\n",
              "   Central government, Fiscal Balance (Current US $)  \\\n",
              "0                                            -142.96   \n",
              "1                                            -133.47   \n",
              "2                                            -119.21   \n",
              "3                                             -96.80   \n",
              "4                                             -78.94   \n",
              "\n",
              "   Central government, total revenue and grants  (Current US $)  \\\n",
              "0                                             298.61              \n",
              "1                                             276.61              \n",
              "2                                             254.71              \n",
              "3                                             250.68              \n",
              "4                                             239.30              \n",
              "\n",
              "   Central government, total expenditure and net lending  (Current US $)  \\\n",
              "0                                             441.57                       \n",
              "1                                             410.09                       \n",
              "2                                             373.92                       \n",
              "3                                             347.48                       \n",
              "4                                             318.24                       \n",
              "\n",
              "   Central government, Fiscal Balance (% of GDP)  \\\n",
              "0                                          -6.39   \n",
              "1                                          -5.97   \n",
              "2                                          -5.64   \n",
              "3                                          -4.39   \n",
              "4                                          -3.66   \n",
              "\n",
              "   Central government, total revenue and grants  (% of GDP)  \\\n",
              "0                                              13.35          \n",
              "1                                              12.37          \n",
              "2                                              12.05          \n",
              "3                                              11.38          \n",
              "4                                              11.09          \n",
              "\n",
              "   Central government, total expenditure and net lending  (% of GDP)  \\\n",
              "0                                              19.75                   \n",
              "1                                              18.34                   \n",
              "2                                              17.69                   \n",
              "3                                              15.77                   \n",
              "4                                              14.75                   \n",
              "\n",
              "   Current account balance (Net, BoP, cur. US$)  \\\n",
              "0                                       -207.07   \n",
              "1                                        -86.71   \n",
              "2                                        -91.15   \n",
              "3                                       -103.94   \n",
              "4                                          3.88   \n",
              "\n",
              "   Current account balance (As % of GDP)  \\\n",
              "0                                  -9.26   \n",
              "1                                  -3.88   \n",
              "2                                  -4.31   \n",
              "3                                  -4.72   \n",
              "4                                   0.18   \n",
              "\n",
              "   Inflation, consumer prices (annual %)  \n",
              "0                                    NaN  \n",
              "1                                  12.01  \n",
              "2                                   9.52  \n",
              "3                                  13.77  \n",
              "4                                  19.74  \n",
              "\n",
              "[5 rows x 31 columns]"
            ],
            "text/html": [
              "\n",
              "  <div id=\"df-40dd25c0-7b90-4c96-95e2-4040c8e42f84\">\n",
              "    <div class=\"colab-df-container\">\n",
              "      <div>\n",
              "<style scoped>\n",
              "    .dataframe tbody tr th:only-of-type {\n",
              "        vertical-align: middle;\n",
              "    }\n",
              "\n",
              "    .dataframe tbody tr th {\n",
              "        vertical-align: top;\n",
              "    }\n",
              "\n",
              "    .dataframe thead th {\n",
              "        text-align: right;\n",
              "    }\n",
              "</style>\n",
              "<table border=\"1\" class=\"dataframe\">\n",
              "  <thead>\n",
              "    <tr style=\"text-align: right;\">\n",
              "      <th></th>\n",
              "      <th>Country</th>\n",
              "      <th>Year</th>\n",
              "      <th>Real per Capita GDP Growth Rate (annual %)</th>\n",
              "      <th>Real GDP growth (annual %)</th>\n",
              "      <th>Gross domestic product, (constant prices US$)</th>\n",
              "      <th>Gross domestic product, current prices (current US$)</th>\n",
              "      <th>Final consumption expenditure  (current US$)</th>\n",
              "      <th>General government final consumption expenditure (current US$)</th>\n",
              "      <th>Household final consumption expenditure (current US$)</th>\n",
              "      <th>Gross capital formation (current US$)</th>\n",
              "      <th>...</th>\n",
              "      <th>Imports of goods and services (% of GDP)</th>\n",
              "      <th>Central government, Fiscal Balance (Current US $)</th>\n",
              "      <th>Central government, total revenue and grants  (Current US $)</th>\n",
              "      <th>Central government, total expenditure and net lending  (Current US $)</th>\n",
              "      <th>Central government, Fiscal Balance (% of GDP)</th>\n",
              "      <th>Central government, total revenue and grants  (% of GDP)</th>\n",
              "      <th>Central government, total expenditure and net lending  (% of GDP)</th>\n",
              "      <th>Current account balance (Net, BoP, cur. US$)</th>\n",
              "      <th>Current account balance (As % of GDP)</th>\n",
              "      <th>Inflation, consumer prices (annual %)</th>\n",
              "    </tr>\n",
              "  </thead>\n",
              "  <tbody>\n",
              "    <tr>\n",
              "      <th>0</th>\n",
              "      <td>Malawi</td>\n",
              "      <td>1980</td>\n",
              "      <td>NaN</td>\n",
              "      <td>NaN</td>\n",
              "      <td>3038.14</td>\n",
              "      <td>2236.36</td>\n",
              "      <td>1104.30</td>\n",
              "      <td>238.76</td>\n",
              "      <td>865.54</td>\n",
              "      <td>306.24</td>\n",
              "      <td>...</td>\n",
              "      <td>21.48</td>\n",
              "      <td>-142.96</td>\n",
              "      <td>298.61</td>\n",
              "      <td>441.57</td>\n",
              "      <td>-6.39</td>\n",
              "      <td>13.35</td>\n",
              "      <td>19.75</td>\n",
              "      <td>-207.07</td>\n",
              "      <td>-9.26</td>\n",
              "      <td>NaN</td>\n",
              "    </tr>\n",
              "    <tr>\n",
              "      <th>1</th>\n",
              "      <td>Malawi</td>\n",
              "      <td>1981</td>\n",
              "      <td>-13.06</td>\n",
              "      <td>-10.81</td>\n",
              "      <td>2709.74</td>\n",
              "      <td>2236.40</td>\n",
              "      <td>1091.26</td>\n",
              "      <td>221.16</td>\n",
              "      <td>870.10</td>\n",
              "      <td>218.14</td>\n",
              "      <td>...</td>\n",
              "      <td>17.41</td>\n",
              "      <td>-133.47</td>\n",
              "      <td>276.61</td>\n",
              "      <td>410.09</td>\n",
              "      <td>-5.97</td>\n",
              "      <td>12.37</td>\n",
              "      <td>18.34</td>\n",
              "      <td>-86.71</td>\n",
              "      <td>-3.88</td>\n",
              "      <td>12.01</td>\n",
              "    </tr>\n",
              "    <tr>\n",
              "      <th>2</th>\n",
              "      <td>Malawi</td>\n",
              "      <td>1982</td>\n",
              "      <td>-0.93</td>\n",
              "      <td>1.44</td>\n",
              "      <td>2748.84</td>\n",
              "      <td>2113.68</td>\n",
              "      <td>1002.45</td>\n",
              "      <td>206.82</td>\n",
              "      <td>795.63</td>\n",
              "      <td>252.58</td>\n",
              "      <td>...</td>\n",
              "      <td>16.10</td>\n",
              "      <td>-119.21</td>\n",
              "      <td>254.71</td>\n",
              "      <td>373.92</td>\n",
              "      <td>-5.64</td>\n",
              "      <td>12.05</td>\n",
              "      <td>17.69</td>\n",
              "      <td>-91.15</td>\n",
              "      <td>-4.31</td>\n",
              "      <td>9.52</td>\n",
              "    </tr>\n",
              "    <tr>\n",
              "      <th>3</th>\n",
              "      <td>Malawi</td>\n",
              "      <td>1983</td>\n",
              "      <td>1.56</td>\n",
              "      <td>4.21</td>\n",
              "      <td>2864.70</td>\n",
              "      <td>2203.66</td>\n",
              "      <td>1037.06</td>\n",
              "      <td>200.81</td>\n",
              "      <td>836.26</td>\n",
              "      <td>278.87</td>\n",
              "      <td>...</td>\n",
              "      <td>15.73</td>\n",
              "      <td>-96.80</td>\n",
              "      <td>250.68</td>\n",
              "      <td>347.48</td>\n",
              "      <td>-4.39</td>\n",
              "      <td>11.38</td>\n",
              "      <td>15.77</td>\n",
              "      <td>-103.94</td>\n",
              "      <td>-4.72</td>\n",
              "      <td>13.77</td>\n",
              "    </tr>\n",
              "    <tr>\n",
              "      <th>4</th>\n",
              "      <td>Malawi</td>\n",
              "      <td>1984</td>\n",
              "      <td>0.54</td>\n",
              "      <td>3.92</td>\n",
              "      <td>2976.95</td>\n",
              "      <td>2157.88</td>\n",
              "      <td>1028.95</td>\n",
              "      <td>189.62</td>\n",
              "      <td>839.34</td>\n",
              "      <td>155.58</td>\n",
              "      <td>...</td>\n",
              "      <td>14.79</td>\n",
              "      <td>-78.94</td>\n",
              "      <td>239.30</td>\n",
              "      <td>318.24</td>\n",
              "      <td>-3.66</td>\n",
              "      <td>11.09</td>\n",
              "      <td>14.75</td>\n",
              "      <td>3.88</td>\n",
              "      <td>0.18</td>\n",
              "      <td>19.74</td>\n",
              "    </tr>\n",
              "  </tbody>\n",
              "</table>\n",
              "<p>5 rows × 31 columns</p>\n",
              "</div>\n",
              "      <button class=\"colab-df-convert\" onclick=\"convertToInteractive('df-40dd25c0-7b90-4c96-95e2-4040c8e42f84')\"\n",
              "              title=\"Convert this dataframe to an interactive table.\"\n",
              "              style=\"display:none;\">\n",
              "        \n",
              "  <svg xmlns=\"http://www.w3.org/2000/svg\" height=\"24px\"viewBox=\"0 0 24 24\"\n",
              "       width=\"24px\">\n",
              "    <path d=\"M0 0h24v24H0V0z\" fill=\"none\"/>\n",
              "    <path d=\"M18.56 5.44l.94 2.06.94-2.06 2.06-.94-2.06-.94-.94-2.06-.94 2.06-2.06.94zm-11 1L8.5 8.5l.94-2.06 2.06-.94-2.06-.94L8.5 2.5l-.94 2.06-2.06.94zm10 10l.94 2.06.94-2.06 2.06-.94-2.06-.94-.94-2.06-.94 2.06-2.06.94z\"/><path d=\"M17.41 7.96l-1.37-1.37c-.4-.4-.92-.59-1.43-.59-.52 0-1.04.2-1.43.59L10.3 9.45l-7.72 7.72c-.78.78-.78 2.05 0 2.83L4 21.41c.39.39.9.59 1.41.59.51 0 1.02-.2 1.41-.59l7.78-7.78 2.81-2.81c.8-.78.8-2.07 0-2.86zM5.41 20L4 18.59l7.72-7.72 1.47 1.35L5.41 20z\"/>\n",
              "  </svg>\n",
              "      </button>\n",
              "      \n",
              "  <style>\n",
              "    .colab-df-container {\n",
              "      display:flex;\n",
              "      flex-wrap:wrap;\n",
              "      gap: 12px;\n",
              "    }\n",
              "\n",
              "    .colab-df-convert {\n",
              "      background-color: #E8F0FE;\n",
              "      border: none;\n",
              "      border-radius: 50%;\n",
              "      cursor: pointer;\n",
              "      display: none;\n",
              "      fill: #1967D2;\n",
              "      height: 32px;\n",
              "      padding: 0 0 0 0;\n",
              "      width: 32px;\n",
              "    }\n",
              "\n",
              "    .colab-df-convert:hover {\n",
              "      background-color: #E2EBFA;\n",
              "      box-shadow: 0px 1px 2px rgba(60, 64, 67, 0.3), 0px 1px 3px 1px rgba(60, 64, 67, 0.15);\n",
              "      fill: #174EA6;\n",
              "    }\n",
              "\n",
              "    [theme=dark] .colab-df-convert {\n",
              "      background-color: #3B4455;\n",
              "      fill: #D2E3FC;\n",
              "    }\n",
              "\n",
              "    [theme=dark] .colab-df-convert:hover {\n",
              "      background-color: #434B5C;\n",
              "      box-shadow: 0px 1px 3px 1px rgba(0, 0, 0, 0.15);\n",
              "      filter: drop-shadow(0px 1px 2px rgba(0, 0, 0, 0.3));\n",
              "      fill: #FFFFFF;\n",
              "    }\n",
              "  </style>\n",
              "\n",
              "      <script>\n",
              "        const buttonEl =\n",
              "          document.querySelector('#df-40dd25c0-7b90-4c96-95e2-4040c8e42f84 button.colab-df-convert');\n",
              "        buttonEl.style.display =\n",
              "          google.colab.kernel.accessAllowed ? 'block' : 'none';\n",
              "\n",
              "        async function convertToInteractive(key) {\n",
              "          const element = document.querySelector('#df-40dd25c0-7b90-4c96-95e2-4040c8e42f84');\n",
              "          const dataTable =\n",
              "            await google.colab.kernel.invokeFunction('convertToInteractive',\n",
              "                                                     [key], {});\n",
              "          if (!dataTable) return;\n",
              "\n",
              "          const docLinkHtml = 'Like what you see? Visit the ' +\n",
              "            '<a target=\"_blank\" href=https://colab.research.google.com/notebooks/data_table.ipynb>data table notebook</a>'\n",
              "            + ' to learn more about interactive tables.';\n",
              "          element.innerHTML = '';\n",
              "          dataTable['output_type'] = 'display_data';\n",
              "          await google.colab.output.renderOutput(dataTable, element);\n",
              "          const docLink = document.createElement('div');\n",
              "          docLink.innerHTML = docLinkHtml;\n",
              "          element.appendChild(docLink);\n",
              "        }\n",
              "      </script>\n",
              "    </div>\n",
              "  </div>\n",
              "  "
            ]
          },
          "metadata": {},
          "execution_count": 555
        }
      ],
      "source": [
        "africa_df = pd.read_csv('/content/ObservationData_lavlqce.csv')\n",
        "africa_df.head()"
      ]
    },
    {
      "cell_type": "markdown",
      "source": [
        "##**Data Prep**"
      ],
      "metadata": {
        "id": "AZbSXws3J5KX"
      }
    },
    {
      "cell_type": "code",
      "source": [
        "africa_df.info()"
      ],
      "metadata": {
        "colab": {
          "base_uri": "https://localhost:8080/"
        },
        "id": "AQkExIMuzHSm",
        "outputId": "5d902525-50ce-41a8-db55-868f4adfd68c"
      },
      "execution_count": 556,
      "outputs": [
        {
          "output_type": "stream",
          "name": "stdout",
          "text": [
            "<class 'pandas.core.frame.DataFrame'>\n",
            "RangeIndex: 2322 entries, 0 to 2321\n",
            "Data columns (total 31 columns):\n",
            " #   Column                                                                 Non-Null Count  Dtype  \n",
            "---  ------                                                                 --------------  -----  \n",
            " 0   Country                                                                2322 non-null   object \n",
            " 1   Year                                                                   2322 non-null   int64  \n",
            " 2   Real per Capita GDP Growth Rate (annual %)                             2238 non-null   float64\n",
            " 3   Real GDP growth (annual %)                                             2238 non-null   float64\n",
            " 4   Gross domestic product, (constant prices US$)                          2292 non-null   float64\n",
            " 5   Gross domestic product, current prices (current US$)                   2311 non-null   float64\n",
            " 6   Final consumption expenditure  (current US$)                           2239 non-null   float64\n",
            " 7   General government final consumption expenditure (current US$)         2239 non-null   float64\n",
            " 8   Household final consumption expenditure (current US$)                  2239 non-null   float64\n",
            " 9   Gross capital formation (current US$)                                  2239 non-null   float64\n",
            " 10  Gross capital formation, Private sector  (current US$)                 2159 non-null   float64\n",
            " 11  Gross capital formation, Public sector  (current US$)                  2159 non-null   float64\n",
            " 12  Exports of goods and services (current US$)                            2239 non-null   float64\n",
            " 13  Imports of goods and services (current US$)                            2239 non-null   float64\n",
            " 14  Final consumption expenditure  (% of GDP)                              2239 non-null   float64\n",
            " 15  General government final consumption expenditure (% of GDP)            2239 non-null   float64\n",
            " 16  Household final consumption expenditure  (% of GDP)                    2239 non-null   float64\n",
            " 17  Gross capital formation (% of GDP)                                     2239 non-null   float64\n",
            " 18  Gross capital formation, Private sector (% GDP)                        2159 non-null   float64\n",
            " 19  Gross capital formation, Public sector (% GDP)                         2159 non-null   float64\n",
            " 20  Exports of goods and services (% of GDP)                               2239 non-null   float64\n",
            " 21  Imports of goods and services (% of GDP)                               2239 non-null   float64\n",
            " 22  Central government, Fiscal Balance (Current US $)                      2173 non-null   float64\n",
            " 23  Central government, total revenue and grants  (Current US $)           2158 non-null   float64\n",
            " 24  Central government, total expenditure and net lending  (Current US $)  2162 non-null   float64\n",
            " 25  Central government, Fiscal Balance (% of GDP)                          2175 non-null   float64\n",
            " 26  Central government, total revenue and grants  (% of GDP)               2158 non-null   float64\n",
            " 27  Central government, total expenditure and net lending  (% of GDP)      2162 non-null   float64\n",
            " 28  Current account balance (Net, BoP, cur. US$)                           2204 non-null   float64\n",
            " 29  Current account balance (As % of GDP)                                  2202 non-null   float64\n",
            " 30  Inflation, consumer prices (annual %)                                  2168 non-null   float64\n",
            "dtypes: float64(29), int64(1), object(1)\n",
            "memory usage: 562.5+ KB\n"
          ]
        }
      ]
    },
    {
      "cell_type": "code",
      "source": [
        "africa_df.describe"
      ],
      "metadata": {
        "id": "jyh_tgysuxgc",
        "colab": {
          "base_uri": "https://localhost:8080/"
        },
        "outputId": "979d9cab-e989-48a4-8188-55fe76527648"
      },
      "execution_count": 557,
      "outputs": [
        {
          "output_type": "execute_result",
          "data": {
            "text/plain": [
              "<bound method NDFrame.describe of        Country  Year  Real per Capita GDP Growth Rate (annual %)  \\\n",
              "0       Malawi  1980                                         NaN   \n",
              "1       Malawi  1981                                  -13.060000   \n",
              "2       Malawi  1982                                   -0.930000   \n",
              "3       Malawi  1983                                    1.560000   \n",
              "4       Malawi  1984                                    0.540000   \n",
              "...        ...   ...                                         ...   \n",
              "2317  Zimbabwe  2018                                    2.047585   \n",
              "2318  Zimbabwe  2019                                   -7.326458   \n",
              "2319  Zimbabwe  2020                                  -11.328102   \n",
              "2320  Zimbabwe  2021                                    2.570616   \n",
              "2321  Zimbabwe  2022                                    1.399660   \n",
              "\n",
              "      Real GDP growth (annual %)  \\\n",
              "0                            NaN   \n",
              "1                     -10.810000   \n",
              "2                       1.440000   \n",
              "3                       4.210000   \n",
              "4                       3.920000   \n",
              "...                          ...   \n",
              "2317                    3.497000   \n",
              "2318                   -6.000000   \n",
              "2319                  -10.011501   \n",
              "2320                    4.152674   \n",
              "2321                    3.007154   \n",
              "\n",
              "      Gross domestic product, (constant prices US$)  \\\n",
              "0                                        3038.14000   \n",
              "1                                        2709.74000   \n",
              "2                                        2748.84000   \n",
              "3                                        2864.70000   \n",
              "4                                        2976.95000   \n",
              "...                                             ...   \n",
              "2317                                    18604.74405   \n",
              "2318                                    17488.45940   \n",
              "2319                                    15737.60218   \n",
              "2320                                    16391.13342   \n",
              "2321                                    16884.04005   \n",
              "\n",
              "      Gross domestic product, current prices (current US$)  \\\n",
              "0                                            2236.36000      \n",
              "1                                            2236.40000      \n",
              "2                                            2113.68000      \n",
              "3                                            2203.66000      \n",
              "4                                            2157.88000      \n",
              "...                                                 ...      \n",
              "2317                                        24201.18315      \n",
              "2318                                        20706.44740      \n",
              "2319                                        17942.11857      \n",
              "2320                                        19003.33811      \n",
              "2321                                        19681.90789      \n",
              "\n",
              "      Final consumption expenditure  (current US$)  \\\n",
              "0                                       1104.30000   \n",
              "1                                       1091.26000   \n",
              "2                                       1002.45000   \n",
              "3                                       1037.06000   \n",
              "4                                       1028.95000   \n",
              "...                                            ...   \n",
              "2317                                   24587.09004   \n",
              "2318                                   19475.14585   \n",
              "2319                                   17378.89900   \n",
              "2320                                   18486.90774   \n",
              "2321                                   19219.78812   \n",
              "\n",
              "      General government final consumption expenditure (current US$)  \\\n",
              "0                                            238.760000                \n",
              "1                                            221.160000                \n",
              "2                                            206.820000                \n",
              "3                                            200.810000                \n",
              "4                                            189.620000                \n",
              "...                                                 ...                \n",
              "2317                                        6228.315843                \n",
              "2318                                        2221.494474                \n",
              "2319                                        2113.138653                \n",
              "2320                                        2196.948197                \n",
              "2321                                        2279.464963                \n",
              "\n",
              "      Household final consumption expenditure (current US$)  \\\n",
              "0                                             865.54000       \n",
              "1                                             870.10000       \n",
              "2                                             795.63000       \n",
              "3                                             836.26000       \n",
              "4                                             839.34000       \n",
              "...                                                 ...       \n",
              "2317                                        18358.77420       \n",
              "2318                                        17253.65137       \n",
              "2319                                        15265.76034       \n",
              "2320                                        16289.95954       \n",
              "2321                                        16940.32316       \n",
              "\n",
              "      Gross capital formation (current US$)  ...  \\\n",
              "0                                306.240000  ...   \n",
              "1                                218.140000  ...   \n",
              "2                                252.580000  ...   \n",
              "3                                278.870000  ...   \n",
              "4                                155.580000  ...   \n",
              "...                                     ...  ...   \n",
              "2317                            2282.487586  ...   \n",
              "2318                            1362.732006  ...   \n",
              "2319                             901.907970  ...   \n",
              "2320                             981.976395  ...   \n",
              "2321                            1063.478646  ...   \n",
              "\n",
              "      Imports of goods and services (% of GDP)  \\\n",
              "0                                    21.480000   \n",
              "1                                    17.410000   \n",
              "2                                    16.100000   \n",
              "3                                    15.730000   \n",
              "4                                    14.790000   \n",
              "...                                        ...   \n",
              "2317                                 31.146159   \n",
              "2318                                 26.070949   \n",
              "2319                                 23.594682   \n",
              "2320                                 24.204740   \n",
              "2321                                 25.133211   \n",
              "\n",
              "      Central government, Fiscal Balance (Current US $)  \\\n",
              "0                                           -142.960000   \n",
              "1                                           -133.470000   \n",
              "2                                           -119.210000   \n",
              "3                                            -96.800000   \n",
              "4                                            -78.940000   \n",
              "...                                                 ...   \n",
              "2317                                       -2019.349767   \n",
              "2318                                        -558.523337   \n",
              "2319                                        -516.880494   \n",
              "2320                                        -490.613196   \n",
              "2321                                        -516.472513   \n",
              "\n",
              "      Central government, total revenue and grants  (Current US $)  \\\n",
              "0                                            298.610000              \n",
              "1                                            276.610000              \n",
              "2                                            254.710000              \n",
              "3                                            250.680000              \n",
              "4                                            239.300000              \n",
              "...                                                 ...              \n",
              "2317                                        5533.453859              \n",
              "2318                                        3097.742372              \n",
              "2319                                        2767.650934              \n",
              "2320                                        2928.757810              \n",
              "2321                                        3033.489693              \n",
              "\n",
              "      Central government, total expenditure and net lending  (Current US $)  \\\n",
              "0                                            441.570000                       \n",
              "1                                            410.090000                       \n",
              "2                                            373.920000                       \n",
              "3                                            347.480000                       \n",
              "4                                            318.240000                       \n",
              "...                                                 ...                       \n",
              "2317                                        7552.803626                       \n",
              "2318                                        3656.265709                       \n",
              "2319                                        3284.531428                       \n",
              "2320                                        3419.371005                       \n",
              "2321                                        3549.962206                       \n",
              "\n",
              "      Central government, Fiscal Balance (% of GDP)  \\\n",
              "0                                         -6.390000   \n",
              "1                                         -5.970000   \n",
              "2                                         -5.640000   \n",
              "3                                         -4.390000   \n",
              "4                                         -3.660000   \n",
              "...                                             ...   \n",
              "2317                                      -8.344013   \n",
              "2318                                      -2.697340   \n",
              "2319                                      -2.880822   \n",
              "2320                                      -2.581721   \n",
              "2321                                      -2.624098   \n",
              "\n",
              "      Central government, total revenue and grants  (% of GDP)  \\\n",
              "0                                             13.350000          \n",
              "1                                             12.370000          \n",
              "2                                             12.050000          \n",
              "3                                             11.380000          \n",
              "4                                             11.090000          \n",
              "...                                                 ...          \n",
              "2317                                          22.864394          \n",
              "2318                                          14.960279          \n",
              "2319                                          15.425441          \n",
              "2320                                          15.411807          \n",
              "2321                                          15.412579          \n",
              "\n",
              "      Central government, total expenditure and net lending  (% of GDP)  \\\n",
              "0                                             19.750000                   \n",
              "1                                             18.340000                   \n",
              "2                                             17.690000                   \n",
              "3                                             15.770000                   \n",
              "4                                             14.750000                   \n",
              "...                                                 ...                   \n",
              "2317                                          31.208407                   \n",
              "2318                                          17.657620                   \n",
              "2319                                          18.306263                   \n",
              "2320                                          17.993528                   \n",
              "2321                                          18.036677                   \n",
              "\n",
              "      Current account balance (Net, BoP, cur. US$)  \\\n",
              "0                                      -207.070000   \n",
              "1                                       -86.710000   \n",
              "2                                       -91.150000   \n",
              "3                                      -103.940000   \n",
              "4                                         3.880000   \n",
              "...                                            ...   \n",
              "2317                                  -1379.626260   \n",
              "2318                                    229.764025   \n",
              "2319                                   -348.597609   \n",
              "2320                                   -374.726966   \n",
              "2321                                   -429.413218   \n",
              "\n",
              "      Current account balance (As % of GDP)  \\\n",
              "0                                 -9.260000   \n",
              "1                                 -3.880000   \n",
              "2                                 -4.310000   \n",
              "3                                 -4.720000   \n",
              "4                                  0.180000   \n",
              "...                                     ...   \n",
              "2317                              -5.700656   \n",
              "2318                               1.109626   \n",
              "2319                              -1.942901   \n",
              "2320                              -1.971901   \n",
              "2321                              -2.181766   \n",
              "\n",
              "      Inflation, consumer prices (annual %)  \n",
              "0                                       NaN  \n",
              "1                                 12.010000  \n",
              "2                                  9.520000  \n",
              "3                                 13.770000  \n",
              "4                                 19.740000  \n",
              "...                                     ...  \n",
              "2317                              10.620290  \n",
              "2318                             226.914167  \n",
              "2319                             622.751634  \n",
              "2320                             135.040634  \n",
              "2321                              25.040634  \n",
              "\n",
              "[2322 rows x 31 columns]>"
            ]
          },
          "metadata": {},
          "execution_count": 557
        }
      ]
    },
    {
      "cell_type": "code",
      "source": [
        "print(africa_df.shape[0])"
      ],
      "metadata": {
        "colab": {
          "base_uri": "https://localhost:8080/"
        },
        "id": "73Li66kWviO-",
        "outputId": "eb9aa6aa-0ddf-4473-d0df-756f65cc89cc"
      },
      "execution_count": 558,
      "outputs": [
        {
          "output_type": "stream",
          "name": "stdout",
          "text": [
            "2322\n"
          ]
        }
      ]
    },
    {
      "cell_type": "code",
      "source": [
        "africa_df.duplicated().sum()"
      ],
      "metadata": {
        "colab": {
          "base_uri": "https://localhost:8080/"
        },
        "id": "ageW-nJlvmXI",
        "outputId": "7626757e-f7a1-4d1e-ef80-200507964366"
      },
      "execution_count": 559,
      "outputs": [
        {
          "output_type": "execute_result",
          "data": {
            "text/plain": [
              "0"
            ]
          },
          "metadata": {},
          "execution_count": 559
        }
      ]
    },
    {
      "cell_type": "markdown",
      "source": [
        "No duplicates luckily"
      ],
      "metadata": {
        "id": "YbYYsOBO4GlR"
      }
    },
    {
      "cell_type": "code",
      "source": [
        "africa_df.isna().sum()"
      ],
      "metadata": {
        "colab": {
          "base_uri": "https://localhost:8080/"
        },
        "id": "qIR7LDiewYwU",
        "outputId": "d256d432-777a-4053-a45a-939a6af559d2"
      },
      "execution_count": 560,
      "outputs": [
        {
          "output_type": "execute_result",
          "data": {
            "text/plain": [
              "Country                                                                    0\n",
              "Year                                                                       0\n",
              "Real per Capita GDP Growth Rate (annual %)                                84\n",
              "Real GDP growth (annual %)                                                84\n",
              "Gross domestic product, (constant prices US$)                             30\n",
              "Gross domestic product, current prices (current US$)                      11\n",
              "Final consumption expenditure  (current US$)                              83\n",
              "General government final consumption expenditure (current US$)            83\n",
              "Household final consumption expenditure (current US$)                     83\n",
              "Gross capital formation (current US$)                                     83\n",
              "Gross capital formation, Private sector  (current US$)                   163\n",
              "Gross capital formation, Public sector  (current US$)                    163\n",
              "Exports of goods and services (current US$)                               83\n",
              "Imports of goods and services (current US$)                               83\n",
              "Final consumption expenditure  (% of GDP)                                 83\n",
              "General government final consumption expenditure (% of GDP)               83\n",
              "Household final consumption expenditure  (% of GDP)                       83\n",
              "Gross capital formation (% of GDP)                                        83\n",
              "Gross capital formation, Private sector (% GDP)                          163\n",
              "Gross capital formation, Public sector (% GDP)                           163\n",
              "Exports of goods and services (% of GDP)                                  83\n",
              "Imports of goods and services (% of GDP)                                  83\n",
              "Central government, Fiscal Balance (Current US $)                        149\n",
              "Central government, total revenue and grants  (Current US $)             164\n",
              "Central government, total expenditure and net lending  (Current US $)    160\n",
              "Central government, Fiscal Balance (% of GDP)                            147\n",
              "Central government, total revenue and grants  (% of GDP)                 164\n",
              "Central government, total expenditure and net lending  (% of GDP)        160\n",
              "Current account balance (Net, BoP, cur. US$)                             118\n",
              "Current account balance (As % of GDP)                                    120\n",
              "Inflation, consumer prices (annual %)                                    154\n",
              "dtype: int64"
            ]
          },
          "metadata": {},
          "execution_count": 560
        }
      ]
    },
    {
      "cell_type": "code",
      "source": [
        "africa_df.dropna(subset=['Real GDP growth (annual %)'], inplace=True)"
      ],
      "metadata": {
        "id": "_ohZOczP7Deq"
      },
      "execution_count": 561,
      "outputs": []
    },
    {
      "cell_type": "code",
      "source": [
        "africa_df.dropna().shape[0]/africa_df.shape[0]"
      ],
      "metadata": {
        "colab": {
          "base_uri": "https://localhost:8080/"
        },
        "id": "boWPTHiv7ywn",
        "outputId": "119a83c3-33f8-49a9-ab04-862d6bd62362"
      },
      "execution_count": 562,
      "outputs": [
        {
          "output_type": "execute_result",
          "data": {
            "text/plain": [
              "0.8994638069705094"
            ]
          },
          "metadata": {},
          "execution_count": 562
        }
      ]
    },
    {
      "cell_type": "code",
      "source": [
        "africa_dfdropped = africa_df.dropna()\n",
        "\n",
        "africa_dfnotdropped = africa_df.copy()"
      ],
      "metadata": {
        "id": "OW8Uhf1A8lWf"
      },
      "execution_count": 563,
      "outputs": []
    },
    {
      "cell_type": "markdown",
      "source": [
        "The missing values represent such a small amount of the data so imputing might help us out here but I decided to drop the rows as we only lose 10% of data."
      ],
      "metadata": {
        "id": "q7jCkxwC4Umt"
      }
    },
    {
      "cell_type": "code",
      "source": [
        "africa_dfdropped['Real per Capita GDP Growth Rate (annual %)'].value_counts()"
      ],
      "metadata": {
        "colab": {
          "base_uri": "https://localhost:8080/"
        },
        "id": "dYt087MEwhya",
        "outputId": "de93a056-6c19-4083-a6cf-1e948a8ae6b9"
      },
      "execution_count": 564,
      "outputs": [
        {
          "output_type": "execute_result",
          "data": {
            "text/plain": [
              " 1.970000     7\n",
              " 1.340000     6\n",
              " 2.200000     5\n",
              " 0.880000     5\n",
              " 3.290000     5\n",
              "             ..\n",
              "-10.973042    1\n",
              " 6.317935     1\n",
              "-21.365892    1\n",
              " 29.747806    1\n",
              " 1.399660     1\n",
              "Name: Real per Capita GDP Growth Rate (annual %), Length: 1578, dtype: int64"
            ]
          },
          "metadata": {},
          "execution_count": 564
        }
      ]
    },
    {
      "cell_type": "code",
      "source": [
        "africa_dfdropped['Country'].value_counts()"
      ],
      "metadata": {
        "colab": {
          "base_uri": "https://localhost:8080/"
        },
        "id": "si_gvlB84zTV",
        "outputId": "bb89ec38-c0d0-44fb-ae72-088e575ec28a"
      },
      "execution_count": 565,
      "outputs": [
        {
          "output_type": "execute_result",
          "data": {
            "text/plain": [
              "Malawi                      42\n",
              "Niger                       42\n",
              "Ghana                       42\n",
              "Guinea                      42\n",
              "Kenya                       42\n",
              "Madagascar                  42\n",
              "Mali                        42\n",
              "Mauritius                   42\n",
              "Morocco                     42\n",
              "Mozambique                  42\n",
              "Rwanda                      42\n",
              "Gabon                       42\n",
              "Senegal                     42\n",
              "Seychelles                  42\n",
              "Sierra Leone                42\n",
              "South Africa                42\n",
              "Tanzania                    42\n",
              "Togo                        42\n",
              "Tunisia                     42\n",
              "Zambia                      42\n",
              "Gambia                      42\n",
              "Lesotho                     42\n",
              "Ethiopia                    42\n",
              "eSwatini                    42\n",
              "Benin                       42\n",
              "Equatorial Guinea           42\n",
              "Botswana                    42\n",
              "Burkina Faso                42\n",
              "Burundi                     42\n",
              "Egypt                       42\n",
              "Cameroon                    42\n",
              "Cabo Verde                  42\n",
              "Cote d'Ivoire               42\n",
              "Congo, Rep.                 42\n",
              "Central African Republic    42\n",
              "Uganda                      41\n",
              "Nigeria                     41\n",
              "Comoros                     40\n",
              "Guinea-Bissau               40\n",
              "Chad                        40\n",
              "Libya                       34\n",
              "Mauritania                  33\n",
              "Djibouti                    33\n",
              "Namibia                     33\n",
              "Algeria                     33\n",
              "Congo, Dem. Rep.            23\n",
              "Sudan                       23\n",
              "Angola                      23\n",
              "Liberia                     21\n",
              "Sao Tome and Principe       21\n",
              "Zimbabwe                    21\n",
              "Eritrea                     19\n",
              "Somalia                     12\n",
              "South Sudan                 12\n",
              "Name: Country, dtype: int64"
            ]
          },
          "metadata": {},
          "execution_count": 565
        }
      ]
    },
    {
      "cell_type": "markdown",
      "source": [
        "Cat values have no disrepancies\n",
        "> I want to predict GDP Growth per year but regionally rather than country by country; I'll do some feature engineering on the data before I impute, scale, etc."
      ],
      "metadata": {
        "id": "ojx6hWzYS0x_"
      }
    },
    {
      "cell_type": "code",
      "source": [
        "Northern_countries = ['Algeria', 'Egypt', 'Libya', 'Morocco', 'Sudan', 'Tunisia']\n",
        "\n",
        "Eastern_countries = ['Burundi', 'Comoros', 'Djibouti', 'Eritrea', 'Ethiopia', 'Kenya', 'Malawi', 'Mauritius', 'Mozambique', 'Rwanda', 'Seychelles', 'Somalia', 'South Sudan', 'Tanzania', 'Uganda', 'Zambia', 'Zimbabwe']\n",
        "\n",
        "Middle_countries = ['Angola', 'Cameroon', 'Central African Republic', 'Chad', 'Congo, Dem. Rep.', 'Congo, Rep.', 'Equatorial Guinea', 'Gabon', 'Sao Tome and Principe']\n",
        "\n",
        "Southern_countries = ['Botswana', 'eSwatini', 'Lesotho', 'Madagascar', 'Namibia', 'South Africa']\n",
        "\n",
        "Western_countries = ['Benin', 'Burkina Faso', 'Cabo Verde', \"Cote d'Ivoire\", 'Gambia', 'Ghana', 'Guinea', 'Guinea-Bissau', 'Liberia', 'Mali', 'Mauritania', 'Niger', 'Nigeria', 'Senegal', 'Sierra Leone', 'Togo' ]\n",
        "\n",
        "region = ['Northern Africa', 'Eastern Africa', 'Middle Africa', 'Southern Africa', 'Western Africa']"
      ],
      "metadata": {
        "id": "Nx2eiUiYfIm5"
      },
      "execution_count": 566,
      "outputs": []
    },
    {
      "cell_type": "code",
      "source": [
        "africa_dfdropped['region'] = 'missing'\n",
        "\n",
        "africa_dfdropped['region']"
      ],
      "metadata": {
        "colab": {
          "base_uri": "https://localhost:8080/"
        },
        "id": "Gr_cAIGj4ipV",
        "outputId": "4fb166e3-bebc-48ca-ff5c-6b62dcdf42d8"
      },
      "execution_count": 567,
      "outputs": [
        {
          "output_type": "stream",
          "name": "stderr",
          "text": [
            "/usr/local/lib/python3.7/dist-packages/ipykernel_launcher.py:1: SettingWithCopyWarning: \n",
            "A value is trying to be set on a copy of a slice from a DataFrame.\n",
            "Try using .loc[row_indexer,col_indexer] = value instead\n",
            "\n",
            "See the caveats in the documentation: https://pandas.pydata.org/pandas-docs/stable/user_guide/indexing.html#returning-a-view-versus-a-copy\n",
            "  \"\"\"Entry point for launching an IPython kernel.\n"
          ]
        },
        {
          "output_type": "execute_result",
          "data": {
            "text/plain": [
              "1       missing\n",
              "2       missing\n",
              "3       missing\n",
              "4       missing\n",
              "5       missing\n",
              "         ...   \n",
              "2317    missing\n",
              "2318    missing\n",
              "2319    missing\n",
              "2320    missing\n",
              "2321    missing\n",
              "Name: region, Length: 2013, dtype: object"
            ]
          },
          "metadata": {},
          "execution_count": 567
        }
      ]
    },
    {
      "cell_type": "code",
      "source": [
        "africa_dfdropped.loc[africa_df['Country'].isin(Northern_countries), 'region']= 'North Africa'"
      ],
      "metadata": {
        "id": "EK3z4gRl4_l-",
        "colab": {
          "base_uri": "https://localhost:8080/"
        },
        "outputId": "9a0f355c-bc0c-406d-d33b-a5dcbe5322bd"
      },
      "execution_count": 568,
      "outputs": [
        {
          "output_type": "stream",
          "name": "stderr",
          "text": [
            "/usr/local/lib/python3.7/dist-packages/pandas/core/indexing.py:1817: SettingWithCopyWarning: \n",
            "A value is trying to be set on a copy of a slice from a DataFrame.\n",
            "Try using .loc[row_indexer,col_indexer] = value instead\n",
            "\n",
            "See the caveats in the documentation: https://pandas.pydata.org/pandas-docs/stable/user_guide/indexing.html#returning-a-view-versus-a-copy\n",
            "  self._setitem_single_column(loc, value, pi)\n"
          ]
        }
      ]
    },
    {
      "cell_type": "code",
      "source": [
        "africa_dfdropped.loc[africa_df['Country'].isin(Eastern_countries), 'region']= 'East Africa'"
      ],
      "metadata": {
        "id": "tFQODMXz_Jt5",
        "colab": {
          "base_uri": "https://localhost:8080/"
        },
        "outputId": "8885fae4-ed32-49b8-ec5c-220904ba81a3"
      },
      "execution_count": 569,
      "outputs": [
        {
          "output_type": "stream",
          "name": "stderr",
          "text": [
            "/usr/local/lib/python3.7/dist-packages/pandas/core/indexing.py:1817: SettingWithCopyWarning: \n",
            "A value is trying to be set on a copy of a slice from a DataFrame.\n",
            "Try using .loc[row_indexer,col_indexer] = value instead\n",
            "\n",
            "See the caveats in the documentation: https://pandas.pydata.org/pandas-docs/stable/user_guide/indexing.html#returning-a-view-versus-a-copy\n",
            "  self._setitem_single_column(loc, value, pi)\n"
          ]
        }
      ]
    },
    {
      "cell_type": "code",
      "source": [
        "africa_dfdropped.loc[africa_df['Country'].isin(Middle_countries), 'region']= 'Middle Africa'"
      ],
      "metadata": {
        "id": "cmEusMVQ_Tzo",
        "colab": {
          "base_uri": "https://localhost:8080/"
        },
        "outputId": "cbb79b29-fc22-4405-e560-aacf0b8ba2fd"
      },
      "execution_count": 570,
      "outputs": [
        {
          "output_type": "stream",
          "name": "stderr",
          "text": [
            "/usr/local/lib/python3.7/dist-packages/pandas/core/indexing.py:1817: SettingWithCopyWarning: \n",
            "A value is trying to be set on a copy of a slice from a DataFrame.\n",
            "Try using .loc[row_indexer,col_indexer] = value instead\n",
            "\n",
            "See the caveats in the documentation: https://pandas.pydata.org/pandas-docs/stable/user_guide/indexing.html#returning-a-view-versus-a-copy\n",
            "  self._setitem_single_column(loc, value, pi)\n"
          ]
        }
      ]
    },
    {
      "cell_type": "code",
      "source": [
        "africa_dfdropped.loc[africa_df['Country'].isin(Southern_countries), 'region']= 'South Africa'"
      ],
      "metadata": {
        "id": "OgrnzaY5_ZKV",
        "colab": {
          "base_uri": "https://localhost:8080/"
        },
        "outputId": "ced531f8-b64b-42b9-eb4a-3f45ce33a2d2"
      },
      "execution_count": 571,
      "outputs": [
        {
          "output_type": "stream",
          "name": "stderr",
          "text": [
            "/usr/local/lib/python3.7/dist-packages/pandas/core/indexing.py:1817: SettingWithCopyWarning: \n",
            "A value is trying to be set on a copy of a slice from a DataFrame.\n",
            "Try using .loc[row_indexer,col_indexer] = value instead\n",
            "\n",
            "See the caveats in the documentation: https://pandas.pydata.org/pandas-docs/stable/user_guide/indexing.html#returning-a-view-versus-a-copy\n",
            "  self._setitem_single_column(loc, value, pi)\n"
          ]
        }
      ]
    },
    {
      "cell_type": "code",
      "source": [
        "africa_dfdropped.loc[africa_df['Country'].isin(Western_countries), 'region']= 'West Africa'"
      ],
      "metadata": {
        "id": "4fF47bDU_dkw",
        "colab": {
          "base_uri": "https://localhost:8080/"
        },
        "outputId": "1b514bbe-2fef-4945-c4c5-a71b283ab63d"
      },
      "execution_count": 572,
      "outputs": [
        {
          "output_type": "stream",
          "name": "stderr",
          "text": [
            "/usr/local/lib/python3.7/dist-packages/pandas/core/indexing.py:1817: SettingWithCopyWarning: \n",
            "A value is trying to be set on a copy of a slice from a DataFrame.\n",
            "Try using .loc[row_indexer,col_indexer] = value instead\n",
            "\n",
            "See the caveats in the documentation: https://pandas.pydata.org/pandas-docs/stable/user_guide/indexing.html#returning-a-view-versus-a-copy\n",
            "  self._setitem_single_column(loc, value, pi)\n"
          ]
        }
      ]
    },
    {
      "cell_type": "code",
      "source": [
        "africa_dfdropped['region'].value_counts()"
      ],
      "metadata": {
        "colab": {
          "base_uri": "https://localhost:8080/"
        },
        "id": "Vvf9sxl96Urs",
        "outputId": "523a7665-68e5-4807-a815-1f5e8e48cb9f"
      },
      "execution_count": 573,
      "outputs": [
        {
          "output_type": "execute_result",
          "data": {
            "text/plain": [
              "West Africa      639\n",
              "East Africa      598\n",
              "Middle Africa    317\n",
              "South Africa     243\n",
              "North Africa     216\n",
              "Name: region, dtype: int64"
            ]
          },
          "metadata": {},
          "execution_count": 573
        }
      ]
    },
    {
      "cell_type": "markdown",
      "source": [
        "###**EDA/Visualizations**"
      ],
      "metadata": {
        "id": "06L4pJy6ApJK"
      }
    },
    {
      "cell_type": "code",
      "source": [
        "corr = africa_dfdropped.corr()"
      ],
      "metadata": {
        "id": "aLKpI2QJA2aQ"
      },
      "execution_count": 574,
      "outputs": []
    },
    {
      "cell_type": "code",
      "source": [
        "corr"
      ],
      "metadata": {
        "colab": {
          "base_uri": "https://localhost:8080/",
          "height": 1000
        },
        "id": "vq7OaYeuA8As",
        "outputId": "0d785ce3-2406-4105-da34-81aea9a81432"
      },
      "execution_count": 575,
      "outputs": [
        {
          "output_type": "execute_result",
          "data": {
            "text/plain": [
              "                                                        Year  \\\n",
              "Year                                                1.000000   \n",
              "Real per Capita GDP Growth Rate (annual %)          0.027972   \n",
              "Real GDP growth (annual %)                          0.005856   \n",
              "Gross domestic product, (constant prices US$)       0.164395   \n",
              "Gross domestic product, current prices (current...  0.230295   \n",
              "Final consumption expenditure  (current US$)        0.247678   \n",
              "General government final consumption expenditur...  0.227272   \n",
              "Household final consumption expenditure (curren...  0.243047   \n",
              "Gross capital formation (current US$)               0.275335   \n",
              "Gross capital formation, Private sector  (curre...  0.278785   \n",
              "Gross capital formation, Public sector  (curren...  0.218465   \n",
              "Exports of goods and services (current US$)         0.251867   \n",
              "Imports of goods and services (current US$)         0.295218   \n",
              "Final consumption expenditure  (% of GDP)           0.217084   \n",
              "General government final consumption expenditur...  0.121672   \n",
              "Household final consumption expenditure  (% of ...  0.189632   \n",
              "Gross capital formation (% of GDP)                  0.260591   \n",
              "Gross capital formation, Private sector (% GDP)     0.167352   \n",
              "Gross capital formation, Public sector (% GDP)      0.163894   \n",
              "Exports of goods and services (% of GDP)            0.194761   \n",
              "Imports of goods and services (% of GDP)            0.172519   \n",
              "Central government, Fiscal Balance (Current US $)  -0.176682   \n",
              "Central government, total revenue and grants  (...  0.217554   \n",
              "Central government, total expenditure and net l...  0.226897   \n",
              "Central government, Fiscal Balance (% of GDP)       0.047670   \n",
              "Central government, total revenue and grants  (...  0.048390   \n",
              "Central government, total expenditure and net l...  0.013354   \n",
              "Current account balance (Net, BoP, cur. US$)       -0.136001   \n",
              "Current account balance (As % of GDP)              -0.064179   \n",
              "Inflation, consumer prices (annual %)              -0.110583   \n",
              "\n",
              "                                                    Real per Capita GDP Growth Rate (annual %)  \\\n",
              "Year                                                                                  0.027972   \n",
              "Real per Capita GDP Growth Rate (annual %)                                            1.000000   \n",
              "Real GDP growth (annual %)                                                            0.991238   \n",
              "Gross domestic product, (constant prices US$)                                        -0.002796   \n",
              "Gross domestic product, current prices (current...                                    0.006741   \n",
              "Final consumption expenditure  (current US$)                                          0.001247   \n",
              "General government final consumption expenditur...                                    0.005202   \n",
              "Household final consumption expenditure (curren...                                    0.000370   \n",
              "Gross capital formation (current US$)                                                 0.011572   \n",
              "Gross capital formation, Private sector  (curre...                                    0.001045   \n",
              "Gross capital formation, Public sector  (curren...                                    0.022902   \n",
              "Exports of goods and services (current US$)                                           0.042722   \n",
              "Imports of goods and services (current US$)                                           0.018495   \n",
              "Final consumption expenditure  (% of GDP)                                            -0.041870   \n",
              "General government final consumption expenditur...                                   -0.005799   \n",
              "Household final consumption expenditure  (% of ...                                   -0.042188   \n",
              "Gross capital formation (% of GDP)                                                    0.173155   \n",
              "Gross capital formation, Private sector (% GDP)                                       0.094403   \n",
              "Gross capital formation, Public sector (% GDP)                                        0.126818   \n",
              "Exports of goods and services (% of GDP)                                              0.130137   \n",
              "Imports of goods and services (% of GDP)                                              0.114992   \n",
              "Central government, Fiscal Balance (Current US $)                                     0.120627   \n",
              "Central government, total revenue and grants  (...                                    0.041103   \n",
              "Central government, total expenditure and net l...                                    0.003892   \n",
              "Central government, Fiscal Balance (% of GDP)                                         0.211300   \n",
              "Central government, total revenue and grants  (...                                    0.112116   \n",
              "Central government, total expenditure and net l...                                   -0.032489   \n",
              "Current account balance (Net, BoP, cur. US$)                                          0.137843   \n",
              "Current account balance (As % of GDP)                                                 0.076183   \n",
              "Inflation, consumer prices (annual %)                                                -0.092346   \n",
              "\n",
              "                                                    Real GDP growth (annual %)  \\\n",
              "Year                                                                  0.005856   \n",
              "Real per Capita GDP Growth Rate (annual %)                            0.991238   \n",
              "Real GDP growth (annual %)                                            1.000000   \n",
              "Gross domestic product, (constant prices US$)                        -0.017142   \n",
              "Gross domestic product, current prices (current...                   -0.005443   \n",
              "Final consumption expenditure  (current US$)                         -0.011328   \n",
              "General government final consumption expenditur...                   -0.014284   \n",
              "Household final consumption expenditure (curren...                   -0.010298   \n",
              "Gross capital formation (current US$)                                -0.001126   \n",
              "Gross capital formation, Private sector  (curre...                   -0.010579   \n",
              "Gross capital formation, Public sector  (curren...                    0.011240   \n",
              "Exports of goods and services (current US$)                           0.025016   \n",
              "Imports of goods and services (current US$)                          -0.000762   \n",
              "Final consumption expenditure  (% of GDP)                            -0.066201   \n",
              "General government final consumption expenditur...                   -0.047461   \n",
              "Household final consumption expenditure  (% of ...                   -0.054553   \n",
              "Gross capital formation (% of GDP)                                    0.167494   \n",
              "Gross capital formation, Private sector (% GDP)                       0.093103   \n",
              "Gross capital formation, Public sector (% GDP)                        0.120763   \n",
              "Exports of goods and services (% of GDP)                              0.105194   \n",
              "Imports of goods and services (% of GDP)                              0.081002   \n",
              "Central government, Fiscal Balance (Current US $)                     0.128407   \n",
              "Central government, total revenue and grants  (...                    0.020834   \n",
              "Central government, total expenditure and net l...                   -0.015143   \n",
              "Central government, Fiscal Balance (% of GDP)                         0.220729   \n",
              "Central government, total revenue and grants  (...                    0.076665   \n",
              "Central government, total expenditure and net l...                   -0.069710   \n",
              "Current account balance (Net, BoP, cur. US$)                          0.136618   \n",
              "Current account balance (As % of GDP)                                 0.058391   \n",
              "Inflation, consumer prices (annual %)                                -0.090963   \n",
              "\n",
              "                                                    Gross domestic product, (constant prices US$)  \\\n",
              "Year                                                                                     0.164395   \n",
              "Real per Capita GDP Growth Rate (annual %)                                              -0.002796   \n",
              "Real GDP growth (annual %)                                                              -0.017142   \n",
              "Gross domestic product, (constant prices US$)                                            1.000000   \n",
              "Gross domestic product, current prices (current...                                       0.952856   \n",
              "Final consumption expenditure  (current US$)                                             0.936487   \n",
              "General government final consumption expenditur...                                       0.870116   \n",
              "Household final consumption expenditure (curren...                                       0.916710   \n",
              "Gross capital formation (current US$)                                                    0.885333   \n",
              "Gross capital formation, Private sector  (curre...                                       0.847214   \n",
              "Gross capital formation, Public sector  (curren...                                       0.765731   \n",
              "Exports of goods and services (current US$)                                              0.876803   \n",
              "Imports of goods and services (current US$)                                              0.897748   \n",
              "Final consumption expenditure  (% of GDP)                                               -0.116562   \n",
              "General government final consumption expenditur...                                      -0.056339   \n",
              "Household final consumption expenditure  (% of ...                                      -0.104671   \n",
              "Gross capital formation (% of GDP)                                                       0.041643   \n",
              "Gross capital formation, Private sector (% GDP)                                          0.070085   \n",
              "Gross capital formation, Public sector (% GDP)                                          -0.020057   \n",
              "Exports of goods and services (% of GDP)                                                -0.036622   \n",
              "Imports of goods and services (% of GDP)                                                -0.183651   \n",
              "Central government, Fiscal Balance (Current US $)                                       -0.612255   \n",
              "Central government, total revenue and grants  (...                                       0.810812   \n",
              "Central government, total expenditure and net l...                                       0.834531   \n",
              "Central government, Fiscal Balance (% of GDP)                                           -0.020951   \n",
              "Central government, total revenue and grants  (...                                       0.000517   \n",
              "Central government, total expenditure and net l...                                       0.016042   \n",
              "Current account balance (Net, BoP, cur. US$)                                            -0.134619   \n",
              "Current account balance (As % of GDP)                                                    0.159888   \n",
              "Inflation, consumer prices (annual %)                                                   -0.012626   \n",
              "\n",
              "                                                    Gross domestic product, current prices (current US$)  \\\n",
              "Year                                                                                         0.230295      \n",
              "Real per Capita GDP Growth Rate (annual %)                                                   0.006741      \n",
              "Real GDP growth (annual %)                                                                  -0.005443      \n",
              "Gross domestic product, (constant prices US$)                                                0.952856      \n",
              "Gross domestic product, current prices (current...                                           1.000000      \n",
              "Final consumption expenditure  (current US$)                                                 0.982637      \n",
              "General government final consumption expenditur...                                           0.870632      \n",
              "Household final consumption expenditure (curren...                                           0.970791      \n",
              "Gross capital formation (current US$)                                                        0.921034      \n",
              "Gross capital formation, Private sector  (curre...                                           0.901551      \n",
              "Gross capital formation, Public sector  (curren...                                           0.770677      \n",
              "Exports of goods and services (current US$)                                                  0.896284      \n",
              "Imports of goods and services (current US$)                                                  0.925376      \n",
              "Final consumption expenditure  (% of GDP)                                                   -0.100307      \n",
              "General government final consumption expenditur...                                          -0.073082      \n",
              "Household final consumption expenditure  (% of ...                                          -0.082272      \n",
              "Gross capital formation (% of GDP)                                                           0.041788      \n",
              "Gross capital formation, Private sector (% GDP)                                              0.077386      \n",
              "Gross capital formation, Public sector (% GDP)                                              -0.027657      \n",
              "Exports of goods and services (% of GDP)                                                    -0.046917      \n",
              "Imports of goods and services (% of GDP)                                                    -0.177226      \n",
              "Central government, Fiscal Balance (Current US $)                                           -0.650395      \n",
              "Central government, total revenue and grants  (...                                           0.813915      \n",
              "Central government, total expenditure and net l...                                           0.847258      \n",
              "Central government, Fiscal Balance (% of GDP)                                               -0.018611      \n",
              "Central government, total revenue and grants  (...                                          -0.024952      \n",
              "Central government, total expenditure and net l...                                          -0.007399      \n",
              "Current account balance (Net, BoP, cur. US$)                                                -0.152258      \n",
              "Current account balance (As % of GDP)                                                        0.142584      \n",
              "Inflation, consumer prices (annual %)                                                       -0.024681      \n",
              "\n",
              "                                                    Final consumption expenditure  (current US$)  \\\n",
              "Year                                                                                    0.247678   \n",
              "Real per Capita GDP Growth Rate (annual %)                                              0.001247   \n",
              "Real GDP growth (annual %)                                                             -0.011328   \n",
              "Gross domestic product, (constant prices US$)                                           0.936487   \n",
              "Gross domestic product, current prices (current...                                      0.982637   \n",
              "Final consumption expenditure  (current US$)                                            1.000000   \n",
              "General government final consumption expenditur...                                      0.856713   \n",
              "Household final consumption expenditure (curren...                                      0.994105   \n",
              "Gross capital formation (current US$)                                                   0.888548   \n",
              "Gross capital formation, Private sector  (curre...                                      0.878688   \n",
              "Gross capital formation, Public sector  (curren...                                      0.732005   \n",
              "Exports of goods and services (current US$)                                             0.855116   \n",
              "Imports of goods and services (current US$)                                             0.918371   \n",
              "Final consumption expenditure  (% of GDP)                                              -0.028082   \n",
              "General government final consumption expenditur...                                     -0.059022   \n",
              "Household final consumption expenditure  (% of ...                                     -0.010797   \n",
              "Gross capital formation (% of GDP)                                                      0.028712   \n",
              "Gross capital formation, Private sector (% GDP)                                         0.064718   \n",
              "Gross capital formation, Public sector (% GDP)                                         -0.031324   \n",
              "Exports of goods and services (% of GDP)                                               -0.063913   \n",
              "Imports of goods and services (% of GDP)                                               -0.158017   \n",
              "Central government, Fiscal Balance (Current US $)                                      -0.702738   \n",
              "Central government, total revenue and grants  (...                                      0.788044   \n",
              "Central government, total expenditure and net l...                                      0.837844   \n",
              "Central government, Fiscal Balance (% of GDP)                                          -0.046995   \n",
              "Central government, total revenue and grants  (...                                     -0.036308   \n",
              "Central government, total expenditure and net l...                                     -0.001413   \n",
              "Current account balance (Net, BoP, cur. US$)                                           -0.218315   \n",
              "Current account balance (As % of GDP)                                                   0.104176   \n",
              "Inflation, consumer prices (annual %)                                                  -0.024806   \n",
              "\n",
              "                                                    General government final consumption expenditure (current US$)  \\\n",
              "Year                                                                                         0.227272                \n",
              "Real per Capita GDP Growth Rate (annual %)                                                   0.005202                \n",
              "Real GDP growth (annual %)                                                                  -0.014284                \n",
              "Gross domestic product, (constant prices US$)                                                0.870116                \n",
              "Gross domestic product, current prices (current...                                           0.870632                \n",
              "Final consumption expenditure  (current US$)                                                 0.856713                \n",
              "General government final consumption expenditur...                                           1.000000                \n",
              "Household final consumption expenditure (curren...                                           0.795737                \n",
              "Gross capital formation (current US$)                                                        0.852233                \n",
              "Gross capital formation, Private sector  (curre...                                           0.833782                \n",
              "Gross capital formation, Public sector  (curren...                                           0.713651                \n",
              "Exports of goods and services (current US$)                                                  0.921985                \n",
              "Imports of goods and services (current US$)                                                  0.940565                \n",
              "Final consumption expenditure  (% of GDP)                                                   -0.077727                \n",
              "General government final consumption expenditur...                                           0.093564                \n",
              "Household final consumption expenditure  (% of ...                                          -0.111394                \n",
              "Gross capital formation (% of GDP)                                                           0.085934                \n",
              "Gross capital formation, Private sector (% GDP)                                              0.107723                \n",
              "Gross capital formation, Public sector (% GDP)                                              -0.002015                \n",
              "Exports of goods and services (% of GDP)                                                     0.018512                \n",
              "Imports of goods and services (% of GDP)                                                    -0.111911                \n",
              "Central government, Fiscal Balance (Current US $)                                           -0.622551                \n",
              "Central government, total revenue and grants  (...                                           0.938496                \n",
              "Central government, total expenditure and net l...                                           0.944181                \n",
              "Central government, Fiscal Balance (% of GDP)                                               -0.047272                \n",
              "Central government, total revenue and grants  (...                                           0.101063                \n",
              "Central government, total expenditure and net l...                                           0.121152                \n",
              "Current account balance (Net, BoP, cur. US$)                                                -0.233831                \n",
              "Current account balance (As % of GDP)                                                        0.117792                \n",
              "Inflation, consumer prices (annual %)                                                       -0.045695                \n",
              "\n",
              "                                                    Household final consumption expenditure (current US$)  \\\n",
              "Year                                                                                         0.243047       \n",
              "Real per Capita GDP Growth Rate (annual %)                                                   0.000370       \n",
              "Real GDP growth (annual %)                                                                  -0.010298       \n",
              "Gross domestic product, (constant prices US$)                                                0.916710       \n",
              "Gross domestic product, current prices (current...                                           0.970791       \n",
              "Final consumption expenditure  (current US$)                                                 0.994105       \n",
              "General government final consumption expenditur...                                           0.795737       \n",
              "Household final consumption expenditure (curren...                                           1.000000       \n",
              "Gross capital formation (current US$)                                                        0.864180       \n",
              "Gross capital formation, Private sector  (curre...                                           0.856481       \n",
              "Gross capital formation, Public sector  (curren...                                           0.709500       \n",
              "Exports of goods and services (current US$)                                                  0.810261       \n",
              "Imports of goods and services (current US$)                                                  0.880629       \n",
              "Final consumption expenditure  (% of GDP)                                                   -0.016634       \n",
              "General government final consumption expenditur...                                          -0.088971       \n",
              "Household final consumption expenditure  (% of ...                                           0.010738       \n",
              "Gross capital formation (% of GDP)                                                           0.015649       \n",
              "Gross capital formation, Private sector (% GDP)                                              0.053347       \n",
              "Gross capital formation, Public sector (% GDP)                                              -0.036356       \n",
              "Exports of goods and services (% of GDP)                                                    -0.078937       \n",
              "Imports of goods and services (% of GDP)                                                    -0.162018       \n",
              "Central government, Fiscal Balance (Current US $)                                           -0.694285       \n",
              "Central government, total revenue and grants  (...                                           0.728035       \n",
              "Central government, total expenditure and net l...                                           0.785315       \n",
              "Central government, Fiscal Balance (% of GDP)                                               -0.045244       \n",
              "Central government, total revenue and grants  (...                                          -0.063877       \n",
              "Central government, total expenditure and net l...                                          -0.027126       \n",
              "Current account balance (Net, BoP, cur. US$)                                                -0.207191       \n",
              "Current account balance (As % of GDP)                                                        0.097562       \n",
              "Inflation, consumer prices (annual %)                                                       -0.019521       \n",
              "\n",
              "                                                    Gross capital formation (current US$)  \\\n",
              "Year                                                                             0.275335   \n",
              "Real per Capita GDP Growth Rate (annual %)                                       0.011572   \n",
              "Real GDP growth (annual %)                                                      -0.001126   \n",
              "Gross domestic product, (constant prices US$)                                    0.885333   \n",
              "Gross domestic product, current prices (current...                               0.921034   \n",
              "Final consumption expenditure  (current US$)                                     0.888548   \n",
              "General government final consumption expenditur...                               0.852233   \n",
              "Household final consumption expenditure (curren...                               0.864180   \n",
              "Gross capital formation (current US$)                                            1.000000   \n",
              "Gross capital formation, Private sector  (curre...                               0.936023   \n",
              "Gross capital formation, Public sector  (curren...                               0.891802   \n",
              "Exports of goods and services (current US$)                                      0.877448   \n",
              "Imports of goods and services (current US$)                                      0.923384   \n",
              "Final consumption expenditure  (% of GDP)                                       -0.120916   \n",
              "General government final consumption expenditur...                              -0.025895   \n",
              "Household final consumption expenditure  (% of ...                              -0.118908   \n",
              "Gross capital formation (% of GDP)                                               0.191681   \n",
              "Gross capital formation, Private sector (% GDP)                                  0.175612   \n",
              "Gross capital formation, Public sector (% GDP)                                   0.064512   \n",
              "Exports of goods and services (% of GDP)                                        -0.008160   \n",
              "Imports of goods and services (% of GDP)                                        -0.137616   \n",
              "Central government, Fiscal Balance (Current US $)                               -0.592544   \n",
              "Central government, total revenue and grants  (...                               0.826661   \n",
              "Central government, total expenditure and net l...                               0.844042   \n",
              "Central government, Fiscal Balance (% of GDP)                                   -0.025598   \n",
              "Central government, total revenue and grants  (...                               0.047013   \n",
              "Central government, total expenditure and net l...                               0.061126   \n",
              "Current account balance (Net, BoP, cur. US$)                                    -0.182555   \n",
              "Current account balance (As % of GDP)                                            0.126425   \n",
              "Inflation, consumer prices (annual %)                                           -0.045278   \n",
              "\n",
              "                                                    Gross capital formation, Private sector  (current US$)  \\\n",
              "Year                                                                                         0.278785        \n",
              "Real per Capita GDP Growth Rate (annual %)                                                   0.001045        \n",
              "Real GDP growth (annual %)                                                                  -0.010579        \n",
              "Gross domestic product, (constant prices US$)                                                0.847214        \n",
              "Gross domestic product, current prices (current...                                           0.901551        \n",
              "Final consumption expenditure  (current US$)                                                 0.878688        \n",
              "General government final consumption expenditur...                                           0.833782        \n",
              "Household final consumption expenditure (curren...                                           0.856481        \n",
              "Gross capital formation (current US$)                                                        0.936023        \n",
              "Gross capital formation, Private sector  (curre...                                           1.000000        \n",
              "Gross capital formation, Public sector  (curren...                                           0.675520        \n",
              "Exports of goods and services (current US$)                                                  0.859500        \n",
              "Imports of goods and services (current US$)                                                  0.900382        \n",
              "Final consumption expenditure  (% of GDP)                                                   -0.118278        \n",
              "General government final consumption expenditur...                                          -0.024122        \n",
              "Household final consumption expenditure  (% of ...                                          -0.116696        \n",
              "Gross capital formation (% of GDP)                                                           0.169392        \n",
              "Gross capital formation, Private sector (% GDP)                                              0.263219        \n",
              "Gross capital formation, Public sector (% GDP)                                              -0.058273        \n",
              "Exports of goods and services (% of GDP)                                                    -0.004832        \n",
              "Imports of goods and services (% of GDP)                                                    -0.132801        \n",
              "Central government, Fiscal Balance (Current US $)                                           -0.620261        \n",
              "Central government, total revenue and grants  (...                                           0.807311        \n",
              "Central government, total expenditure and net l...                                           0.834365        \n",
              "Central government, Fiscal Balance (% of GDP)                                               -0.031525        \n",
              "Central government, total revenue and grants  (...                                           0.044890        \n",
              "Central government, total expenditure and net l...                                           0.063065        \n",
              "Current account balance (Net, BoP, cur. US$)                                                -0.210861        \n",
              "Current account balance (As % of GDP)                                                        0.117062        \n",
              "Inflation, consumer prices (annual %)                                                       -0.047011        \n",
              "\n",
              "                                                    ...  \\\n",
              "Year                                                ...   \n",
              "Real per Capita GDP Growth Rate (annual %)          ...   \n",
              "Real GDP growth (annual %)                          ...   \n",
              "Gross domestic product, (constant prices US$)       ...   \n",
              "Gross domestic product, current prices (current...  ...   \n",
              "Final consumption expenditure  (current US$)        ...   \n",
              "General government final consumption expenditur...  ...   \n",
              "Household final consumption expenditure (curren...  ...   \n",
              "Gross capital formation (current US$)               ...   \n",
              "Gross capital formation, Private sector  (curre...  ...   \n",
              "Gross capital formation, Public sector  (curren...  ...   \n",
              "Exports of goods and services (current US$)         ...   \n",
              "Imports of goods and services (current US$)         ...   \n",
              "Final consumption expenditure  (% of GDP)           ...   \n",
              "General government final consumption expenditur...  ...   \n",
              "Household final consumption expenditure  (% of ...  ...   \n",
              "Gross capital formation (% of GDP)                  ...   \n",
              "Gross capital formation, Private sector (% GDP)     ...   \n",
              "Gross capital formation, Public sector (% GDP)      ...   \n",
              "Exports of goods and services (% of GDP)            ...   \n",
              "Imports of goods and services (% of GDP)            ...   \n",
              "Central government, Fiscal Balance (Current US $)   ...   \n",
              "Central government, total revenue and grants  (...  ...   \n",
              "Central government, total expenditure and net l...  ...   \n",
              "Central government, Fiscal Balance (% of GDP)       ...   \n",
              "Central government, total revenue and grants  (...  ...   \n",
              "Central government, total expenditure and net l...  ...   \n",
              "Current account balance (Net, BoP, cur. US$)        ...   \n",
              "Current account balance (As % of GDP)               ...   \n",
              "Inflation, consumer prices (annual %)               ...   \n",
              "\n",
              "                                                    Imports of goods and services (% of GDP)  \\\n",
              "Year                                                                                0.172519   \n",
              "Real per Capita GDP Growth Rate (annual %)                                          0.114992   \n",
              "Real GDP growth (annual %)                                                          0.081002   \n",
              "Gross domestic product, (constant prices US$)                                      -0.183651   \n",
              "Gross domestic product, current prices (current...                                 -0.177226   \n",
              "Final consumption expenditure  (current US$)                                       -0.158017   \n",
              "General government final consumption expenditur...                                 -0.111911   \n",
              "Household final consumption expenditure (curren...                                 -0.162018   \n",
              "Gross capital formation (current US$)                                              -0.137616   \n",
              "Gross capital formation, Private sector  (curre...                                 -0.132801   \n",
              "Gross capital formation, Public sector  (curren...                                 -0.117598   \n",
              "Exports of goods and services (current US$)                                        -0.099949   \n",
              "Imports of goods and services (current US$)                                        -0.082931   \n",
              "Final consumption expenditure  (% of GDP)                                           0.399782   \n",
              "General government final consumption expenditur...                                  0.488187   \n",
              "Household final consumption expenditure  (% of ...                                  0.265447   \n",
              "Gross capital formation (% of GDP)                                                  0.545845   \n",
              "Gross capital formation, Private sector (% GDP)                                     0.286370   \n",
              "Gross capital formation, Public sector (% GDP)                                      0.411771   \n",
              "Exports of goods and services (% of GDP)                                            0.647732   \n",
              "Imports of goods and services (% of GDP)                                            1.000000   \n",
              "Central government, Fiscal Balance (Current US $)                                   0.073117   \n",
              "Central government, total revenue and grants  (...                                 -0.112119   \n",
              "Central government, total expenditure and net l...                                 -0.111962   \n",
              "Central government, Fiscal Balance (% of GDP)                                      -0.005254   \n",
              "Central government, total revenue and grants  (...                                  0.429205   \n",
              "Central government, total expenditure and net l...                                  0.381089   \n",
              "Current account balance (Net, BoP, cur. US$)                                       -0.029919   \n",
              "Current account balance (As % of GDP)                                              -0.308734   \n",
              "Inflation, consumer prices (annual %)                                              -0.097607   \n",
              "\n",
              "                                                    Central government, Fiscal Balance (Current US $)  \\\n",
              "Year                                                                                        -0.176682   \n",
              "Real per Capita GDP Growth Rate (annual %)                                                   0.120627   \n",
              "Real GDP growth (annual %)                                                                   0.128407   \n",
              "Gross domestic product, (constant prices US$)                                               -0.612255   \n",
              "Gross domestic product, current prices (current...                                          -0.650395   \n",
              "Final consumption expenditure  (current US$)                                                -0.702738   \n",
              "General government final consumption expenditur...                                          -0.622551   \n",
              "Household final consumption expenditure (curren...                                          -0.694285   \n",
              "Gross capital formation (current US$)                                                       -0.592544   \n",
              "Gross capital formation, Private sector  (curre...                                          -0.620261   \n",
              "Gross capital formation, Public sector  (curren...                                          -0.444068   \n",
              "Exports of goods and services (current US$)                                                 -0.474813   \n",
              "Imports of goods and services (current US$)                                                 -0.655288   \n",
              "Final consumption expenditure  (% of GDP)                                                   -0.068366   \n",
              "General government final consumption expenditur...                                          -0.033529   \n",
              "Household final consumption expenditure  (% of ...                                          -0.061245   \n",
              "Gross capital formation (% of GDP)                                                          -0.040369   \n",
              "Gross capital formation, Private sector (% GDP)                                             -0.068956   \n",
              "Gross capital formation, Public sector (% GDP)                                               0.020520   \n",
              "Exports of goods and services (% of GDP)                                                     0.111144   \n",
              "Imports of goods and services (% of GDP)                                                     0.073117   \n",
              "Central government, Fiscal Balance (Current US $)                                            1.000000   \n",
              "Central government, total revenue and grants  (...                                          -0.546993   \n",
              "Central government, total expenditure and net l...                                          -0.706671   \n",
              "Central government, Fiscal Balance (% of GDP)                                                0.400885   \n",
              "Central government, total revenue and grants  (...                                           0.037556   \n",
              "Central government, total expenditure and net l...                                          -0.207490   \n",
              "Current account balance (Net, BoP, cur. US$)                                                 0.556633   \n",
              "Current account balance (As % of GDP)                                                        0.132899   \n",
              "Inflation, consumer prices (annual %)                                                        0.004492   \n",
              "\n",
              "                                                    Central government, total revenue and grants  (Current US $)  \\\n",
              "Year                                                                                         0.217554              \n",
              "Real per Capita GDP Growth Rate (annual %)                                                   0.041103              \n",
              "Real GDP growth (annual %)                                                                   0.020834              \n",
              "Gross domestic product, (constant prices US$)                                                0.810812              \n",
              "Gross domestic product, current prices (current...                                           0.813915              \n",
              "Final consumption expenditure  (current US$)                                                 0.788044              \n",
              "General government final consumption expenditur...                                           0.938496              \n",
              "Household final consumption expenditure (curren...                                           0.728035              \n",
              "Gross capital formation (current US$)                                                        0.826661              \n",
              "Gross capital formation, Private sector  (curre...                                           0.807311              \n",
              "Gross capital formation, Public sector  (curren...                                           0.694105              \n",
              "Exports of goods and services (current US$)                                                  0.912846              \n",
              "Imports of goods and services (current US$)                                                  0.908204              \n",
              "Final consumption expenditure  (% of GDP)                                                   -0.121260              \n",
              "General government final consumption expenditur...                                           0.069026              \n",
              "Household final consumption expenditure  (% of ...                                          -0.149378              \n",
              "Gross capital formation (% of GDP)                                                           0.118500              \n",
              "Gross capital formation, Private sector (% GDP)                                              0.131538              \n",
              "Gross capital formation, Public sector (% GDP)                                               0.015369              \n",
              "Exports of goods and services (% of GDP)                                                     0.061660              \n",
              "Imports of goods and services (% of GDP)                                                    -0.112119              \n",
              "Central government, Fiscal Balance (Current US $)                                           -0.546993              \n",
              "Central government, total revenue and grants  (...                                           1.000000              \n",
              "Central government, total expenditure and net l...                                           0.978050              \n",
              "Central government, Fiscal Balance (% of GDP)                                               -0.007804              \n",
              "Central government, total revenue and grants  (...                                           0.205656              \n",
              "Central government, total expenditure and net l...                                           0.190872              \n",
              "Current account balance (Net, BoP, cur. US$)                                                -0.089167              \n",
              "Current account balance (As % of GDP)                                                        0.188818              \n",
              "Inflation, consumer prices (annual %)                                                       -0.045931              \n",
              "\n",
              "                                                    Central government, total expenditure and net lending  (Current US $)  \\\n",
              "Year                                                                                         0.226897                       \n",
              "Real per Capita GDP Growth Rate (annual %)                                                   0.003892                       \n",
              "Real GDP growth (annual %)                                                                  -0.015143                       \n",
              "Gross domestic product, (constant prices US$)                                                0.834531                       \n",
              "Gross domestic product, current prices (current...                                           0.847258                       \n",
              "Final consumption expenditure  (current US$)                                                 0.837844                       \n",
              "General government final consumption expenditur...                                           0.944181                       \n",
              "Household final consumption expenditure (curren...                                           0.785315                       \n",
              "Gross capital formation (current US$)                                                        0.844042                       \n",
              "Gross capital formation, Private sector  (curre...                                           0.834365                       \n",
              "Gross capital formation, Public sector  (curren...                                           0.695741                       \n",
              "Exports of goods and services (current US$)                                                  0.888961                       \n",
              "Imports of goods and services (current US$)                                                  0.928308                       \n",
              "Final consumption expenditure  (% of GDP)                                                   -0.086068                       \n",
              "General government final consumption expenditur...                                           0.066086                       \n",
              "Household final consumption expenditure  (% of ...                                          -0.111446                       \n",
              "Gross capital formation (% of GDP)                                                           0.110023                       \n",
              "Gross capital formation, Private sector (% GDP)                                              0.128314                       \n",
              "Gross capital formation, Public sector (% GDP)                                               0.007672                       \n",
              "Exports of goods and services (% of GDP)                                                     0.025849                       \n",
              "Imports of goods and services (% of GDP)                                                    -0.111962                       \n",
              "Central government, Fiscal Balance (Current US $)                                           -0.706671                       \n",
              "Central government, total revenue and grants  (...                                           0.978050                       \n",
              "Central government, total expenditure and net l...                                           1.000000                       \n",
              "Central government, Fiscal Balance (% of GDP)                                               -0.106180                       \n",
              "Central government, total revenue and grants  (...                                           0.163508                       \n",
              "Central government, total expenditure and net l...                                           0.214134                       \n",
              "Current account balance (Net, BoP, cur. US$)                                                -0.209717                       \n",
              "Current account balance (As % of GDP)                                                        0.126600                       \n",
              "Inflation, consumer prices (annual %)                                                       -0.039625                       \n",
              "\n",
              "                                                    Central government, Fiscal Balance (% of GDP)  \\\n",
              "Year                                                                                     0.047670   \n",
              "Real per Capita GDP Growth Rate (annual %)                                               0.211300   \n",
              "Real GDP growth (annual %)                                                               0.220729   \n",
              "Gross domestic product, (constant prices US$)                                           -0.020951   \n",
              "Gross domestic product, current prices (current...                                      -0.018611   \n",
              "Final consumption expenditure  (current US$)                                            -0.046995   \n",
              "General government final consumption expenditur...                                      -0.047272   \n",
              "Household final consumption expenditure (curren...                                      -0.045244   \n",
              "Gross capital formation (current US$)                                                   -0.025598   \n",
              "Gross capital formation, Private sector  (curre...                                      -0.031525   \n",
              "Gross capital formation, Public sector  (curren...                                      -0.013103   \n",
              "Exports of goods and services (current US$)                                              0.035363   \n",
              "Imports of goods and services (current US$)                                             -0.043071   \n",
              "Final consumption expenditure  (% of GDP)                                               -0.165257   \n",
              "General government final consumption expenditur...                                      -0.186724   \n",
              "Household final consumption expenditure  (% of ...                                      -0.114518   \n",
              "Gross capital formation (% of GDP)                                                      -0.023161   \n",
              "Gross capital formation, Private sector (% GDP)                                         -0.047051   \n",
              "Gross capital formation, Public sector (% GDP)                                           0.019770   \n",
              "Exports of goods and services (% of GDP)                                                 0.187263   \n",
              "Imports of goods and services (% of GDP)                                                -0.005254   \n",
              "Central government, Fiscal Balance (Current US $)                                        0.400885   \n",
              "Central government, total revenue and grants  (...                                      -0.007804   \n",
              "Central government, total expenditure and net l...                                      -0.106180   \n",
              "Central government, Fiscal Balance (% of GDP)                                            1.000000   \n",
              "Central government, total revenue and grants  (...                                       0.056717   \n",
              "Central government, total expenditure and net l...                                      -0.487892   \n",
              "Current account balance (Net, BoP, cur. US$)                                             0.285140   \n",
              "Current account balance (As % of GDP)                                                    0.305790   \n",
              "Inflation, consumer prices (annual %)                                                   -0.068536   \n",
              "\n",
              "                                                    Central government, total revenue and grants  (% of GDP)  \\\n",
              "Year                                                                                         0.048390          \n",
              "Real per Capita GDP Growth Rate (annual %)                                                   0.112116          \n",
              "Real GDP growth (annual %)                                                                   0.076665          \n",
              "Gross domestic product, (constant prices US$)                                                0.000517          \n",
              "Gross domestic product, current prices (current...                                          -0.024952          \n",
              "Final consumption expenditure  (current US$)                                                -0.036308          \n",
              "General government final consumption expenditur...                                           0.101063          \n",
              "Household final consumption expenditure (curren...                                          -0.063877          \n",
              "Gross capital formation (current US$)                                                        0.047013          \n",
              "Gross capital formation, Private sector  (curre...                                           0.044890          \n",
              "Gross capital formation, Public sector  (curren...                                           0.040789          \n",
              "Exports of goods and services (current US$)                                                  0.132175          \n",
              "Imports of goods and services (current US$)                                                  0.077771          \n",
              "Final consumption expenditure  (% of GDP)                                                    0.068245          \n",
              "General government final consumption expenditur...                                           0.606589          \n",
              "Household final consumption expenditure  (% of ...                                          -0.120673          \n",
              "Gross capital formation (% of GDP)                                                           0.421615          \n",
              "Gross capital formation, Private sector (% GDP)                                              0.290654          \n",
              "Gross capital formation, Public sector (% GDP)                                               0.243930          \n",
              "Exports of goods and services (% of GDP)                                                     0.466515          \n",
              "Imports of goods and services (% of GDP)                                                     0.429205          \n",
              "Central government, Fiscal Balance (Current US $)                                            0.037556          \n",
              "Central government, total revenue and grants  (...                                           0.205656          \n",
              "Central government, total expenditure and net l...                                           0.163508          \n",
              "Central government, Fiscal Balance (% of GDP)                                                0.056717          \n",
              "Central government, total revenue and grants  (...                                           1.000000          \n",
              "Central government, total expenditure and net l...                                           0.789410          \n",
              "Current account balance (Net, BoP, cur. US$)                                                 0.155843          \n",
              "Current account balance (As % of GDP)                                                        0.094675          \n",
              "Inflation, consumer prices (annual %)                                                       -0.077649          \n",
              "\n",
              "                                                    Central government, total expenditure and net lending  (% of GDP)  \\\n",
              "Year                                                                                         0.013354                   \n",
              "Real per Capita GDP Growth Rate (annual %)                                                  -0.032489                   \n",
              "Real GDP growth (annual %)                                                                  -0.069710                   \n",
              "Gross domestic product, (constant prices US$)                                                0.016042                   \n",
              "Gross domestic product, current prices (current...                                          -0.007399                   \n",
              "Final consumption expenditure  (current US$)                                                -0.001413                   \n",
              "General government final consumption expenditur...                                           0.121152                   \n",
              "Household final consumption expenditure (curren...                                          -0.027126                   \n",
              "Gross capital formation (current US$)                                                        0.061126                   \n",
              "Gross capital formation, Private sector  (curre...                                           0.063065                   \n",
              "Gross capital formation, Public sector  (curren...                                           0.046994                   \n",
              "Exports of goods and services (current US$)                                                  0.102761                   \n",
              "Imports of goods and services (current US$)                                                  0.099657                   \n",
              "Final consumption expenditure  (% of GDP)                                                    0.155608                   \n",
              "General government final consumption expenditur...                                           0.645947                   \n",
              "Household final consumption expenditure  (% of ...                                          -0.041305                   \n",
              "Gross capital formation (% of GDP)                                                           0.387519                   \n",
              "Gross capital formation, Private sector (% GDP)                                              0.285932                   \n",
              "Gross capital formation, Public sector (% GDP)                                               0.204159                   \n",
              "Exports of goods and services (% of GDP)                                                     0.301040                   \n",
              "Imports of goods and services (% of GDP)                                                     0.381089                   \n",
              "Central government, Fiscal Balance (Current US $)                                           -0.207490                   \n",
              "Central government, total revenue and grants  (...                                           0.190872                   \n",
              "Central government, total expenditure and net l...                                           0.214134                   \n",
              "Central government, Fiscal Balance (% of GDP)                                               -0.487892                   \n",
              "Central government, total revenue and grants  (...                                           0.789410                   \n",
              "Central government, total expenditure and net l...                                           1.000000                   \n",
              "Current account balance (Net, BoP, cur. US$)                                                -0.029393                   \n",
              "Current account balance (As % of GDP)                                                       -0.096394                   \n",
              "Inflation, consumer prices (annual %)                                                       -0.028653                   \n",
              "\n",
              "                                                    Current account balance (Net, BoP, cur. US$)  \\\n",
              "Year                                                                                   -0.136001   \n",
              "Real per Capita GDP Growth Rate (annual %)                                              0.137843   \n",
              "Real GDP growth (annual %)                                                              0.136618   \n",
              "Gross domestic product, (constant prices US$)                                          -0.134619   \n",
              "Gross domestic product, current prices (current...                                     -0.152258   \n",
              "Final consumption expenditure  (current US$)                                           -0.218315   \n",
              "General government final consumption expenditur...                                     -0.233831   \n",
              "Household final consumption expenditure (curren...                                     -0.207191   \n",
              "Gross capital formation (current US$)                                                  -0.182555   \n",
              "Gross capital formation, Private sector  (curre...                                     -0.210861   \n",
              "Gross capital formation, Public sector  (curren...                                     -0.111400   \n",
              "Exports of goods and services (current US$)                                             0.012140   \n",
              "Imports of goods and services (current US$)                                            -0.254701   \n",
              "Final consumption expenditure  (% of GDP)                                              -0.148152   \n",
              "General government final consumption expenditur...                                     -0.038857   \n",
              "Household final consumption expenditure  (% of ...                                     -0.143433   \n",
              "Gross capital formation (% of GDP)                                                     -0.068889   \n",
              "Gross capital formation, Private sector (% GDP)                                        -0.074006   \n",
              "Gross capital formation, Public sector (% GDP)                                         -0.011570   \n",
              "Exports of goods and services (% of GDP)                                                0.149843   \n",
              "Imports of goods and services (% of GDP)                                               -0.029919   \n",
              "Central government, Fiscal Balance (Current US $)                                       0.556633   \n",
              "Central government, total revenue and grants  (...                                     -0.089167   \n",
              "Central government, total expenditure and net l...                                     -0.209717   \n",
              "Central government, Fiscal Balance (% of GDP)                                           0.285140   \n",
              "Central government, total revenue and grants  (...                                      0.155843   \n",
              "Central government, total expenditure and net l...                                     -0.029393   \n",
              "Current account balance (Net, BoP, cur. US$)                                            1.000000   \n",
              "Current account balance (As % of GDP)                                                   0.413231   \n",
              "Inflation, consumer prices (annual %)                                                   0.006089   \n",
              "\n",
              "                                                    Current account balance (As % of GDP)  \\\n",
              "Year                                                                            -0.064179   \n",
              "Real per Capita GDP Growth Rate (annual %)                                       0.076183   \n",
              "Real GDP growth (annual %)                                                       0.058391   \n",
              "Gross domestic product, (constant prices US$)                                    0.159888   \n",
              "Gross domestic product, current prices (current...                               0.142584   \n",
              "Final consumption expenditure  (current US$)                                     0.104176   \n",
              "General government final consumption expenditur...                               0.117792   \n",
              "Household final consumption expenditure (curren...                               0.097562   \n",
              "Gross capital formation (current US$)                                            0.126425   \n",
              "Gross capital formation, Private sector  (curre...                               0.117062   \n",
              "Gross capital formation, Public sector  (curren...                               0.114386   \n",
              "Exports of goods and services (current US$)                                      0.218295   \n",
              "Imports of goods and services (current US$)                                      0.115059   \n",
              "Final consumption expenditure  (% of GDP)                                       -0.303454   \n",
              "General government final consumption expenditur...                              -0.072105   \n",
              "Household final consumption expenditure  (% of ...                              -0.296156   \n",
              "Gross capital formation (% of GDP)                                              -0.332898   \n",
              "Gross capital formation, Private sector (% GDP)                                 -0.211836   \n",
              "Gross capital formation, Public sector (% GDP)                                  -0.211439   \n",
              "Exports of goods and services (% of GDP)                                         0.146862   \n",
              "Imports of goods and services (% of GDP)                                        -0.308734   \n",
              "Central government, Fiscal Balance (Current US $)                                0.132899   \n",
              "Central government, total revenue and grants  (...                               0.188818   \n",
              "Central government, total expenditure and net l...                               0.126600   \n",
              "Central government, Fiscal Balance (% of GDP)                                    0.305790   \n",
              "Central government, total revenue and grants  (...                               0.094675   \n",
              "Central government, total expenditure and net l...                              -0.096394   \n",
              "Current account balance (Net, BoP, cur. US$)                                     0.413231   \n",
              "Current account balance (As % of GDP)                                            1.000000   \n",
              "Inflation, consumer prices (annual %)                                            0.008840   \n",
              "\n",
              "                                                    Inflation, consumer prices (annual %)  \n",
              "Year                                                                            -0.110583  \n",
              "Real per Capita GDP Growth Rate (annual %)                                      -0.092346  \n",
              "Real GDP growth (annual %)                                                      -0.090963  \n",
              "Gross domestic product, (constant prices US$)                                   -0.012626  \n",
              "Gross domestic product, current prices (current...                              -0.024681  \n",
              "Final consumption expenditure  (current US$)                                    -0.024806  \n",
              "General government final consumption expenditur...                              -0.045695  \n",
              "Household final consumption expenditure (curren...                              -0.019521  \n",
              "Gross capital formation (current US$)                                           -0.045278  \n",
              "Gross capital formation, Private sector  (curre...                              -0.047011  \n",
              "Gross capital formation, Public sector  (curren...                              -0.034428  \n",
              "Exports of goods and services (current US$)                                     -0.045250  \n",
              "Imports of goods and services (current US$)                                     -0.048073  \n",
              "Final consumption expenditure  (% of GDP)                                       -0.038423  \n",
              "General government final consumption expenditur...                              -0.130801  \n",
              "Household final consumption expenditure  (% of ...                               0.001095  \n",
              "Gross capital formation (% of GDP)                                              -0.153529  \n",
              "Gross capital formation, Private sector (% GDP)                                 -0.134110  \n",
              "Gross capital formation, Public sector (% GDP)                                  -0.058649  \n",
              "Exports of goods and services (% of GDP)                                        -0.096042  \n",
              "Imports of goods and services (% of GDP)                                        -0.097607  \n",
              "Central government, Fiscal Balance (Current US $)                                0.004492  \n",
              "Central government, total revenue and grants  (...                              -0.045931  \n",
              "Central government, total expenditure and net l...                              -0.039625  \n",
              "Central government, Fiscal Balance (% of GDP)                                   -0.068536  \n",
              "Central government, total revenue and grants  (...                              -0.077649  \n",
              "Central government, total expenditure and net l...                              -0.028653  \n",
              "Current account balance (Net, BoP, cur. US$)                                     0.006089  \n",
              "Current account balance (As % of GDP)                                            0.008840  \n",
              "Inflation, consumer prices (annual %)                                            1.000000  \n",
              "\n",
              "[30 rows x 30 columns]"
            ],
            "text/html": [
              "\n",
              "  <div id=\"df-7b762484-bc88-4df4-a794-2cdb136119e1\">\n",
              "    <div class=\"colab-df-container\">\n",
              "      <div>\n",
              "<style scoped>\n",
              "    .dataframe tbody tr th:only-of-type {\n",
              "        vertical-align: middle;\n",
              "    }\n",
              "\n",
              "    .dataframe tbody tr th {\n",
              "        vertical-align: top;\n",
              "    }\n",
              "\n",
              "    .dataframe thead th {\n",
              "        text-align: right;\n",
              "    }\n",
              "</style>\n",
              "<table border=\"1\" class=\"dataframe\">\n",
              "  <thead>\n",
              "    <tr style=\"text-align: right;\">\n",
              "      <th></th>\n",
              "      <th>Year</th>\n",
              "      <th>Real per Capita GDP Growth Rate (annual %)</th>\n",
              "      <th>Real GDP growth (annual %)</th>\n",
              "      <th>Gross domestic product, (constant prices US$)</th>\n",
              "      <th>Gross domestic product, current prices (current US$)</th>\n",
              "      <th>Final consumption expenditure  (current US$)</th>\n",
              "      <th>General government final consumption expenditure (current US$)</th>\n",
              "      <th>Household final consumption expenditure (current US$)</th>\n",
              "      <th>Gross capital formation (current US$)</th>\n",
              "      <th>Gross capital formation, Private sector  (current US$)</th>\n",
              "      <th>...</th>\n",
              "      <th>Imports of goods and services (% of GDP)</th>\n",
              "      <th>Central government, Fiscal Balance (Current US $)</th>\n",
              "      <th>Central government, total revenue and grants  (Current US $)</th>\n",
              "      <th>Central government, total expenditure and net lending  (Current US $)</th>\n",
              "      <th>Central government, Fiscal Balance (% of GDP)</th>\n",
              "      <th>Central government, total revenue and grants  (% of GDP)</th>\n",
              "      <th>Central government, total expenditure and net lending  (% of GDP)</th>\n",
              "      <th>Current account balance (Net, BoP, cur. US$)</th>\n",
              "      <th>Current account balance (As % of GDP)</th>\n",
              "      <th>Inflation, consumer prices (annual %)</th>\n",
              "    </tr>\n",
              "  </thead>\n",
              "  <tbody>\n",
              "    <tr>\n",
              "      <th>Year</th>\n",
              "      <td>1.000000</td>\n",
              "      <td>0.027972</td>\n",
              "      <td>0.005856</td>\n",
              "      <td>0.164395</td>\n",
              "      <td>0.230295</td>\n",
              "      <td>0.247678</td>\n",
              "      <td>0.227272</td>\n",
              "      <td>0.243047</td>\n",
              "      <td>0.275335</td>\n",
              "      <td>0.278785</td>\n",
              "      <td>...</td>\n",
              "      <td>0.172519</td>\n",
              "      <td>-0.176682</td>\n",
              "      <td>0.217554</td>\n",
              "      <td>0.226897</td>\n",
              "      <td>0.047670</td>\n",
              "      <td>0.048390</td>\n",
              "      <td>0.013354</td>\n",
              "      <td>-0.136001</td>\n",
              "      <td>-0.064179</td>\n",
              "      <td>-0.110583</td>\n",
              "    </tr>\n",
              "    <tr>\n",
              "      <th>Real per Capita GDP Growth Rate (annual %)</th>\n",
              "      <td>0.027972</td>\n",
              "      <td>1.000000</td>\n",
              "      <td>0.991238</td>\n",
              "      <td>-0.002796</td>\n",
              "      <td>0.006741</td>\n",
              "      <td>0.001247</td>\n",
              "      <td>0.005202</td>\n",
              "      <td>0.000370</td>\n",
              "      <td>0.011572</td>\n",
              "      <td>0.001045</td>\n",
              "      <td>...</td>\n",
              "      <td>0.114992</td>\n",
              "      <td>0.120627</td>\n",
              "      <td>0.041103</td>\n",
              "      <td>0.003892</td>\n",
              "      <td>0.211300</td>\n",
              "      <td>0.112116</td>\n",
              "      <td>-0.032489</td>\n",
              "      <td>0.137843</td>\n",
              "      <td>0.076183</td>\n",
              "      <td>-0.092346</td>\n",
              "    </tr>\n",
              "    <tr>\n",
              "      <th>Real GDP growth (annual %)</th>\n",
              "      <td>0.005856</td>\n",
              "      <td>0.991238</td>\n",
              "      <td>1.000000</td>\n",
              "      <td>-0.017142</td>\n",
              "      <td>-0.005443</td>\n",
              "      <td>-0.011328</td>\n",
              "      <td>-0.014284</td>\n",
              "      <td>-0.010298</td>\n",
              "      <td>-0.001126</td>\n",
              "      <td>-0.010579</td>\n",
              "      <td>...</td>\n",
              "      <td>0.081002</td>\n",
              "      <td>0.128407</td>\n",
              "      <td>0.020834</td>\n",
              "      <td>-0.015143</td>\n",
              "      <td>0.220729</td>\n",
              "      <td>0.076665</td>\n",
              "      <td>-0.069710</td>\n",
              "      <td>0.136618</td>\n",
              "      <td>0.058391</td>\n",
              "      <td>-0.090963</td>\n",
              "    </tr>\n",
              "    <tr>\n",
              "      <th>Gross domestic product, (constant prices US$)</th>\n",
              "      <td>0.164395</td>\n",
              "      <td>-0.002796</td>\n",
              "      <td>-0.017142</td>\n",
              "      <td>1.000000</td>\n",
              "      <td>0.952856</td>\n",
              "      <td>0.936487</td>\n",
              "      <td>0.870116</td>\n",
              "      <td>0.916710</td>\n",
              "      <td>0.885333</td>\n",
              "      <td>0.847214</td>\n",
              "      <td>...</td>\n",
              "      <td>-0.183651</td>\n",
              "      <td>-0.612255</td>\n",
              "      <td>0.810812</td>\n",
              "      <td>0.834531</td>\n",
              "      <td>-0.020951</td>\n",
              "      <td>0.000517</td>\n",
              "      <td>0.016042</td>\n",
              "      <td>-0.134619</td>\n",
              "      <td>0.159888</td>\n",
              "      <td>-0.012626</td>\n",
              "    </tr>\n",
              "    <tr>\n",
              "      <th>Gross domestic product, current prices (current US$)</th>\n",
              "      <td>0.230295</td>\n",
              "      <td>0.006741</td>\n",
              "      <td>-0.005443</td>\n",
              "      <td>0.952856</td>\n",
              "      <td>1.000000</td>\n",
              "      <td>0.982637</td>\n",
              "      <td>0.870632</td>\n",
              "      <td>0.970791</td>\n",
              "      <td>0.921034</td>\n",
              "      <td>0.901551</td>\n",
              "      <td>...</td>\n",
              "      <td>-0.177226</td>\n",
              "      <td>-0.650395</td>\n",
              "      <td>0.813915</td>\n",
              "      <td>0.847258</td>\n",
              "      <td>-0.018611</td>\n",
              "      <td>-0.024952</td>\n",
              "      <td>-0.007399</td>\n",
              "      <td>-0.152258</td>\n",
              "      <td>0.142584</td>\n",
              "      <td>-0.024681</td>\n",
              "    </tr>\n",
              "    <tr>\n",
              "      <th>Final consumption expenditure  (current US$)</th>\n",
              "      <td>0.247678</td>\n",
              "      <td>0.001247</td>\n",
              "      <td>-0.011328</td>\n",
              "      <td>0.936487</td>\n",
              "      <td>0.982637</td>\n",
              "      <td>1.000000</td>\n",
              "      <td>0.856713</td>\n",
              "      <td>0.994105</td>\n",
              "      <td>0.888548</td>\n",
              "      <td>0.878688</td>\n",
              "      <td>...</td>\n",
              "      <td>-0.158017</td>\n",
              "      <td>-0.702738</td>\n",
              "      <td>0.788044</td>\n",
              "      <td>0.837844</td>\n",
              "      <td>-0.046995</td>\n",
              "      <td>-0.036308</td>\n",
              "      <td>-0.001413</td>\n",
              "      <td>-0.218315</td>\n",
              "      <td>0.104176</td>\n",
              "      <td>-0.024806</td>\n",
              "    </tr>\n",
              "    <tr>\n",
              "      <th>General government final consumption expenditure (current US$)</th>\n",
              "      <td>0.227272</td>\n",
              "      <td>0.005202</td>\n",
              "      <td>-0.014284</td>\n",
              "      <td>0.870116</td>\n",
              "      <td>0.870632</td>\n",
              "      <td>0.856713</td>\n",
              "      <td>1.000000</td>\n",
              "      <td>0.795737</td>\n",
              "      <td>0.852233</td>\n",
              "      <td>0.833782</td>\n",
              "      <td>...</td>\n",
              "      <td>-0.111911</td>\n",
              "      <td>-0.622551</td>\n",
              "      <td>0.938496</td>\n",
              "      <td>0.944181</td>\n",
              "      <td>-0.047272</td>\n",
              "      <td>0.101063</td>\n",
              "      <td>0.121152</td>\n",
              "      <td>-0.233831</td>\n",
              "      <td>0.117792</td>\n",
              "      <td>-0.045695</td>\n",
              "    </tr>\n",
              "    <tr>\n",
              "      <th>Household final consumption expenditure (current US$)</th>\n",
              "      <td>0.243047</td>\n",
              "      <td>0.000370</td>\n",
              "      <td>-0.010298</td>\n",
              "      <td>0.916710</td>\n",
              "      <td>0.970791</td>\n",
              "      <td>0.994105</td>\n",
              "      <td>0.795737</td>\n",
              "      <td>1.000000</td>\n",
              "      <td>0.864180</td>\n",
              "      <td>0.856481</td>\n",
              "      <td>...</td>\n",
              "      <td>-0.162018</td>\n",
              "      <td>-0.694285</td>\n",
              "      <td>0.728035</td>\n",
              "      <td>0.785315</td>\n",
              "      <td>-0.045244</td>\n",
              "      <td>-0.063877</td>\n",
              "      <td>-0.027126</td>\n",
              "      <td>-0.207191</td>\n",
              "      <td>0.097562</td>\n",
              "      <td>-0.019521</td>\n",
              "    </tr>\n",
              "    <tr>\n",
              "      <th>Gross capital formation (current US$)</th>\n",
              "      <td>0.275335</td>\n",
              "      <td>0.011572</td>\n",
              "      <td>-0.001126</td>\n",
              "      <td>0.885333</td>\n",
              "      <td>0.921034</td>\n",
              "      <td>0.888548</td>\n",
              "      <td>0.852233</td>\n",
              "      <td>0.864180</td>\n",
              "      <td>1.000000</td>\n",
              "      <td>0.936023</td>\n",
              "      <td>...</td>\n",
              "      <td>-0.137616</td>\n",
              "      <td>-0.592544</td>\n",
              "      <td>0.826661</td>\n",
              "      <td>0.844042</td>\n",
              "      <td>-0.025598</td>\n",
              "      <td>0.047013</td>\n",
              "      <td>0.061126</td>\n",
              "      <td>-0.182555</td>\n",
              "      <td>0.126425</td>\n",
              "      <td>-0.045278</td>\n",
              "    </tr>\n",
              "    <tr>\n",
              "      <th>Gross capital formation, Private sector  (current US$)</th>\n",
              "      <td>0.278785</td>\n",
              "      <td>0.001045</td>\n",
              "      <td>-0.010579</td>\n",
              "      <td>0.847214</td>\n",
              "      <td>0.901551</td>\n",
              "      <td>0.878688</td>\n",
              "      <td>0.833782</td>\n",
              "      <td>0.856481</td>\n",
              "      <td>0.936023</td>\n",
              "      <td>1.000000</td>\n",
              "      <td>...</td>\n",
              "      <td>-0.132801</td>\n",
              "      <td>-0.620261</td>\n",
              "      <td>0.807311</td>\n",
              "      <td>0.834365</td>\n",
              "      <td>-0.031525</td>\n",
              "      <td>0.044890</td>\n",
              "      <td>0.063065</td>\n",
              "      <td>-0.210861</td>\n",
              "      <td>0.117062</td>\n",
              "      <td>-0.047011</td>\n",
              "    </tr>\n",
              "    <tr>\n",
              "      <th>Gross capital formation, Public sector  (current US$)</th>\n",
              "      <td>0.218465</td>\n",
              "      <td>0.022902</td>\n",
              "      <td>0.011240</td>\n",
              "      <td>0.765731</td>\n",
              "      <td>0.770677</td>\n",
              "      <td>0.732005</td>\n",
              "      <td>0.713651</td>\n",
              "      <td>0.709500</td>\n",
              "      <td>0.891802</td>\n",
              "      <td>0.675520</td>\n",
              "      <td>...</td>\n",
              "      <td>-0.117598</td>\n",
              "      <td>-0.444068</td>\n",
              "      <td>0.694105</td>\n",
              "      <td>0.695741</td>\n",
              "      <td>-0.013103</td>\n",
              "      <td>0.040789</td>\n",
              "      <td>0.046994</td>\n",
              "      <td>-0.111400</td>\n",
              "      <td>0.114386</td>\n",
              "      <td>-0.034428</td>\n",
              "    </tr>\n",
              "    <tr>\n",
              "      <th>Exports of goods and services (current US$)</th>\n",
              "      <td>0.251867</td>\n",
              "      <td>0.042722</td>\n",
              "      <td>0.025016</td>\n",
              "      <td>0.876803</td>\n",
              "      <td>0.896284</td>\n",
              "      <td>0.855116</td>\n",
              "      <td>0.921985</td>\n",
              "      <td>0.810261</td>\n",
              "      <td>0.877448</td>\n",
              "      <td>0.859500</td>\n",
              "      <td>...</td>\n",
              "      <td>-0.099949</td>\n",
              "      <td>-0.474813</td>\n",
              "      <td>0.912846</td>\n",
              "      <td>0.888961</td>\n",
              "      <td>0.035363</td>\n",
              "      <td>0.132175</td>\n",
              "      <td>0.102761</td>\n",
              "      <td>0.012140</td>\n",
              "      <td>0.218295</td>\n",
              "      <td>-0.045250</td>\n",
              "    </tr>\n",
              "    <tr>\n",
              "      <th>Imports of goods and services (current US$)</th>\n",
              "      <td>0.295218</td>\n",
              "      <td>0.018495</td>\n",
              "      <td>-0.000762</td>\n",
              "      <td>0.897748</td>\n",
              "      <td>0.925376</td>\n",
              "      <td>0.918371</td>\n",
              "      <td>0.940565</td>\n",
              "      <td>0.880629</td>\n",
              "      <td>0.923384</td>\n",
              "      <td>0.900382</td>\n",
              "      <td>...</td>\n",
              "      <td>-0.082931</td>\n",
              "      <td>-0.655288</td>\n",
              "      <td>0.908204</td>\n",
              "      <td>0.928308</td>\n",
              "      <td>-0.043071</td>\n",
              "      <td>0.077771</td>\n",
              "      <td>0.099657</td>\n",
              "      <td>-0.254701</td>\n",
              "      <td>0.115059</td>\n",
              "      <td>-0.048073</td>\n",
              "    </tr>\n",
              "    <tr>\n",
              "      <th>Final consumption expenditure  (% of GDP)</th>\n",
              "      <td>0.217084</td>\n",
              "      <td>-0.041870</td>\n",
              "      <td>-0.066201</td>\n",
              "      <td>-0.116562</td>\n",
              "      <td>-0.100307</td>\n",
              "      <td>-0.028082</td>\n",
              "      <td>-0.077727</td>\n",
              "      <td>-0.016634</td>\n",
              "      <td>-0.120916</td>\n",
              "      <td>-0.118278</td>\n",
              "      <td>...</td>\n",
              "      <td>0.399782</td>\n",
              "      <td>-0.068366</td>\n",
              "      <td>-0.121260</td>\n",
              "      <td>-0.086068</td>\n",
              "      <td>-0.165257</td>\n",
              "      <td>0.068245</td>\n",
              "      <td>0.155608</td>\n",
              "      <td>-0.148152</td>\n",
              "      <td>-0.303454</td>\n",
              "      <td>-0.038423</td>\n",
              "    </tr>\n",
              "    <tr>\n",
              "      <th>General government final consumption expenditure (% of GDP)</th>\n",
              "      <td>0.121672</td>\n",
              "      <td>-0.005799</td>\n",
              "      <td>-0.047461</td>\n",
              "      <td>-0.056339</td>\n",
              "      <td>-0.073082</td>\n",
              "      <td>-0.059022</td>\n",
              "      <td>0.093564</td>\n",
              "      <td>-0.088971</td>\n",
              "      <td>-0.025895</td>\n",
              "      <td>-0.024122</td>\n",
              "      <td>...</td>\n",
              "      <td>0.488187</td>\n",
              "      <td>-0.033529</td>\n",
              "      <td>0.069026</td>\n",
              "      <td>0.066086</td>\n",
              "      <td>-0.186724</td>\n",
              "      <td>0.606589</td>\n",
              "      <td>0.645947</td>\n",
              "      <td>-0.038857</td>\n",
              "      <td>-0.072105</td>\n",
              "      <td>-0.130801</td>\n",
              "    </tr>\n",
              "    <tr>\n",
              "      <th>Household final consumption expenditure  (% of GDP)</th>\n",
              "      <td>0.189632</td>\n",
              "      <td>-0.042188</td>\n",
              "      <td>-0.054553</td>\n",
              "      <td>-0.104671</td>\n",
              "      <td>-0.082272</td>\n",
              "      <td>-0.010797</td>\n",
              "      <td>-0.111394</td>\n",
              "      <td>0.010738</td>\n",
              "      <td>-0.118908</td>\n",
              "      <td>-0.116696</td>\n",
              "      <td>...</td>\n",
              "      <td>0.265447</td>\n",
              "      <td>-0.061245</td>\n",
              "      <td>-0.149378</td>\n",
              "      <td>-0.111446</td>\n",
              "      <td>-0.114518</td>\n",
              "      <td>-0.120673</td>\n",
              "      <td>-0.041305</td>\n",
              "      <td>-0.143433</td>\n",
              "      <td>-0.296156</td>\n",
              "      <td>0.001095</td>\n",
              "    </tr>\n",
              "    <tr>\n",
              "      <th>Gross capital formation (% of GDP)</th>\n",
              "      <td>0.260591</td>\n",
              "      <td>0.173155</td>\n",
              "      <td>0.167494</td>\n",
              "      <td>0.041643</td>\n",
              "      <td>0.041788</td>\n",
              "      <td>0.028712</td>\n",
              "      <td>0.085934</td>\n",
              "      <td>0.015649</td>\n",
              "      <td>0.191681</td>\n",
              "      <td>0.169392</td>\n",
              "      <td>...</td>\n",
              "      <td>0.545845</td>\n",
              "      <td>-0.040369</td>\n",
              "      <td>0.118500</td>\n",
              "      <td>0.110023</td>\n",
              "      <td>-0.023161</td>\n",
              "      <td>0.421615</td>\n",
              "      <td>0.387519</td>\n",
              "      <td>-0.068889</td>\n",
              "      <td>-0.332898</td>\n",
              "      <td>-0.153529</td>\n",
              "    </tr>\n",
              "    <tr>\n",
              "      <th>Gross capital formation, Private sector (% GDP)</th>\n",
              "      <td>0.167352</td>\n",
              "      <td>0.094403</td>\n",
              "      <td>0.093103</td>\n",
              "      <td>0.070085</td>\n",
              "      <td>0.077386</td>\n",
              "      <td>0.064718</td>\n",
              "      <td>0.107723</td>\n",
              "      <td>0.053347</td>\n",
              "      <td>0.175612</td>\n",
              "      <td>0.263219</td>\n",
              "      <td>...</td>\n",
              "      <td>0.286370</td>\n",
              "      <td>-0.068956</td>\n",
              "      <td>0.131538</td>\n",
              "      <td>0.128314</td>\n",
              "      <td>-0.047051</td>\n",
              "      <td>0.290654</td>\n",
              "      <td>0.285932</td>\n",
              "      <td>-0.074006</td>\n",
              "      <td>-0.211836</td>\n",
              "      <td>-0.134110</td>\n",
              "    </tr>\n",
              "    <tr>\n",
              "      <th>Gross capital formation, Public sector (% GDP)</th>\n",
              "      <td>0.163894</td>\n",
              "      <td>0.126818</td>\n",
              "      <td>0.120763</td>\n",
              "      <td>-0.020057</td>\n",
              "      <td>-0.027657</td>\n",
              "      <td>-0.031324</td>\n",
              "      <td>-0.002015</td>\n",
              "      <td>-0.036356</td>\n",
              "      <td>0.064512</td>\n",
              "      <td>-0.058273</td>\n",
              "      <td>...</td>\n",
              "      <td>0.411771</td>\n",
              "      <td>0.020520</td>\n",
              "      <td>0.015369</td>\n",
              "      <td>0.007672</td>\n",
              "      <td>0.019770</td>\n",
              "      <td>0.243930</td>\n",
              "      <td>0.204159</td>\n",
              "      <td>-0.011570</td>\n",
              "      <td>-0.211439</td>\n",
              "      <td>-0.058649</td>\n",
              "    </tr>\n",
              "    <tr>\n",
              "      <th>Exports of goods and services (% of GDP)</th>\n",
              "      <td>0.194761</td>\n",
              "      <td>0.130137</td>\n",
              "      <td>0.105194</td>\n",
              "      <td>-0.036622</td>\n",
              "      <td>-0.046917</td>\n",
              "      <td>-0.063913</td>\n",
              "      <td>0.018512</td>\n",
              "      <td>-0.078937</td>\n",
              "      <td>-0.008160</td>\n",
              "      <td>-0.004832</td>\n",
              "      <td>...</td>\n",
              "      <td>0.647732</td>\n",
              "      <td>0.111144</td>\n",
              "      <td>0.061660</td>\n",
              "      <td>0.025849</td>\n",
              "      <td>0.187263</td>\n",
              "      <td>0.466515</td>\n",
              "      <td>0.301040</td>\n",
              "      <td>0.149843</td>\n",
              "      <td>0.146862</td>\n",
              "      <td>-0.096042</td>\n",
              "    </tr>\n",
              "    <tr>\n",
              "      <th>Imports of goods and services (% of GDP)</th>\n",
              "      <td>0.172519</td>\n",
              "      <td>0.114992</td>\n",
              "      <td>0.081002</td>\n",
              "      <td>-0.183651</td>\n",
              "      <td>-0.177226</td>\n",
              "      <td>-0.158017</td>\n",
              "      <td>-0.111911</td>\n",
              "      <td>-0.162018</td>\n",
              "      <td>-0.137616</td>\n",
              "      <td>-0.132801</td>\n",
              "      <td>...</td>\n",
              "      <td>1.000000</td>\n",
              "      <td>0.073117</td>\n",
              "      <td>-0.112119</td>\n",
              "      <td>-0.111962</td>\n",
              "      <td>-0.005254</td>\n",
              "      <td>0.429205</td>\n",
              "      <td>0.381089</td>\n",
              "      <td>-0.029919</td>\n",
              "      <td>-0.308734</td>\n",
              "      <td>-0.097607</td>\n",
              "    </tr>\n",
              "    <tr>\n",
              "      <th>Central government, Fiscal Balance (Current US $)</th>\n",
              "      <td>-0.176682</td>\n",
              "      <td>0.120627</td>\n",
              "      <td>0.128407</td>\n",
              "      <td>-0.612255</td>\n",
              "      <td>-0.650395</td>\n",
              "      <td>-0.702738</td>\n",
              "      <td>-0.622551</td>\n",
              "      <td>-0.694285</td>\n",
              "      <td>-0.592544</td>\n",
              "      <td>-0.620261</td>\n",
              "      <td>...</td>\n",
              "      <td>0.073117</td>\n",
              "      <td>1.000000</td>\n",
              "      <td>-0.546993</td>\n",
              "      <td>-0.706671</td>\n",
              "      <td>0.400885</td>\n",
              "      <td>0.037556</td>\n",
              "      <td>-0.207490</td>\n",
              "      <td>0.556633</td>\n",
              "      <td>0.132899</td>\n",
              "      <td>0.004492</td>\n",
              "    </tr>\n",
              "    <tr>\n",
              "      <th>Central government, total revenue and grants  (Current US $)</th>\n",
              "      <td>0.217554</td>\n",
              "      <td>0.041103</td>\n",
              "      <td>0.020834</td>\n",
              "      <td>0.810812</td>\n",
              "      <td>0.813915</td>\n",
              "      <td>0.788044</td>\n",
              "      <td>0.938496</td>\n",
              "      <td>0.728035</td>\n",
              "      <td>0.826661</td>\n",
              "      <td>0.807311</td>\n",
              "      <td>...</td>\n",
              "      <td>-0.112119</td>\n",
              "      <td>-0.546993</td>\n",
              "      <td>1.000000</td>\n",
              "      <td>0.978050</td>\n",
              "      <td>-0.007804</td>\n",
              "      <td>0.205656</td>\n",
              "      <td>0.190872</td>\n",
              "      <td>-0.089167</td>\n",
              "      <td>0.188818</td>\n",
              "      <td>-0.045931</td>\n",
              "    </tr>\n",
              "    <tr>\n",
              "      <th>Central government, total expenditure and net lending  (Current US $)</th>\n",
              "      <td>0.226897</td>\n",
              "      <td>0.003892</td>\n",
              "      <td>-0.015143</td>\n",
              "      <td>0.834531</td>\n",
              "      <td>0.847258</td>\n",
              "      <td>0.837844</td>\n",
              "      <td>0.944181</td>\n",
              "      <td>0.785315</td>\n",
              "      <td>0.844042</td>\n",
              "      <td>0.834365</td>\n",
              "      <td>...</td>\n",
              "      <td>-0.111962</td>\n",
              "      <td>-0.706671</td>\n",
              "      <td>0.978050</td>\n",
              "      <td>1.000000</td>\n",
              "      <td>-0.106180</td>\n",
              "      <td>0.163508</td>\n",
              "      <td>0.214134</td>\n",
              "      <td>-0.209717</td>\n",
              "      <td>0.126600</td>\n",
              "      <td>-0.039625</td>\n",
              "    </tr>\n",
              "    <tr>\n",
              "      <th>Central government, Fiscal Balance (% of GDP)</th>\n",
              "      <td>0.047670</td>\n",
              "      <td>0.211300</td>\n",
              "      <td>0.220729</td>\n",
              "      <td>-0.020951</td>\n",
              "      <td>-0.018611</td>\n",
              "      <td>-0.046995</td>\n",
              "      <td>-0.047272</td>\n",
              "      <td>-0.045244</td>\n",
              "      <td>-0.025598</td>\n",
              "      <td>-0.031525</td>\n",
              "      <td>...</td>\n",
              "      <td>-0.005254</td>\n",
              "      <td>0.400885</td>\n",
              "      <td>-0.007804</td>\n",
              "      <td>-0.106180</td>\n",
              "      <td>1.000000</td>\n",
              "      <td>0.056717</td>\n",
              "      <td>-0.487892</td>\n",
              "      <td>0.285140</td>\n",
              "      <td>0.305790</td>\n",
              "      <td>-0.068536</td>\n",
              "    </tr>\n",
              "    <tr>\n",
              "      <th>Central government, total revenue and grants  (% of GDP)</th>\n",
              "      <td>0.048390</td>\n",
              "      <td>0.112116</td>\n",
              "      <td>0.076665</td>\n",
              "      <td>0.000517</td>\n",
              "      <td>-0.024952</td>\n",
              "      <td>-0.036308</td>\n",
              "      <td>0.101063</td>\n",
              "      <td>-0.063877</td>\n",
              "      <td>0.047013</td>\n",
              "      <td>0.044890</td>\n",
              "      <td>...</td>\n",
              "      <td>0.429205</td>\n",
              "      <td>0.037556</td>\n",
              "      <td>0.205656</td>\n",
              "      <td>0.163508</td>\n",
              "      <td>0.056717</td>\n",
              "      <td>1.000000</td>\n",
              "      <td>0.789410</td>\n",
              "      <td>0.155843</td>\n",
              "      <td>0.094675</td>\n",
              "      <td>-0.077649</td>\n",
              "    </tr>\n",
              "    <tr>\n",
              "      <th>Central government, total expenditure and net lending  (% of GDP)</th>\n",
              "      <td>0.013354</td>\n",
              "      <td>-0.032489</td>\n",
              "      <td>-0.069710</td>\n",
              "      <td>0.016042</td>\n",
              "      <td>-0.007399</td>\n",
              "      <td>-0.001413</td>\n",
              "      <td>0.121152</td>\n",
              "      <td>-0.027126</td>\n",
              "      <td>0.061126</td>\n",
              "      <td>0.063065</td>\n",
              "      <td>...</td>\n",
              "      <td>0.381089</td>\n",
              "      <td>-0.207490</td>\n",
              "      <td>0.190872</td>\n",
              "      <td>0.214134</td>\n",
              "      <td>-0.487892</td>\n",
              "      <td>0.789410</td>\n",
              "      <td>1.000000</td>\n",
              "      <td>-0.029393</td>\n",
              "      <td>-0.096394</td>\n",
              "      <td>-0.028653</td>\n",
              "    </tr>\n",
              "    <tr>\n",
              "      <th>Current account balance (Net, BoP, cur. US$)</th>\n",
              "      <td>-0.136001</td>\n",
              "      <td>0.137843</td>\n",
              "      <td>0.136618</td>\n",
              "      <td>-0.134619</td>\n",
              "      <td>-0.152258</td>\n",
              "      <td>-0.218315</td>\n",
              "      <td>-0.233831</td>\n",
              "      <td>-0.207191</td>\n",
              "      <td>-0.182555</td>\n",
              "      <td>-0.210861</td>\n",
              "      <td>...</td>\n",
              "      <td>-0.029919</td>\n",
              "      <td>0.556633</td>\n",
              "      <td>-0.089167</td>\n",
              "      <td>-0.209717</td>\n",
              "      <td>0.285140</td>\n",
              "      <td>0.155843</td>\n",
              "      <td>-0.029393</td>\n",
              "      <td>1.000000</td>\n",
              "      <td>0.413231</td>\n",
              "      <td>0.006089</td>\n",
              "    </tr>\n",
              "    <tr>\n",
              "      <th>Current account balance (As % of GDP)</th>\n",
              "      <td>-0.064179</td>\n",
              "      <td>0.076183</td>\n",
              "      <td>0.058391</td>\n",
              "      <td>0.159888</td>\n",
              "      <td>0.142584</td>\n",
              "      <td>0.104176</td>\n",
              "      <td>0.117792</td>\n",
              "      <td>0.097562</td>\n",
              "      <td>0.126425</td>\n",
              "      <td>0.117062</td>\n",
              "      <td>...</td>\n",
              "      <td>-0.308734</td>\n",
              "      <td>0.132899</td>\n",
              "      <td>0.188818</td>\n",
              "      <td>0.126600</td>\n",
              "      <td>0.305790</td>\n",
              "      <td>0.094675</td>\n",
              "      <td>-0.096394</td>\n",
              "      <td>0.413231</td>\n",
              "      <td>1.000000</td>\n",
              "      <td>0.008840</td>\n",
              "    </tr>\n",
              "    <tr>\n",
              "      <th>Inflation, consumer prices (annual %)</th>\n",
              "      <td>-0.110583</td>\n",
              "      <td>-0.092346</td>\n",
              "      <td>-0.090963</td>\n",
              "      <td>-0.012626</td>\n",
              "      <td>-0.024681</td>\n",
              "      <td>-0.024806</td>\n",
              "      <td>-0.045695</td>\n",
              "      <td>-0.019521</td>\n",
              "      <td>-0.045278</td>\n",
              "      <td>-0.047011</td>\n",
              "      <td>...</td>\n",
              "      <td>-0.097607</td>\n",
              "      <td>0.004492</td>\n",
              "      <td>-0.045931</td>\n",
              "      <td>-0.039625</td>\n",
              "      <td>-0.068536</td>\n",
              "      <td>-0.077649</td>\n",
              "      <td>-0.028653</td>\n",
              "      <td>0.006089</td>\n",
              "      <td>0.008840</td>\n",
              "      <td>1.000000</td>\n",
              "    </tr>\n",
              "  </tbody>\n",
              "</table>\n",
              "<p>30 rows × 30 columns</p>\n",
              "</div>\n",
              "      <button class=\"colab-df-convert\" onclick=\"convertToInteractive('df-7b762484-bc88-4df4-a794-2cdb136119e1')\"\n",
              "              title=\"Convert this dataframe to an interactive table.\"\n",
              "              style=\"display:none;\">\n",
              "        \n",
              "  <svg xmlns=\"http://www.w3.org/2000/svg\" height=\"24px\"viewBox=\"0 0 24 24\"\n",
              "       width=\"24px\">\n",
              "    <path d=\"M0 0h24v24H0V0z\" fill=\"none\"/>\n",
              "    <path d=\"M18.56 5.44l.94 2.06.94-2.06 2.06-.94-2.06-.94-.94-2.06-.94 2.06-2.06.94zm-11 1L8.5 8.5l.94-2.06 2.06-.94-2.06-.94L8.5 2.5l-.94 2.06-2.06.94zm10 10l.94 2.06.94-2.06 2.06-.94-2.06-.94-.94-2.06-.94 2.06-2.06.94z\"/><path d=\"M17.41 7.96l-1.37-1.37c-.4-.4-.92-.59-1.43-.59-.52 0-1.04.2-1.43.59L10.3 9.45l-7.72 7.72c-.78.78-.78 2.05 0 2.83L4 21.41c.39.39.9.59 1.41.59.51 0 1.02-.2 1.41-.59l7.78-7.78 2.81-2.81c.8-.78.8-2.07 0-2.86zM5.41 20L4 18.59l7.72-7.72 1.47 1.35L5.41 20z\"/>\n",
              "  </svg>\n",
              "      </button>\n",
              "      \n",
              "  <style>\n",
              "    .colab-df-container {\n",
              "      display:flex;\n",
              "      flex-wrap:wrap;\n",
              "      gap: 12px;\n",
              "    }\n",
              "\n",
              "    .colab-df-convert {\n",
              "      background-color: #E8F0FE;\n",
              "      border: none;\n",
              "      border-radius: 50%;\n",
              "      cursor: pointer;\n",
              "      display: none;\n",
              "      fill: #1967D2;\n",
              "      height: 32px;\n",
              "      padding: 0 0 0 0;\n",
              "      width: 32px;\n",
              "    }\n",
              "\n",
              "    .colab-df-convert:hover {\n",
              "      background-color: #E2EBFA;\n",
              "      box-shadow: 0px 1px 2px rgba(60, 64, 67, 0.3), 0px 1px 3px 1px rgba(60, 64, 67, 0.15);\n",
              "      fill: #174EA6;\n",
              "    }\n",
              "\n",
              "    [theme=dark] .colab-df-convert {\n",
              "      background-color: #3B4455;\n",
              "      fill: #D2E3FC;\n",
              "    }\n",
              "\n",
              "    [theme=dark] .colab-df-convert:hover {\n",
              "      background-color: #434B5C;\n",
              "      box-shadow: 0px 1px 3px 1px rgba(0, 0, 0, 0.15);\n",
              "      filter: drop-shadow(0px 1px 2px rgba(0, 0, 0, 0.3));\n",
              "      fill: #FFFFFF;\n",
              "    }\n",
              "  </style>\n",
              "\n",
              "      <script>\n",
              "        const buttonEl =\n",
              "          document.querySelector('#df-7b762484-bc88-4df4-a794-2cdb136119e1 button.colab-df-convert');\n",
              "        buttonEl.style.display =\n",
              "          google.colab.kernel.accessAllowed ? 'block' : 'none';\n",
              "\n",
              "        async function convertToInteractive(key) {\n",
              "          const element = document.querySelector('#df-7b762484-bc88-4df4-a794-2cdb136119e1');\n",
              "          const dataTable =\n",
              "            await google.colab.kernel.invokeFunction('convertToInteractive',\n",
              "                                                     [key], {});\n",
              "          if (!dataTable) return;\n",
              "\n",
              "          const docLinkHtml = 'Like what you see? Visit the ' +\n",
              "            '<a target=\"_blank\" href=https://colab.research.google.com/notebooks/data_table.ipynb>data table notebook</a>'\n",
              "            + ' to learn more about interactive tables.';\n",
              "          element.innerHTML = '';\n",
              "          dataTable['output_type'] = 'display_data';\n",
              "          await google.colab.output.renderOutput(dataTable, element);\n",
              "          const docLink = document.createElement('div');\n",
              "          docLink.innerHTML = docLinkHtml;\n",
              "          element.appendChild(docLink);\n",
              "        }\n",
              "      </script>\n",
              "    </div>\n",
              "  </div>\n",
              "  "
            ]
          },
          "metadata": {},
          "execution_count": 575
        }
      ]
    },
    {
      "cell_type": "markdown",
      "source": [
        ">I notice strong correlations between Imports of goods and Services and GDP.\n",
        "\n",
        ">Also with Household expenditure and GDP as well (.969591)."
      ],
      "metadata": {
        "id": "Rw0PewN-0R26"
      }
    },
    {
      "cell_type": "code",
      "source": [
        "sns.kdeplot(data=africa_dfdropped, x= 'Real GDP growth (annual %)', hue='region');\n",
        "#figsize=(199,199)\n",
        "#plt.title('Regional GDP Growth', fontsize = 18)\n",
        "#plt.rcParams[\"figure.figsize\"] = (15, 10)\n",
        "#plt.rcParams[\"xtick.labelsize\"] = 7"
      ],
      "metadata": {
        "colab": {
          "base_uri": "https://localhost:8080/",
          "height": 279
        },
        "id": "aig2TtX5BC0L",
        "outputId": "7e856dd6-207c-4519-cb9f-ed75c7b0f334"
      },
      "execution_count": 576,
      "outputs": [
        {
          "output_type": "display_data",
          "data": {
            "text/plain": [
              "<Figure size 432x288 with 1 Axes>"
            ],
            "image/png": "[encoded data removed]"
          },
          "metadata": {
            "needs_background": "light"
          }
        }
      ]
    },
    {
      "cell_type": "markdown",
      "source": [
        ">It seems like West African Countries experience an explosion of GDP growth year after year especially compared to other regions. It makes sense when you consider it includes Economic powerhouses like Nigeria for instance."
      ],
      "metadata": {
        "id": "pHIcqdeK0_q8"
      }
    },
    {
      "cell_type": "code",
      "source": [
        "f, ax = plt.subplots(figsize=(6.5, 6.5))\n",
        "sns.despine(f, left=True, bottom=True)\n",
        "\n",
        "sns.scatterplot(x='Year', y='Real GDP growth (annual %)', hue='Real GDP growth (annual %)',sizes=(1, 8), linewidth=0, data=africa_dfdropped, ax=ax);"
      ],
      "metadata": {
        "colab": {
          "base_uri": "https://localhost:8080/",
          "height": 415
        },
        "id": "wbgG7WP6zak8",
        "outputId": "d2256d68-d19b-4979-8446-e2bb2e2c99ae"
      },
      "execution_count": 577,
      "outputs": [
        {
          "output_type": "display_data",
          "data": {
            "text/plain": [
              "<Figure size 468x468 with 1 Axes>"
            ],
            "image/png": "[encoded data removed]"
          },
          "metadata": {
            "needs_background": "light"
          }
        }
      ]
    },
    {
      "cell_type": "markdown",
      "source": [
        ">There are a few major outliers that I will need to address but generally we see positive trends in African GDP growth over the past couple of decades"
      ],
      "metadata": {
        "id": "P1Ba-66-1lL2"
      }
    },
    {
      "cell_type": "code",
      "source": [
        "sns.regplot(x='Gross domestic product, current prices (current US$)', y='Household final consumption expenditure (current US$)', data=africa_dfdropped);"
      ],
      "metadata": {
        "colab": {
          "base_uri": "https://localhost:8080/",
          "height": 310
        },
        "id": "x7F-aIJp2jI-",
        "outputId": "d4e1a17d-41e0-49e3-82d8-d51f3adf7992"
      },
      "execution_count": 578,
      "outputs": [
        {
          "output_type": "display_data",
          "data": {
            "text/plain": [
              "<Figure size 432x288 with 1 Axes>"
            ],
            "image/png": "[encoded data removed]"
          },
          "metadata": {
            "needs_background": "light"
          }
        }
      ]
    },
    {
      "cell_type": "markdown",
      "source": [
        ">Household Financial income obviously plays a big part in igniting an economic spark. When countries generally have more spending power, they typically (not always) have thriving economies. This positive correlation, I suppose will guide is in our understanding of African economics."
      ],
      "metadata": {
        "id": "dKw0NvCs1TpC"
      }
    },
    {
      "cell_type": "markdown",
      "source": [
        "I think I want my target to be GDP growth per year; as GDP seems to always be a common economic growth identifier."
      ],
      "metadata": {
        "id": "AL67S3-CvEPI"
      }
    },
    {
      "cell_type": "markdown",
      "source": [
        "##**Model Development**"
      ],
      "metadata": {
        "id": "49Q03SD53Zpe"
      }
    },
    {
      "cell_type": "markdown",
      "source": [
        ">K-Nearest Neighbor is the first model I want to use to accurately predicts GDP growth."
      ],
      "metadata": {
        "id": "-iiPHX9549T5"
      }
    },
    {
      "cell_type": "markdown",
      "source": [
        "###**Train Test Split**"
      ],
      "metadata": {
        "id": "qc8SvK2CZIP2"
      }
    },
    {
      "cell_type": "code",
      "source": [
        "africa_dfdropped['region'] = africa_dfdropped['region'].map({'West Africa': 1, 'East Africa': 2, 'Middle Africa': 3, 'South Africa': 4, 'North Africa': 5})"
      ],
      "metadata": {
        "colab": {
          "base_uri": "https://localhost:8080/"
        },
        "id": "r_WU4qLnITRi",
        "outputId": "62539988-e876-46ad-d8d4-056ce83e3658"
      },
      "execution_count": 579,
      "outputs": [
        {
          "output_type": "stream",
          "name": "stderr",
          "text": [
            "/usr/local/lib/python3.7/dist-packages/ipykernel_launcher.py:1: SettingWithCopyWarning: \n",
            "A value is trying to be set on a copy of a slice from a DataFrame.\n",
            "Try using .loc[row_indexer,col_indexer] = value instead\n",
            "\n",
            "See the caveats in the documentation: https://pandas.pydata.org/pandas-docs/stable/user_guide/indexing.html#returning-a-view-versus-a-copy\n",
            "  \"\"\"Entry point for launching an IPython kernel.\n"
          ]
        }
      ]
    },
    {
      "cell_type": "code",
      "source": [
        "X = africa_dfdropped.drop(columns= ['Real GDP growth (annual %)', 'Year', 'Country'])\n",
        "\n",
        "y = africa_dfdropped['Real GDP growth (annual %)']\n",
        "\n",
        "X_train, X_test, y_train, y_test = train_test_split(X, y, random_state = 42)"
      ],
      "metadata": {
        "id": "3vwfWueDKlHQ"
      },
      "execution_count": 580,
      "outputs": []
    },
    {
      "cell_type": "code",
      "source": [
        "scaler = StandardScaler()\n",
        "\n",
        "ohe = OneHotEncoder(sparse=False)\n",
        "\n",
        "scaled_df = scaler.fit_transform(X_train)"
      ],
      "metadata": {
        "id": "MkQ1E4DSIJ8T"
      },
      "execution_count": 581,
      "outputs": []
    },
    {
      "cell_type": "markdown",
      "source": [
        "###**PCA Feature Reduction**"
      ],
      "metadata": {
        "id": "AdjR6rQ5CJy3"
      }
    },
    {
      "cell_type": "markdown",
      "source": [
        ">The model I want to use (K Nearest Neighbors) does not perform very efficiently with a lot of features so I am going to reduce my number of features with PCA"
      ],
      "metadata": {
        "id": "aunaFf3LCoKJ"
      }
    },
    {
      "cell_type": "code",
      "source": [
        "#fit data using PCA\n",
        "pca = PCA()"
      ],
      "metadata": {
        "id": "N2NKlj_sIYuM"
      },
      "execution_count": 582,
      "outputs": []
    },
    {
      "cell_type": "code",
      "source": [
        "X.shape"
      ],
      "metadata": {
        "colab": {
          "base_uri": "https://localhost:8080/"
        },
        "id": "4Cn9-UayLp8x",
        "outputId": "ef49f932-de84-424c-ca70-2443c98c50b7"
      },
      "execution_count": 583,
      "outputs": [
        {
          "output_type": "execute_result",
          "data": {
            "text/plain": [
              "(2013, 29)"
            ]
          },
          "metadata": {},
          "execution_count": 583
        }
      ]
    },
    {
      "cell_type": "markdown",
      "source": [
        ">Looks like our graph seems to level off at around 4 Principal Components,\n",
        "so we'll use this in our PCA"
      ],
      "metadata": {
        "id": "2y4Tb_TfL026"
      }
    },
    {
      "cell_type": "markdown",
      "source": [
        "**Instantiate Column Selectors**"
      ],
      "metadata": {
        "id": "Kl1h-RCNoF2H"
      }
    },
    {
      "cell_type": "code",
      "source": [
        "cat_selector = make_column_selector(dtype_include='object')\n",
        "num_selector = make_column_selector(dtype_include='number')"
      ],
      "metadata": {
        "id": "bJGi0hS4oAt_"
      },
      "execution_count": 584,
      "outputs": []
    },
    {
      "cell_type": "markdown",
      "source": [
        "**Creating both numerical and categorical pipelines**"
      ],
      "metadata": {
        "id": "br0FQB9ioKl9"
      }
    },
    {
      "cell_type": "code",
      "source": [
        "#num_pipe = make_pipeline(scaler)\n",
        "\n",
        "#cat_pipe = make_pipeline(ohe)"
      ],
      "metadata": {
        "id": "pbTJQaX1o9Hn"
      },
      "execution_count": 585,
      "outputs": []
    },
    {
      "cell_type": "code",
      "source": [
        "num_tuple = (scaler, num_selector)\n",
        "cat_tuple = (ohe, cat_selector)"
      ],
      "metadata": {
        "id": "XG5CIuDcof-2"
      },
      "execution_count": 586,
      "outputs": []
    },
    {
      "cell_type": "markdown",
      "source": [
        "**Instantiate Transformers:**"
      ],
      "metadata": {
        "id": "bM4tcVdcZsj7"
      }
    },
    {
      "cell_type": "code",
      "source": [
        "transformer = make_column_transformer(num_tuple, cat_tuple)\n",
        "\n",
        "pca_pipe = make_pipeline(transformer, pca)"
      ],
      "metadata": {
        "id": "X3FNaSfzZ3y_"
      },
      "execution_count": 587,
      "outputs": []
    },
    {
      "cell_type": "code",
      "source": [
        "africa_dfdropped['region'] = africa_dfdropped['region'].map({'West Africa': 1, 'East Africa': 2, 'Middle Africa': 3, 'South Africa': 4, 'North Africa': 5})"
      ],
      "metadata": {
        "colab": {
          "base_uri": "https://localhost:8080/"
        },
        "id": "OhNpo8E1FHpl",
        "outputId": "b7891bbd-225c-4423-dfb2-55161e3d316e"
      },
      "execution_count": 588,
      "outputs": [
        {
          "output_type": "stream",
          "name": "stderr",
          "text": [
            "/usr/local/lib/python3.7/dist-packages/ipykernel_launcher.py:1: SettingWithCopyWarning: \n",
            "A value is trying to be set on a copy of a slice from a DataFrame.\n",
            "Try using .loc[row_indexer,col_indexer] = value instead\n",
            "\n",
            "See the caveats in the documentation: https://pandas.pydata.org/pandas-docs/stable/user_guide/indexing.html#returning-a-view-versus-a-copy\n",
            "  \"\"\"Entry point for launching an IPython kernel.\n"
          ]
        }
      ]
    },
    {
      "cell_type": "markdown",
      "source": [
        "##**KNN**"
      ],
      "metadata": {
        "id": "xPTdkqHIP2Tr"
      }
    },
    {
      "cell_type": "markdown",
      "source": [
        "**Instantiate the model:**"
      ],
      "metadata": {
        "id": "GqvmDtp15xKW"
      }
    },
    {
      "cell_type": "code",
      "source": [
        "knn = KNeighborsRegressor()"
      ],
      "metadata": {
        "id": "Y_ehWRGM5OKd"
      },
      "execution_count": 589,
      "outputs": []
    },
    {
      "cell_type": "markdown",
      "source": [
        "###**Tuning Hyperparameters**"
      ],
      "metadata": {
        "id": "sfxHgw3ECrmh"
      }
    },
    {
      "cell_type": "code",
      "source": [
        "knn_pipe.get_params()"
      ],
      "metadata": {
        "colab": {
          "base_uri": "https://localhost:8080/"
        },
        "id": "LGkl00AL6O6I",
        "outputId": "de2543e3-2cb7-40a3-e0cb-2e457f8d20a1"
      },
      "execution_count": 590,
      "outputs": [
        {
          "output_type": "execute_result",
          "data": {
            "text/plain": [
              "{'kneighborsregressor': KNeighborsRegressor(),\n",
              " 'kneighborsregressor__algorithm': 'auto',\n",
              " 'kneighborsregressor__leaf_size': 30,\n",
              " 'kneighborsregressor__metric': 'minkowski',\n",
              " 'kneighborsregressor__metric_params': None,\n",
              " 'kneighborsregressor__n_jobs': None,\n",
              " 'kneighborsregressor__n_neighbors': 5,\n",
              " 'kneighborsregressor__p': 2,\n",
              " 'kneighborsregressor__weights': 'uniform',\n",
              " 'memory': None,\n",
              " 'pipeline': Pipeline(steps=[('columntransformer',\n",
              "                  ColumnTransformer(transformers=[('standardscaler',\n",
              "                                                   StandardScaler(),\n",
              "                                                   <sklearn.compose._column_transformer.make_column_selector object at 0x7fde1e6d6ad0>),\n",
              "                                                  ('onehotencoder',\n",
              "                                                   OneHotEncoder(sparse=False),\n",
              "                                                   <sklearn.compose._column_transformer.make_column_selector object at 0x7fde1e6d6650>)])),\n",
              "                 ('pca', PCA())]),\n",
              " 'pipeline__columntransformer': ColumnTransformer(transformers=[('standardscaler', StandardScaler(),\n",
              "                                  <sklearn.compose._column_transformer.make_column_selector object at 0x7fde1e6d6ad0>),\n",
              "                                 ('onehotencoder', OneHotEncoder(sparse=False),\n",
              "                                  <sklearn.compose._column_transformer.make_column_selector object at 0x7fde1e6d6650>)]),\n",
              " 'pipeline__columntransformer__n_jobs': None,\n",
              " 'pipeline__columntransformer__onehotencoder': OneHotEncoder(sparse=False),\n",
              " 'pipeline__columntransformer__onehotencoder__categories': 'auto',\n",
              " 'pipeline__columntransformer__onehotencoder__drop': None,\n",
              " 'pipeline__columntransformer__onehotencoder__dtype': numpy.float64,\n",
              " 'pipeline__columntransformer__onehotencoder__handle_unknown': 'error',\n",
              " 'pipeline__columntransformer__onehotencoder__sparse': False,\n",
              " 'pipeline__columntransformer__remainder': 'drop',\n",
              " 'pipeline__columntransformer__sparse_threshold': 0.3,\n",
              " 'pipeline__columntransformer__standardscaler': StandardScaler(),\n",
              " 'pipeline__columntransformer__standardscaler__copy': True,\n",
              " 'pipeline__columntransformer__standardscaler__with_mean': True,\n",
              " 'pipeline__columntransformer__standardscaler__with_std': True,\n",
              " 'pipeline__columntransformer__transformer_weights': None,\n",
              " 'pipeline__columntransformer__transformers': [('standardscaler',\n",
              "   StandardScaler(),\n",
              "   <sklearn.compose._column_transformer.make_column_selector at 0x7fde1e6d6ad0>),\n",
              "  ('onehotencoder',\n",
              "   OneHotEncoder(sparse=False),\n",
              "   <sklearn.compose._column_transformer.make_column_selector at 0x7fde1e6d6650>)],\n",
              " 'pipeline__columntransformer__verbose': False,\n",
              " 'pipeline__columntransformer__verbose_feature_names_out': True,\n",
              " 'pipeline__memory': None,\n",
              " 'pipeline__pca': PCA(),\n",
              " 'pipeline__pca__copy': True,\n",
              " 'pipeline__pca__iterated_power': 'auto',\n",
              " 'pipeline__pca__n_components': None,\n",
              " 'pipeline__pca__random_state': None,\n",
              " 'pipeline__pca__svd_solver': 'auto',\n",
              " 'pipeline__pca__tol': 0.0,\n",
              " 'pipeline__pca__whiten': False,\n",
              " 'pipeline__steps': [('columntransformer',\n",
              "   ColumnTransformer(transformers=[('standardscaler', StandardScaler(),\n",
              "                                    <sklearn.compose._column_transformer.make_column_selector object at 0x7fde1e6d6ad0>),\n",
              "                                   ('onehotencoder', OneHotEncoder(sparse=False),\n",
              "                                    <sklearn.compose._column_transformer.make_column_selector object at 0x7fde1e6d6650>)])),\n",
              "  ('pca', PCA())],\n",
              " 'pipeline__verbose': False,\n",
              " 'steps': [('pipeline', Pipeline(steps=[('columntransformer',\n",
              "                    ColumnTransformer(transformers=[('standardscaler',\n",
              "                                                     StandardScaler(),\n",
              "                                                     <sklearn.compose._column_transformer.make_column_selector object at 0x7fde1e6d6ad0>),\n",
              "                                                    ('onehotencoder',\n",
              "                                                     OneHotEncoder(sparse=False),\n",
              "                                                     <sklearn.compose._column_transformer.make_column_selector object at 0x7fde1e6d6650>)])),\n",
              "                   ('pca', PCA())])),\n",
              "  ('kneighborsregressor', KNeighborsRegressor())],\n",
              " 'verbose': False}"
            ]
          },
          "metadata": {},
          "execution_count": 590
        }
      ]
    },
    {
      "cell_type": "code",
      "source": [
        "param_grid = {'kneighborsregressor__leaf_size': [30, 20, 10], 'kneighborsregressor__n_neighbors': [5, 10, 15],'kneighborsregressor__p':[2, 4, 6]}"
      ],
      "metadata": {
        "id": "oxQ_BDb4RHw5"
      },
      "execution_count": 591,
      "outputs": []
    },
    {
      "cell_type": "code",
      "source": [
        "knn_grid_search = GridSearchCV(knn_pipe, param_grid)"
      ],
      "metadata": {
        "id": "Ta-GkQ3HQEVh"
      },
      "execution_count": 592,
      "outputs": []
    },
    {
      "cell_type": "code",
      "source": [
        "%%time\n",
        "\n",
        "knn_grid_search.fit(X_train, y_train)\n"
      ],
      "metadata": {
        "colab": {
          "base_uri": "https://localhost:8080/"
        },
        "id": "6zKyKRJzRuFv",
        "outputId": "3710de75-416e-4e22-a44a-118ca994e0b2"
      },
      "execution_count": 593,
      "outputs": [
        {
          "output_type": "stream",
          "name": "stdout",
          "text": [
            "CPU times: user 1min 22s, sys: 11.4 s, total: 1min 34s\n",
            "Wall time: 1min 21s\n"
          ]
        },
        {
          "output_type": "execute_result",
          "data": {
            "text/plain": [
              "GridSearchCV(estimator=Pipeline(steps=[('pipeline',\n",
              "                                        Pipeline(steps=[('columntransformer',\n",
              "                                                         ColumnTransformer(transformers=[('standardscaler',\n",
              "                                                                                          StandardScaler(),\n",
              "                                                                                          <sklearn.compose._column_transformer.make_column_selector object at 0x7fde1e6d6ad0>),\n",
              "                                                                                         ('onehotencoder',\n",
              "                                                                                          OneHotEncoder(sparse=False),\n",
              "                                                                                          <sklearn.compose._column_transformer.make_column_selector object at 0x7fde1e6d6650>)])),\n",
              "                                                        ('pca', PCA())])),\n",
              "                                       ('kneighborsregressor',\n",
              "                                        KNeighborsRegressor())]),\n",
              "             param_grid={'kneighborsregressor__leaf_size': [30, 20, 10],\n",
              "                         'kneighborsregressor__n_neighbors': [5, 10, 15],\n",
              "                         'kneighborsregressor__p': [2, 4, 6]})"
            ]
          },
          "metadata": {},
          "execution_count": 593
        }
      ]
    },
    {
      "cell_type": "code",
      "source": [
        "%%time\n",
        "knn_grid_search.best_params_"
      ],
      "metadata": {
        "colab": {
          "base_uri": "https://localhost:8080/"
        },
        "id": "MIcgn3f0dFzW",
        "outputId": "818d5cce-aa92-4735-ad2f-dec6f15bf5c6"
      },
      "execution_count": 594,
      "outputs": [
        {
          "output_type": "stream",
          "name": "stdout",
          "text": [
            "CPU times: user 6 µs, sys: 1e+03 ns, total: 7 µs\n",
            "Wall time: 11.7 µs\n"
          ]
        },
        {
          "output_type": "execute_result",
          "data": {
            "text/plain": [
              "{'kneighborsregressor__leaf_size': 30,\n",
              " 'kneighborsregressor__n_neighbors': 5,\n",
              " 'kneighborsregressor__p': 2}"
            ]
          },
          "metadata": {},
          "execution_count": 594
        }
      ]
    },
    {
      "cell_type": "code",
      "source": [
        "best_knn = KNeighborsRegressor(n_neighbors=5)"
      ],
      "metadata": {
        "id": "2p6xVYIv20oN"
      },
      "execution_count": 595,
      "outputs": []
    },
    {
      "cell_type": "code",
      "source": [
        "knn_pipe = make_pipeline(pca_pipe, best_knn)\n",
        "knn_pipe.fit(X_train, y_train)"
      ],
      "metadata": {
        "colab": {
          "base_uri": "https://localhost:8080/"
        },
        "id": "bcwx-nZY6dUX",
        "outputId": "aa8aaee5-096d-4379-ab46-9c1e92f0d01b"
      },
      "execution_count": 596,
      "outputs": [
        {
          "output_type": "execute_result",
          "data": {
            "text/plain": [
              "Pipeline(steps=[('pipeline',\n",
              "                 Pipeline(steps=[('columntransformer',\n",
              "                                  ColumnTransformer(transformers=[('standardscaler',\n",
              "                                                                   StandardScaler(),\n",
              "                                                                   <sklearn.compose._column_transformer.make_column_selector object at 0x7fde1b747d90>),\n",
              "                                                                  ('onehotencoder',\n",
              "                                                                   OneHotEncoder(sparse=False),\n",
              "                                                                   <sklearn.compose._column_transformer.make_column_selector object at 0x7fde1b747a10>)])),\n",
              "                                 ('pca', PCA())])),\n",
              "                ('kneighborsregressor', KNeighborsRegressor())])"
            ]
          },
          "metadata": {},
          "execution_count": 596
        }
      ]
    },
    {
      "cell_type": "markdown",
      "source": [
        "###**Model Predictions**"
      ],
      "metadata": {
        "id": "xEiIH_vmP7IK"
      }
    },
    {
      "cell_type": "code",
      "source": [
        "train_preds = knn_pipe.predict(X_train)\n",
        "test_preds = knn_pipe.predict(X_test)"
      ],
      "metadata": {
        "id": "9mZWQgIVP_H-"
      },
      "execution_count": 597,
      "outputs": []
    },
    {
      "cell_type": "code",
      "source": [
        "train_score = knn_pipe.score(X_train, y_train)\n",
        "test_score = knn_pipe.score(X_test, y_test)\n",
        "\n",
        "print(train_score)\n",
        "print(test_score)"
      ],
      "metadata": {
        "colab": {
          "base_uri": "https://localhost:8080/"
        },
        "id": "ni5JdYUS0Q3M",
        "outputId": "5e4a8ff7-0462-485f-ba30-689651a4ceb7"
      },
      "execution_count": 598,
      "outputs": [
        {
          "output_type": "stream",
          "name": "stdout",
          "text": [
            "0.7294470521731031\n",
            "0.6193571227574098\n"
          ]
        }
      ]
    },
    {
      "cell_type": "markdown",
      "source": [
        ">73% accuracy on the training data for this model"
      ],
      "metadata": {
        "id": "o-r7UPzs4RhD"
      }
    },
    {
      "cell_type": "markdown",
      "source": [
        "##**Decision Tree**"
      ],
      "metadata": {
        "id": "_8NJs8Ue4Zyy"
      }
    },
    {
      "cell_type": "code",
      "source": [
        "dec_tree = DecisionTreeRegressor(random_state=42)"
      ],
      "metadata": {
        "id": "r86NuPW24dVK"
      },
      "execution_count": 600,
      "outputs": []
    },
    {
      "cell_type": "code",
      "source": [
        "dec_tree.fit(X_train, y_train)"
      ],
      "metadata": {
        "colab": {
          "base_uri": "https://localhost:8080/"
        },
        "id": "vkZWjUlq40nm",
        "outputId": "0f4cab6f-2857-4adc-f59b-08f3e47fcc4a"
      },
      "execution_count": 601,
      "outputs": [
        {
          "output_type": "execute_result",
          "data": {
            "text/plain": [
              "DecisionTreeRegressor(random_state=42)"
            ]
          },
          "metadata": {},
          "execution_count": 601
        }
      ]
    },
    {
      "cell_type": "markdown",
      "source": [
        "###**Model Predictions**"
      ],
      "metadata": {
        "id": "Fr_Wlt2s9wl3"
      }
    },
    {
      "cell_type": "code",
      "source": [
        "dec_train_preds = dec_tree.predict(X_train)\n",
        "dec_test_preds = dec_tree.predict(X_test)"
      ],
      "metadata": {
        "id": "j6PKrxBh45q4"
      },
      "execution_count": 602,
      "outputs": []
    },
    {
      "cell_type": "code",
      "source": [
        "dec_train_score = dec_tree.score(X_train, y_train)\n",
        "dec_test_score = dec_tree.score(X_test, y_test)\n",
        "\n",
        "print(dec_train_score)\n",
        "print(dec_test_score)"
      ],
      "metadata": {
        "colab": {
          "base_uri": "https://localhost:8080/"
        },
        "id": "-53aUiXr5FNc",
        "outputId": "3e9fd718-d488-4c2a-ea36-0c7b698b344a"
      },
      "execution_count": 603,
      "outputs": [
        {
          "output_type": "stream",
          "name": "stdout",
          "text": [
            "1.0\n",
            "0.9233173398272357\n"
          ]
        }
      ]
    },
    {
      "cell_type": "markdown",
      "source": [
        ">High Accuracy on both of these but we can tune it a bit to see more clearly"
      ],
      "metadata": {
        "id": "7BXuKqro5gDF"
      }
    },
    {
      "cell_type": "markdown",
      "source": [
        "###**Tuning Hyperparameters**"
      ],
      "metadata": {
        "id": "WzfZ5I3LDBBy"
      }
    },
    {
      "cell_type": "code",
      "source": [
        "dec_tree.get_params()"
      ],
      "metadata": {
        "colab": {
          "base_uri": "https://localhost:8080/"
        },
        "id": "Ag37NUow5oHu",
        "outputId": "803170a7-02a3-4b1d-988e-9946ef06d6db"
      },
      "execution_count": 604,
      "outputs": [
        {
          "output_type": "execute_result",
          "data": {
            "text/plain": [
              "{'ccp_alpha': 0.0,\n",
              " 'criterion': 'squared_error',\n",
              " 'max_depth': None,\n",
              " 'max_features': None,\n",
              " 'max_leaf_nodes': None,\n",
              " 'min_impurity_decrease': 0.0,\n",
              " 'min_samples_leaf': 1,\n",
              " 'min_samples_split': 2,\n",
              " 'min_weight_fraction_leaf': 0.0,\n",
              " 'random_state': 42,\n",
              " 'splitter': 'best'}"
            ]
          },
          "metadata": {},
          "execution_count": 604
        }
      ]
    },
    {
      "cell_type": "code",
      "source": [
        "dec_tree.get_depth()"
      ],
      "metadata": {
        "colab": {
          "base_uri": "https://localhost:8080/"
        },
        "id": "GCC-XEPo5um_",
        "outputId": "a315e6f6-bb81-41c6-fe2a-19788f549318"
      },
      "execution_count": 605,
      "outputs": [
        {
          "output_type": "execute_result",
          "data": {
            "text/plain": [
              "27"
            ]
          },
          "metadata": {},
          "execution_count": 605
        }
      ]
    },
    {
      "cell_type": "code",
      "source": [
        "dec_tree.get_n_leaves()"
      ],
      "metadata": {
        "colab": {
          "base_uri": "https://localhost:8080/"
        },
        "id": "JP7tFRQL5zG7",
        "outputId": "91c43e10-b908-4e09-963e-f4ee7c93c243"
      },
      "execution_count": 606,
      "outputs": [
        {
          "output_type": "execute_result",
          "data": {
            "text/plain": [
              "1476"
            ]
          },
          "metadata": {},
          "execution_count": 606
        }
      ]
    },
    {
      "cell_type": "markdown",
      "source": [
        ">Lets try the model with different max_depths and see if we see any changes"
      ],
      "metadata": {
        "id": "YmjzQMoh7KPT"
      }
    },
    {
      "cell_type": "code",
      "source": [
        "dec_tree_20 = DecisionTreeRegressor(max_depth = 20, random_state = 42)\n",
        "dec_tree_20.fit(X_train, y_train)\n",
        "train_20_score = dec_tree_20.score(X_train, y_train)\n",
        "test_20_score = dec_tree_20.score(X_test, y_test)\n",
        "print(train_20_score)\n",
        "print(test_20_score)\n"
      ],
      "metadata": {
        "colab": {
          "base_uri": "https://localhost:8080/"
        },
        "id": "v5fud95q7Jdx",
        "outputId": "30f5baf8-5d6a-47dc-9fff-87c5107c6735"
      },
      "execution_count": 612,
      "outputs": [
        {
          "output_type": "stream",
          "name": "stdout",
          "text": [
            "0.9999964559781651\n",
            "0.9197850318627152\n"
          ]
        }
      ]
    },
    {
      "cell_type": "markdown",
      "source": [
        "##**Logistic Regression**"
      ],
      "metadata": {
        "id": "v1o2fqqH-U_s"
      }
    },
    {
      "cell_type": "code",
      "source": [
        "reg = LinearRegression()                                                                                                                                                                                                      "
      ],
      "metadata": {
        "id": "Boo_Rnkd-eDV"
      },
      "execution_count": 615,
      "outputs": []
    },
    {
      "cell_type": "code",
      "source": [
        "reg.fit(X_train, y_train)"
      ],
      "metadata": {
        "colab": {
          "base_uri": "https://localhost:8080/"
        },
        "id": "atdPIIV0_P4n",
        "outputId": "907ed248-7026-4910-ab56-a0fb05d1c4ab"
      },
      "execution_count": 616,
      "outputs": [
        {
          "output_type": "execute_result",
          "data": {
            "text/plain": [
              "LinearRegression()"
            ]
          },
          "metadata": {},
          "execution_count": 616
        }
      ]
    },
    {
      "cell_type": "code",
      "source": [
        "reg_train_preds = reg.predict(X_train)\n",
        "reg_test_preds = reg.predict(X_test)"
      ],
      "metadata": {
        "id": "8zohRBNy_kI6"
      },
      "execution_count": 619,
      "outputs": []
    },
    {
      "cell_type": "markdown",
      "source": [
        "###**Regression Metrics**"
      ],
      "metadata": {
        "id": "WuLFFpn0Ac-F"
      }
    },
    {
      "cell_type": "markdown",
      "source": [
        "####**MAE**"
      ],
      "metadata": {
        "id": "jScaAQwHDTgr"
      }
    },
    {
      "cell_type": "code",
      "source": [
        "reg_train_MAE = mean_absolute_error(y_train, reg_train_preds)\n",
        "reg_test_MAE = mean_absolute_error(y_test, reg_test_preds)\n",
        "\n",
        "print(f'Reg Model Training MAE: {reg_train_MAE}')\n",
        "print(f'Reg Model Testing MAE: {reg_test_MAE}')"
      ],
      "metadata": {
        "colab": {
          "base_uri": "https://localhost:8080/"
        },
        "id": "hivtROZkDQsl",
        "outputId": "29533d10-4546-406d-904d-a39158ce999f"
      },
      "execution_count": 622,
      "outputs": [
        {
          "output_type": "stream",
          "name": "stdout",
          "text": [
            "Reg Model Training MAE: 0.614136956885909\n",
            "Reg Model Testing MAE: 0.6301268573497488\n"
          ]
        }
      ]
    },
    {
      "cell_type": "markdown",
      "source": [
        "####**MSE**"
      ],
      "metadata": {
        "id": "TV-S9xftEKVu"
      }
    },
    {
      "cell_type": "code",
      "source": [
        "reg_train_MSE = mean_squared_error(y_train, reg_train_preds)\n",
        "reg_test_MSE = mean_squared_error(y_test, reg_test_preds)\n",
        "\n",
        "print(f'Reg Model Training MSE: {reg_train_MSE}')\n",
        "print(f'Reg Model Testing MSE: {reg_test_MSE}')"
      ],
      "metadata": {
        "colab": {
          "base_uri": "https://localhost:8080/"
        },
        "id": "ojmR_v7RENAr",
        "outputId": "b696976c-430a-4547-cf79-b980ed857e10"
      },
      "execution_count": 624,
      "outputs": [
        {
          "output_type": "stream",
          "name": "stdout",
          "text": [
            "Reg Model Training MSE: 0.8548041038258979\n",
            "Reg Model Testing MSE: 0.7828826699720487\n"
          ]
        }
      ]
    },
    {
      "cell_type": "markdown",
      "source": [
        "####**RMSE**"
      ],
      "metadata": {
        "id": "5z86krqzEe9a"
      }
    },
    {
      "cell_type": "code",
      "source": [
        "reg_train_RMSE = np.sqrt(reg_train_MSE)\n",
        "reg_test_RMSE = np.sqrt(reg_test_MSE)\n",
        "\n",
        "print(f'Reg Model Training MAE: {reg_train_RMSE}')\n",
        "print(f'Reg Model Testing MAE: {reg_test_RMSE}')"
      ],
      "metadata": {
        "colab": {
          "base_uri": "https://localhost:8080/"
        },
        "id": "BeWzzM71Elp_",
        "outputId": "6521ba8f-7692-4832-ba4a-385b589afad4"
      },
      "execution_count": 625,
      "outputs": [
        {
          "output_type": "stream",
          "name": "stdout",
          "text": [
            "Reg Model Training MAE: 0.9245561658579201\n",
            "Reg Model Testing MAE: 0.8848065720664877\n"
          ]
        }
      ]
    },
    {
      "cell_type": "markdown",
      "source": [
        "####**R2 Score**"
      ],
      "metadata": {
        "id": "K2WEnBLjE4zq"
      }
    },
    {
      "cell_type": "code",
      "source": [
        "reg_train_r2 = r2_score(y_train, reg_train_preds)\n",
        "reg_test_r2 = r2_score(y_test, reg_test_preds)\n",
        "\n",
        "print(f'Reg Model Training MSE: {reg_train_r2}')\n",
        "print(f'Reg Model Testing MSE: {reg_test_r2}')"
      ],
      "metadata": {
        "colab": {
          "base_uri": "https://localhost:8080/"
        },
        "id": "DoXJZWbRE8-M",
        "outputId": "e9814c64-4251-485d-eaea-8c92079a60f4"
      },
      "execution_count": 626,
      "outputs": [
        {
          "output_type": "stream",
          "name": "stdout",
          "text": [
            "Reg Model Training MSE: 0.9857822375604344\n",
            "Reg Model Testing MSE: 0.9884753127737842\n"
          ]
        }
      ]
    }
  ]
}