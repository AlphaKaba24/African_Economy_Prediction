{
  "nbformat": 4,
  "nbformat_minor": 0,
  "metadata": {
    "colab": {
      "name": "africa_GDP",
      "provenance": [],
      "authorship_tag": "ABX9TyNlU90MEUy5GJUQ9SAcagkZ",
      "include_colab_link": true
    },
    "kernelspec": {
      "name": "python3",
      "display_name": "Python 3"
    },
    "language_info": {
      "name": "python"
    }
  },
  "cells": [
    {
      "cell_type": "markdown",
      "metadata": {
        "id": "view-in-github",
        "colab_type": "text"
      },
      "source": [
        "<a href=\"https://colab.research.google.com/github/AlphaKaba24/African_Economy_Prediction/blob/main/africa_GDP.ipynb\" target=\"_parent\"><img src=\"https://colab.research.google.com/assets/colab-badge.svg\" alt=\"Open In Colab\"/></a>"
      ]
    },
    {
      "cell_type": "markdown",
      "source": [
        "# **AFRICAN GDP GROWTH PER YEAR**\n",
        "##Alpha Kaba //"
      ],
      "metadata": {
        "id": "bXshy-nmt2oM"
      }
    },
    {
      "cell_type": "markdown",
      "source": [
        "##**Import Libraries/Load Data**"
      ],
      "metadata": {
        "id": "SapbQKE1JtYF"
      }
    },
    {
      "cell_type": "code",
      "source": [
        "import pandas as pd\n",
        "import numpy as np\n",
        "from sklearn.model_selection import train_test_split\n",
        "import seaborn as sns\n",
        "import matplotlib.pyplot as plt\n",
        "from sklearn.compose import make_column_selector, make_column_transformer\n",
        "from sklearn.preprocessing import StandardScaler, OneHotEncoder"
      ],
      "metadata": {
        "id": "jLAD2txquZYB"
      },
      "execution_count": 32,
      "outputs": []
    },
    {
      "cell_type": "code",
      "execution_count": 24,
      "metadata": {
        "colab": {
          "base_uri": "https://localhost:8080/",
          "height": 401
        },
        "id": "WB2abHeQt19N",
        "outputId": "c7968c5e-d1d2-42a9-85b0-cce3bd8bbc7c"
      },
      "outputs": [
        {
          "output_type": "execute_result",
          "data": {
            "text/plain": [
              "  Country  Year  Real per Capita GDP Growth Rate (annual %)  \\\n",
              "0  Malawi  1980                                         NaN   \n",
              "1  Malawi  1981                                      -13.06   \n",
              "2  Malawi  1982                                       -0.93   \n",
              "3  Malawi  1983                                        1.56   \n",
              "4  Malawi  1984                                        0.54   \n",
              "\n",
              "   Real GDP growth (annual %)  Gross domestic product, (constant prices US$)  \\\n",
              "0                         NaN                                        3038.14   \n",
              "1                      -10.81                                        2709.74   \n",
              "2                        1.44                                        2748.84   \n",
              "3                        4.21                                        2864.70   \n",
              "4                        3.92                                        2976.95   \n",
              "\n",
              "   Gross domestic product, current prices (current US$)  \\\n",
              "0                                            2236.36      \n",
              "1                                            2236.40      \n",
              "2                                            2113.68      \n",
              "3                                            2203.66      \n",
              "4                                            2157.88      \n",
              "\n",
              "   Final consumption expenditure  (current US$)  \\\n",
              "0                                       1104.30   \n",
              "1                                       1091.26   \n",
              "2                                       1002.45   \n",
              "3                                       1037.06   \n",
              "4                                       1028.95   \n",
              "\n",
              "   General government final consumption expenditure (current US$)  \\\n",
              "0                                             238.76                \n",
              "1                                             221.16                \n",
              "2                                             206.82                \n",
              "3                                             200.81                \n",
              "4                                             189.62                \n",
              "\n",
              "   Household final consumption expenditure (current US$)  \\\n",
              "0                                             865.54       \n",
              "1                                             870.10       \n",
              "2                                             795.63       \n",
              "3                                             836.26       \n",
              "4                                             839.34       \n",
              "\n",
              "   Gross capital formation (current US$)  ...  \\\n",
              "0                                 306.24  ...   \n",
              "1                                 218.14  ...   \n",
              "2                                 252.58  ...   \n",
              "3                                 278.87  ...   \n",
              "4                                 155.58  ...   \n",
              "\n",
              "   Imports of goods and services (% of GDP)  \\\n",
              "0                                     21.48   \n",
              "1                                     17.41   \n",
              "2                                     16.10   \n",
              "3                                     15.73   \n",
              "4                                     14.79   \n",
              "\n",
              "   Central government, Fiscal Balance (Current US $)  \\\n",
              "0                                            -142.96   \n",
              "1                                            -133.47   \n",
              "2                                            -119.21   \n",
              "3                                             -96.80   \n",
              "4                                             -78.94   \n",
              "\n",
              "   Central government, total revenue and grants  (Current US $)  \\\n",
              "0                                             298.61              \n",
              "1                                             276.61              \n",
              "2                                             254.71              \n",
              "3                                             250.68              \n",
              "4                                             239.30              \n",
              "\n",
              "   Central government, total expenditure and net lending  (Current US $)  \\\n",
              "0                                             441.57                       \n",
              "1                                             410.09                       \n",
              "2                                             373.92                       \n",
              "3                                             347.48                       \n",
              "4                                             318.24                       \n",
              "\n",
              "   Central government, Fiscal Balance (% of GDP)  \\\n",
              "0                                          -6.39   \n",
              "1                                          -5.97   \n",
              "2                                          -5.64   \n",
              "3                                          -4.39   \n",
              "4                                          -3.66   \n",
              "\n",
              "   Central government, total revenue and grants  (% of GDP)  \\\n",
              "0                                              13.35          \n",
              "1                                              12.37          \n",
              "2                                              12.05          \n",
              "3                                              11.38          \n",
              "4                                              11.09          \n",
              "\n",
              "   Central government, total expenditure and net lending  (% of GDP)  \\\n",
              "0                                              19.75                   \n",
              "1                                              18.34                   \n",
              "2                                              17.69                   \n",
              "3                                              15.77                   \n",
              "4                                              14.75                   \n",
              "\n",
              "   Current account balance (Net, BoP, cur. US$)  \\\n",
              "0                                       -207.07   \n",
              "1                                        -86.71   \n",
              "2                                        -91.15   \n",
              "3                                       -103.94   \n",
              "4                                          3.88   \n",
              "\n",
              "   Current account balance (As % of GDP)  \\\n",
              "0                                  -9.26   \n",
              "1                                  -3.88   \n",
              "2                                  -4.31   \n",
              "3                                  -4.72   \n",
              "4                                   0.18   \n",
              "\n",
              "   Inflation, consumer prices (annual %)  \n",
              "0                                    NaN  \n",
              "1                                  12.01  \n",
              "2                                   9.52  \n",
              "3                                  13.77  \n",
              "4                                  19.74  \n",
              "\n",
              "[5 rows x 31 columns]"
            ],
            "text/html": [
              "\n",
              "  <div id=\"df-d7899d53-97fc-4df1-96d4-006106817817\">\n",
              "    <div class=\"colab-df-container\">\n",
              "      <div>\n",
              "<style scoped>\n",
              "    .dataframe tbody tr th:only-of-type {\n",
              "        vertical-align: middle;\n",
              "    }\n",
              "\n",
              "    .dataframe tbody tr th {\n",
              "        vertical-align: top;\n",
              "    }\n",
              "\n",
              "    .dataframe thead th {\n",
              "        text-align: right;\n",
              "    }\n",
              "</style>\n",
              "<table border=\"1\" class=\"dataframe\">\n",
              "  <thead>\n",
              "    <tr style=\"text-align: right;\">\n",
              "      <th></th>\n",
              "      <th>Country</th>\n",
              "      <th>Year</th>\n",
              "      <th>Real per Capita GDP Growth Rate (annual %)</th>\n",
              "      <th>Real GDP growth (annual %)</th>\n",
              "      <th>Gross domestic product, (constant prices US$)</th>\n",
              "      <th>Gross domestic product, current prices (current US$)</th>\n",
              "      <th>Final consumption expenditure  (current US$)</th>\n",
              "      <th>General government final consumption expenditure (current US$)</th>\n",
              "      <th>Household final consumption expenditure (current US$)</th>\n",
              "      <th>Gross capital formation (current US$)</th>\n",
              "      <th>...</th>\n",
              "      <th>Imports of goods and services (% of GDP)</th>\n",
              "      <th>Central government, Fiscal Balance (Current US $)</th>\n",
              "      <th>Central government, total revenue and grants  (Current US $)</th>\n",
              "      <th>Central government, total expenditure and net lending  (Current US $)</th>\n",
              "      <th>Central government, Fiscal Balance (% of GDP)</th>\n",
              "      <th>Central government, total revenue and grants  (% of GDP)</th>\n",
              "      <th>Central government, total expenditure and net lending  (% of GDP)</th>\n",
              "      <th>Current account balance (Net, BoP, cur. US$)</th>\n",
              "      <th>Current account balance (As % of GDP)</th>\n",
              "      <th>Inflation, consumer prices (annual %)</th>\n",
              "    </tr>\n",
              "  </thead>\n",
              "  <tbody>\n",
              "    <tr>\n",
              "      <th>0</th>\n",
              "      <td>Malawi</td>\n",
              "      <td>1980</td>\n",
              "      <td>NaN</td>\n",
              "      <td>NaN</td>\n",
              "      <td>3038.14</td>\n",
              "      <td>2236.36</td>\n",
              "      <td>1104.30</td>\n",
              "      <td>238.76</td>\n",
              "      <td>865.54</td>\n",
              "      <td>306.24</td>\n",
              "      <td>...</td>\n",
              "      <td>21.48</td>\n",
              "      <td>-142.96</td>\n",
              "      <td>298.61</td>\n",
              "      <td>441.57</td>\n",
              "      <td>-6.39</td>\n",
              "      <td>13.35</td>\n",
              "      <td>19.75</td>\n",
              "      <td>-207.07</td>\n",
              "      <td>-9.26</td>\n",
              "      <td>NaN</td>\n",
              "    </tr>\n",
              "    <tr>\n",
              "      <th>1</th>\n",
              "      <td>Malawi</td>\n",
              "      <td>1981</td>\n",
              "      <td>-13.06</td>\n",
              "      <td>-10.81</td>\n",
              "      <td>2709.74</td>\n",
              "      <td>2236.40</td>\n",
              "      <td>1091.26</td>\n",
              "      <td>221.16</td>\n",
              "      <td>870.10</td>\n",
              "      <td>218.14</td>\n",
              "      <td>...</td>\n",
              "      <td>17.41</td>\n",
              "      <td>-133.47</td>\n",
              "      <td>276.61</td>\n",
              "      <td>410.09</td>\n",
              "      <td>-5.97</td>\n",
              "      <td>12.37</td>\n",
              "      <td>18.34</td>\n",
              "      <td>-86.71</td>\n",
              "      <td>-3.88</td>\n",
              "      <td>12.01</td>\n",
              "    </tr>\n",
              "    <tr>\n",
              "      <th>2</th>\n",
              "      <td>Malawi</td>\n",
              "      <td>1982</td>\n",
              "      <td>-0.93</td>\n",
              "      <td>1.44</td>\n",
              "      <td>2748.84</td>\n",
              "      <td>2113.68</td>\n",
              "      <td>1002.45</td>\n",
              "      <td>206.82</td>\n",
              "      <td>795.63</td>\n",
              "      <td>252.58</td>\n",
              "      <td>...</td>\n",
              "      <td>16.10</td>\n",
              "      <td>-119.21</td>\n",
              "      <td>254.71</td>\n",
              "      <td>373.92</td>\n",
              "      <td>-5.64</td>\n",
              "      <td>12.05</td>\n",
              "      <td>17.69</td>\n",
              "      <td>-91.15</td>\n",
              "      <td>-4.31</td>\n",
              "      <td>9.52</td>\n",
              "    </tr>\n",
              "    <tr>\n",
              "      <th>3</th>\n",
              "      <td>Malawi</td>\n",
              "      <td>1983</td>\n",
              "      <td>1.56</td>\n",
              "      <td>4.21</td>\n",
              "      <td>2864.70</td>\n",
              "      <td>2203.66</td>\n",
              "      <td>1037.06</td>\n",
              "      <td>200.81</td>\n",
              "      <td>836.26</td>\n",
              "      <td>278.87</td>\n",
              "      <td>...</td>\n",
              "      <td>15.73</td>\n",
              "      <td>-96.80</td>\n",
              "      <td>250.68</td>\n",
              "      <td>347.48</td>\n",
              "      <td>-4.39</td>\n",
              "      <td>11.38</td>\n",
              "      <td>15.77</td>\n",
              "      <td>-103.94</td>\n",
              "      <td>-4.72</td>\n",
              "      <td>13.77</td>\n",
              "    </tr>\n",
              "    <tr>\n",
              "      <th>4</th>\n",
              "      <td>Malawi</td>\n",
              "      <td>1984</td>\n",
              "      <td>0.54</td>\n",
              "      <td>3.92</td>\n",
              "      <td>2976.95</td>\n",
              "      <td>2157.88</td>\n",
              "      <td>1028.95</td>\n",
              "      <td>189.62</td>\n",
              "      <td>839.34</td>\n",
              "      <td>155.58</td>\n",
              "      <td>...</td>\n",
              "      <td>14.79</td>\n",
              "      <td>-78.94</td>\n",
              "      <td>239.30</td>\n",
              "      <td>318.24</td>\n",
              "      <td>-3.66</td>\n",
              "      <td>11.09</td>\n",
              "      <td>14.75</td>\n",
              "      <td>3.88</td>\n",
              "      <td>0.18</td>\n",
              "      <td>19.74</td>\n",
              "    </tr>\n",
              "  </tbody>\n",
              "</table>\n",
              "<p>5 rows × 31 columns</p>\n",
              "</div>\n",
              "      <button class=\"colab-df-convert\" onclick=\"convertToInteractive('df-d7899d53-97fc-4df1-96d4-006106817817')\"\n",
              "              title=\"Convert this dataframe to an interactive table.\"\n",
              "              style=\"display:none;\">\n",
              "        \n",
              "  <svg xmlns=\"http://www.w3.org/2000/svg\" height=\"24px\"viewBox=\"0 0 24 24\"\n",
              "       width=\"24px\">\n",
              "    <path d=\"M0 0h24v24H0V0z\" fill=\"none\"/>\n",
              "    <path d=\"M18.56 5.44l.94 2.06.94-2.06 2.06-.94-2.06-.94-.94-2.06-.94 2.06-2.06.94zm-11 1L8.5 8.5l.94-2.06 2.06-.94-2.06-.94L8.5 2.5l-.94 2.06-2.06.94zm10 10l.94 2.06.94-2.06 2.06-.94-2.06-.94-.94-2.06-.94 2.06-2.06.94z\"/><path d=\"M17.41 7.96l-1.37-1.37c-.4-.4-.92-.59-1.43-.59-.52 0-1.04.2-1.43.59L10.3 9.45l-7.72 7.72c-.78.78-.78 2.05 0 2.83L4 21.41c.39.39.9.59 1.41.59.51 0 1.02-.2 1.41-.59l7.78-7.78 2.81-2.81c.8-.78.8-2.07 0-2.86zM5.41 20L4 18.59l7.72-7.72 1.47 1.35L5.41 20z\"/>\n",
              "  </svg>\n",
              "      </button>\n",
              "      \n",
              "  <style>\n",
              "    .colab-df-container {\n",
              "      display:flex;\n",
              "      flex-wrap:wrap;\n",
              "      gap: 12px;\n",
              "    }\n",
              "\n",
              "    .colab-df-convert {\n",
              "      background-color: #E8F0FE;\n",
              "      border: none;\n",
              "      border-radius: 50%;\n",
              "      cursor: pointer;\n",
              "      display: none;\n",
              "      fill: #1967D2;\n",
              "      height: 32px;\n",
              "      padding: 0 0 0 0;\n",
              "      width: 32px;\n",
              "    }\n",
              "\n",
              "    .colab-df-convert:hover {\n",
              "      background-color: #E2EBFA;\n",
              "      box-shadow: 0px 1px 2px rgba(60, 64, 67, 0.3), 0px 1px 3px 1px rgba(60, 64, 67, 0.15);\n",
              "      fill: #174EA6;\n",
              "    }\n",
              "\n",
              "    [theme=dark] .colab-df-convert {\n",
              "      background-color: #3B4455;\n",
              "      fill: #D2E3FC;\n",
              "    }\n",
              "\n",
              "    [theme=dark] .colab-df-convert:hover {\n",
              "      background-color: #434B5C;\n",
              "      box-shadow: 0px 1px 3px 1px rgba(0, 0, 0, 0.15);\n",
              "      filter: drop-shadow(0px 1px 2px rgba(0, 0, 0, 0.3));\n",
              "      fill: #FFFFFF;\n",
              "    }\n",
              "  </style>\n",
              "\n",
              "      <script>\n",
              "        const buttonEl =\n",
              "          document.querySelector('#df-d7899d53-97fc-4df1-96d4-006106817817 button.colab-df-convert');\n",
              "        buttonEl.style.display =\n",
              "          google.colab.kernel.accessAllowed ? 'block' : 'none';\n",
              "\n",
              "        async function convertToInteractive(key) {\n",
              "          const element = document.querySelector('#df-d7899d53-97fc-4df1-96d4-006106817817');\n",
              "          const dataTable =\n",
              "            await google.colab.kernel.invokeFunction('convertToInteractive',\n",
              "                                                     [key], {});\n",
              "          if (!dataTable) return;\n",
              "\n",
              "          const docLinkHtml = 'Like what you see? Visit the ' +\n",
              "            '<a target=\"_blank\" href=https://colab.research.google.com/notebooks/data_table.ipynb>data table notebook</a>'\n",
              "            + ' to learn more about interactive tables.';\n",
              "          element.innerHTML = '';\n",
              "          dataTable['output_type'] = 'display_data';\n",
              "          await google.colab.output.renderOutput(dataTable, element);\n",
              "          const docLink = document.createElement('div');\n",
              "          docLink.innerHTML = docLinkHtml;\n",
              "          element.appendChild(docLink);\n",
              "        }\n",
              "      </script>\n",
              "    </div>\n",
              "  </div>\n",
              "  "
            ]
          },
          "metadata": {},
          "execution_count": 24
        }
      ],
      "source": [
        "africa_df = pd.read_csv('/content/ObservationData_lavlqce.csv')\n",
        "africa_df.head()"
      ]
    },
    {
      "cell_type": "markdown",
      "source": [
        "##**Data Prep**"
      ],
      "metadata": {
        "id": "AZbSXws3J5KX"
      }
    },
    {
      "cell_type": "code",
      "source": [
        "africa_df.info()"
      ],
      "metadata": {
        "colab": {
          "base_uri": "https://localhost:8080/"
        },
        "id": "AQkExIMuzHSm",
        "outputId": "4695f1c0-e629-4d01-c593-c82852844f84"
      },
      "execution_count": 3,
      "outputs": [
        {
          "output_type": "stream",
          "name": "stdout",
          "text": [
            "<class 'pandas.core.frame.DataFrame'>\n",
            "RangeIndex: 2322 entries, 0 to 2321\n",
            "Data columns (total 31 columns):\n",
            " #   Column                                                                 Non-Null Count  Dtype  \n",
            "---  ------                                                                 --------------  -----  \n",
            " 0   Country                                                                2322 non-null   object \n",
            " 1   Year                                                                   2322 non-null   int64  \n",
            " 2   Real per Capita GDP Growth Rate (annual %)                             2238 non-null   float64\n",
            " 3   Real GDP growth (annual %)                                             2238 non-null   float64\n",
            " 4   Gross domestic product, (constant prices US$)                          2292 non-null   float64\n",
            " 5   Gross domestic product, current prices (current US$)                   2311 non-null   float64\n",
            " 6   Final consumption expenditure  (current US$)                           2239 non-null   float64\n",
            " 7   General government final consumption expenditure (current US$)         2239 non-null   float64\n",
            " 8   Household final consumption expenditure (current US$)                  2239 non-null   float64\n",
            " 9   Gross capital formation (current US$)                                  2239 non-null   float64\n",
            " 10  Gross capital formation, Private sector  (current US$)                 2159 non-null   float64\n",
            " 11  Gross capital formation, Public sector  (current US$)                  2159 non-null   float64\n",
            " 12  Exports of goods and services (current US$)                            2239 non-null   float64\n",
            " 13  Imports of goods and services (current US$)                            2239 non-null   float64\n",
            " 14  Final consumption expenditure  (% of GDP)                              2239 non-null   float64\n",
            " 15  General government final consumption expenditure (% of GDP)            2239 non-null   float64\n",
            " 16  Household final consumption expenditure  (% of GDP)                    2239 non-null   float64\n",
            " 17  Gross capital formation (% of GDP)                                     2239 non-null   float64\n",
            " 18  Gross capital formation, Private sector (% GDP)                        2159 non-null   float64\n",
            " 19  Gross capital formation, Public sector (% GDP)                         2159 non-null   float64\n",
            " 20  Exports of goods and services (% of GDP)                               2239 non-null   float64\n",
            " 21  Imports of goods and services (% of GDP)                               2239 non-null   float64\n",
            " 22  Central government, Fiscal Balance (Current US $)                      2173 non-null   float64\n",
            " 23  Central government, total revenue and grants  (Current US $)           2158 non-null   float64\n",
            " 24  Central government, total expenditure and net lending  (Current US $)  2162 non-null   float64\n",
            " 25  Central government, Fiscal Balance (% of GDP)                          2175 non-null   float64\n",
            " 26  Central government, total revenue and grants  (% of GDP)               2158 non-null   float64\n",
            " 27  Central government, total expenditure and net lending  (% of GDP)      2162 non-null   float64\n",
            " 28  Current account balance (Net, BoP, cur. US$)                           2204 non-null   float64\n",
            " 29  Current account balance (As % of GDP)                                  2202 non-null   float64\n",
            " 30  Inflation, consumer prices (annual %)                                  2168 non-null   float64\n",
            "dtypes: float64(29), int64(1), object(1)\n",
            "memory usage: 562.5+ KB\n"
          ]
        }
      ]
    },
    {
      "cell_type": "code",
      "source": [
        "africa_df.describe"
      ],
      "metadata": {
        "id": "jyh_tgysuxgc",
        "colab": {
          "base_uri": "https://localhost:8080/"
        },
        "outputId": "ee5e0063-239e-4b7c-c3c3-cb1e8bc20306"
      },
      "execution_count": 4,
      "outputs": [
        {
          "output_type": "execute_result",
          "data": {
            "text/plain": [
              "<bound method NDFrame.describe of        Country  Year  Real per Capita GDP Growth Rate (annual %)  \\\n",
              "0       Malawi  1980                                         NaN   \n",
              "1       Malawi  1981                                  -13.060000   \n",
              "2       Malawi  1982                                   -0.930000   \n",
              "3       Malawi  1983                                    1.560000   \n",
              "4       Malawi  1984                                    0.540000   \n",
              "...        ...   ...                                         ...   \n",
              "2317  Zimbabwe  2018                                    2.047585   \n",
              "2318  Zimbabwe  2019                                   -7.326458   \n",
              "2319  Zimbabwe  2020                                  -11.328102   \n",
              "2320  Zimbabwe  2021                                    2.570616   \n",
              "2321  Zimbabwe  2022                                    1.399660   \n",
              "\n",
              "      Real GDP growth (annual %)  \\\n",
              "0                            NaN   \n",
              "1                     -10.810000   \n",
              "2                       1.440000   \n",
              "3                       4.210000   \n",
              "4                       3.920000   \n",
              "...                          ...   \n",
              "2317                    3.497000   \n",
              "2318                   -6.000000   \n",
              "2319                  -10.011501   \n",
              "2320                    4.152674   \n",
              "2321                    3.007154   \n",
              "\n",
              "      Gross domestic product, (constant prices US$)  \\\n",
              "0                                        3038.14000   \n",
              "1                                        2709.74000   \n",
              "2                                        2748.84000   \n",
              "3                                        2864.70000   \n",
              "4                                        2976.95000   \n",
              "...                                             ...   \n",
              "2317                                    18604.74405   \n",
              "2318                                    17488.45940   \n",
              "2319                                    15737.60218   \n",
              "2320                                    16391.13342   \n",
              "2321                                    16884.04005   \n",
              "\n",
              "      Gross domestic product, current prices (current US$)  \\\n",
              "0                                            2236.36000      \n",
              "1                                            2236.40000      \n",
              "2                                            2113.68000      \n",
              "3                                            2203.66000      \n",
              "4                                            2157.88000      \n",
              "...                                                 ...      \n",
              "2317                                        24201.18315      \n",
              "2318                                        20706.44740      \n",
              "2319                                        17942.11857      \n",
              "2320                                        19003.33811      \n",
              "2321                                        19681.90789      \n",
              "\n",
              "      Final consumption expenditure  (current US$)  \\\n",
              "0                                       1104.30000   \n",
              "1                                       1091.26000   \n",
              "2                                       1002.45000   \n",
              "3                                       1037.06000   \n",
              "4                                       1028.95000   \n",
              "...                                            ...   \n",
              "2317                                   24587.09004   \n",
              "2318                                   19475.14585   \n",
              "2319                                   17378.89900   \n",
              "2320                                   18486.90774   \n",
              "2321                                   19219.78812   \n",
              "\n",
              "      General government final consumption expenditure (current US$)  \\\n",
              "0                                            238.760000                \n",
              "1                                            221.160000                \n",
              "2                                            206.820000                \n",
              "3                                            200.810000                \n",
              "4                                            189.620000                \n",
              "...                                                 ...                \n",
              "2317                                        6228.315843                \n",
              "2318                                        2221.494474                \n",
              "2319                                        2113.138653                \n",
              "2320                                        2196.948197                \n",
              "2321                                        2279.464963                \n",
              "\n",
              "      Household final consumption expenditure (current US$)  \\\n",
              "0                                             865.54000       \n",
              "1                                             870.10000       \n",
              "2                                             795.63000       \n",
              "3                                             836.26000       \n",
              "4                                             839.34000       \n",
              "...                                                 ...       \n",
              "2317                                        18358.77420       \n",
              "2318                                        17253.65137       \n",
              "2319                                        15265.76034       \n",
              "2320                                        16289.95954       \n",
              "2321                                        16940.32316       \n",
              "\n",
              "      Gross capital formation (current US$)  ...  \\\n",
              "0                                306.240000  ...   \n",
              "1                                218.140000  ...   \n",
              "2                                252.580000  ...   \n",
              "3                                278.870000  ...   \n",
              "4                                155.580000  ...   \n",
              "...                                     ...  ...   \n",
              "2317                            2282.487586  ...   \n",
              "2318                            1362.732006  ...   \n",
              "2319                             901.907970  ...   \n",
              "2320                             981.976395  ...   \n",
              "2321                            1063.478646  ...   \n",
              "\n",
              "      Imports of goods and services (% of GDP)  \\\n",
              "0                                    21.480000   \n",
              "1                                    17.410000   \n",
              "2                                    16.100000   \n",
              "3                                    15.730000   \n",
              "4                                    14.790000   \n",
              "...                                        ...   \n",
              "2317                                 31.146159   \n",
              "2318                                 26.070949   \n",
              "2319                                 23.594682   \n",
              "2320                                 24.204740   \n",
              "2321                                 25.133211   \n",
              "\n",
              "      Central government, Fiscal Balance (Current US $)  \\\n",
              "0                                           -142.960000   \n",
              "1                                           -133.470000   \n",
              "2                                           -119.210000   \n",
              "3                                            -96.800000   \n",
              "4                                            -78.940000   \n",
              "...                                                 ...   \n",
              "2317                                       -2019.349767   \n",
              "2318                                        -558.523337   \n",
              "2319                                        -516.880494   \n",
              "2320                                        -490.613196   \n",
              "2321                                        -516.472513   \n",
              "\n",
              "      Central government, total revenue and grants  (Current US $)  \\\n",
              "0                                            298.610000              \n",
              "1                                            276.610000              \n",
              "2                                            254.710000              \n",
              "3                                            250.680000              \n",
              "4                                            239.300000              \n",
              "...                                                 ...              \n",
              "2317                                        5533.453859              \n",
              "2318                                        3097.742372              \n",
              "2319                                        2767.650934              \n",
              "2320                                        2928.757810              \n",
              "2321                                        3033.489693              \n",
              "\n",
              "      Central government, total expenditure and net lending  (Current US $)  \\\n",
              "0                                            441.570000                       \n",
              "1                                            410.090000                       \n",
              "2                                            373.920000                       \n",
              "3                                            347.480000                       \n",
              "4                                            318.240000                       \n",
              "...                                                 ...                       \n",
              "2317                                        7552.803626                       \n",
              "2318                                        3656.265709                       \n",
              "2319                                        3284.531428                       \n",
              "2320                                        3419.371005                       \n",
              "2321                                        3549.962206                       \n",
              "\n",
              "      Central government, Fiscal Balance (% of GDP)  \\\n",
              "0                                         -6.390000   \n",
              "1                                         -5.970000   \n",
              "2                                         -5.640000   \n",
              "3                                         -4.390000   \n",
              "4                                         -3.660000   \n",
              "...                                             ...   \n",
              "2317                                      -8.344013   \n",
              "2318                                      -2.697340   \n",
              "2319                                      -2.880822   \n",
              "2320                                      -2.581721   \n",
              "2321                                      -2.624098   \n",
              "\n",
              "      Central government, total revenue and grants  (% of GDP)  \\\n",
              "0                                             13.350000          \n",
              "1                                             12.370000          \n",
              "2                                             12.050000          \n",
              "3                                             11.380000          \n",
              "4                                             11.090000          \n",
              "...                                                 ...          \n",
              "2317                                          22.864394          \n",
              "2318                                          14.960279          \n",
              "2319                                          15.425441          \n",
              "2320                                          15.411807          \n",
              "2321                                          15.412579          \n",
              "\n",
              "      Central government, total expenditure and net lending  (% of GDP)  \\\n",
              "0                                             19.750000                   \n",
              "1                                             18.340000                   \n",
              "2                                             17.690000                   \n",
              "3                                             15.770000                   \n",
              "4                                             14.750000                   \n",
              "...                                                 ...                   \n",
              "2317                                          31.208407                   \n",
              "2318                                          17.657620                   \n",
              "2319                                          18.306263                   \n",
              "2320                                          17.993528                   \n",
              "2321                                          18.036677                   \n",
              "\n",
              "      Current account balance (Net, BoP, cur. US$)  \\\n",
              "0                                      -207.070000   \n",
              "1                                       -86.710000   \n",
              "2                                       -91.150000   \n",
              "3                                      -103.940000   \n",
              "4                                         3.880000   \n",
              "...                                            ...   \n",
              "2317                                  -1379.626260   \n",
              "2318                                    229.764025   \n",
              "2319                                   -348.597609   \n",
              "2320                                   -374.726966   \n",
              "2321                                   -429.413218   \n",
              "\n",
              "      Current account balance (As % of GDP)  \\\n",
              "0                                 -9.260000   \n",
              "1                                 -3.880000   \n",
              "2                                 -4.310000   \n",
              "3                                 -4.720000   \n",
              "4                                  0.180000   \n",
              "...                                     ...   \n",
              "2317                              -5.700656   \n",
              "2318                               1.109626   \n",
              "2319                              -1.942901   \n",
              "2320                              -1.971901   \n",
              "2321                              -2.181766   \n",
              "\n",
              "      Inflation, consumer prices (annual %)  \n",
              "0                                       NaN  \n",
              "1                                 12.010000  \n",
              "2                                  9.520000  \n",
              "3                                 13.770000  \n",
              "4                                 19.740000  \n",
              "...                                     ...  \n",
              "2317                              10.620290  \n",
              "2318                             226.914167  \n",
              "2319                             622.751634  \n",
              "2320                             135.040634  \n",
              "2321                              25.040634  \n",
              "\n",
              "[2322 rows x 31 columns]>"
            ]
          },
          "metadata": {},
          "execution_count": 4
        }
      ]
    },
    {
      "cell_type": "code",
      "source": [
        "print(africa_df.shape[0])"
      ],
      "metadata": {
        "colab": {
          "base_uri": "https://localhost:8080/"
        },
        "id": "73Li66kWviO-",
        "outputId": "b587d541-5b2c-47a5-ae9b-52190921fc38"
      },
      "execution_count": 5,
      "outputs": [
        {
          "output_type": "stream",
          "name": "stdout",
          "text": [
            "2322\n"
          ]
        }
      ]
    },
    {
      "cell_type": "code",
      "source": [
        "africa_df.duplicated().sum()"
      ],
      "metadata": {
        "colab": {
          "base_uri": "https://localhost:8080/"
        },
        "id": "ageW-nJlvmXI",
        "outputId": "16c4b87d-0639-4a9a-beae-5021c6c304a5"
      },
      "execution_count": 6,
      "outputs": [
        {
          "output_type": "execute_result",
          "data": {
            "text/plain": [
              "0"
            ]
          },
          "metadata": {},
          "execution_count": 6
        }
      ]
    },
    {
      "cell_type": "markdown",
      "source": [
        "No duplicates luckily"
      ],
      "metadata": {
        "id": "YbYYsOBO4GlR"
      }
    },
    {
      "cell_type": "code",
      "source": [
        "africa_df.isna().sum()"
      ],
      "metadata": {
        "colab": {
          "base_uri": "https://localhost:8080/"
        },
        "id": "qIR7LDiewYwU",
        "outputId": "c720fc3a-2697-43cf-c013-eeba42da60d0"
      },
      "execution_count": 19,
      "outputs": [
        {
          "output_type": "execute_result",
          "data": {
            "text/plain": [
              "Country                                                                    0\n",
              "Year                                                                       0\n",
              "Real per Capita GDP Growth Rate (annual %)                                 0\n",
              "Real GDP growth (annual %)                                                 0\n",
              "Gross domestic product, (constant prices US$)                              0\n",
              "Gross domestic product, current prices (current US$)                       0\n",
              "Final consumption expenditure  (current US$)                              49\n",
              "General government final consumption expenditure (current US$)            49\n",
              "Household final consumption expenditure (current US$)                     49\n",
              "Gross capital formation (current US$)                                     49\n",
              "Gross capital formation, Private sector  (current US$)                   123\n",
              "Gross capital formation, Public sector  (current US$)                    123\n",
              "Exports of goods and services (current US$)                               49\n",
              "Imports of goods and services (current US$)                               49\n",
              "Final consumption expenditure  (% of GDP)                                 49\n",
              "General government final consumption expenditure (% of GDP)               49\n",
              "Household final consumption expenditure  (% of GDP)                       49\n",
              "Gross capital formation (% of GDP)                                        49\n",
              "Gross capital formation, Private sector (% GDP)                          123\n",
              "Gross capital formation, Public sector (% GDP)                           123\n",
              "Exports of goods and services (% of GDP)                                  49\n",
              "Imports of goods and services (% of GDP)                                  49\n",
              "Central government, Fiscal Balance (Current US $)                        111\n",
              "Central government, total revenue and grants  (Current US $)             125\n",
              "Central government, total expenditure and net lending  (Current US $)    122\n",
              "Central government, Fiscal Balance (% of GDP)                            109\n",
              "Central government, total revenue and grants  (% of GDP)                 125\n",
              "Central government, total expenditure and net lending  (% of GDP)        122\n",
              "Current account balance (Net, BoP, cur. US$)                              83\n",
              "Current account balance (As % of GDP)                                     83\n",
              "Inflation, consumer prices (annual %)                                     80\n",
              "region                                                                     0\n",
              "dtype: int64"
            ]
          },
          "metadata": {},
          "execution_count": 19
        }
      ]
    },
    {
      "cell_type": "code",
      "source": [
        "africa_df.dropna(subset=['Real GDP growth (annual %)'], inplace=True)"
      ],
      "metadata": {
        "id": "_ohZOczP7Deq"
      },
      "execution_count": 18,
      "outputs": []
    },
    {
      "cell_type": "code",
      "source": [
        "africa_df.dropna().shape[0]/africa_df.shape[0]"
      ],
      "metadata": {
        "colab": {
          "base_uri": "https://localhost:8080/"
        },
        "id": "boWPTHiv7ywn",
        "outputId": "bb86facc-ad5d-4354-e71c-46db26d8dd1a"
      },
      "execution_count": 20,
      "outputs": [
        {
          "output_type": "execute_result",
          "data": {
            "text/plain": [
              "0.8994638069705094"
            ]
          },
          "metadata": {},
          "execution_count": 20
        }
      ]
    },
    {
      "cell_type": "code",
      "source": [
        "africa_dfdropped = africa_df.dropna()\n",
        "\n",
        "africa_dfnotdropped = africa_df.copy()"
      ],
      "metadata": {
        "id": "OW8Uhf1A8lWf"
      },
      "execution_count": 22,
      "outputs": []
    },
    {
      "cell_type": "markdown",
      "source": [
        "The missing values represent such a small amount of the data so imputing might help us out here but I decided to drop the rows as we only lose 10% of data."
      ],
      "metadata": {
        "id": "q7jCkxwC4Umt"
      }
    },
    {
      "cell_type": "code",
      "source": [
        "africa_df['Real per Capita GDP Growth Rate (annual %)'].value_counts()"
      ],
      "metadata": {
        "colab": {
          "base_uri": "https://localhost:8080/"
        },
        "id": "dYt087MEwhya",
        "outputId": "5d1f6a45-e19b-404e-f5f1-ca9f011dc32e"
      },
      "execution_count": 8,
      "outputs": [
        {
          "output_type": "execute_result",
          "data": {
            "text/plain": [
              " 1.970000     8\n",
              " 1.340000     6\n",
              " 3.290000     5\n",
              " 0.880000     5\n",
              " 2.290000     5\n",
              "             ..\n",
              "-10.973042    1\n",
              " 6.317935     1\n",
              "-21.365892    1\n",
              " 29.747806    1\n",
              " 1.399660     1\n",
              "Name: Real per Capita GDP Growth Rate (annual %), Length: 1691, dtype: int64"
            ]
          },
          "metadata": {},
          "execution_count": 8
        }
      ]
    },
    {
      "cell_type": "code",
      "source": [
        "africa_df['Country'].value_counts()"
      ],
      "metadata": {
        "colab": {
          "base_uri": "https://localhost:8080/"
        },
        "id": "si_gvlB84zTV",
        "outputId": "e4dfa7fa-427c-43e1-afff-0cb95d6de61d"
      },
      "execution_count": 9,
      "outputs": [
        {
          "output_type": "execute_result",
          "data": {
            "text/plain": [
              "Malawi                      43\n",
              "Sao Tome and Principe       43\n",
              "Libya                       43\n",
              "Madagascar                  43\n",
              "Mali                        43\n",
              "Mauritania                  43\n",
              "Mauritius                   43\n",
              "Morocco                     43\n",
              "Mozambique                  43\n",
              "Namibia                     43\n",
              "Niger                       43\n",
              "Nigeria                     43\n",
              "Rwanda                      43\n",
              "Senegal                     43\n",
              "Algeria                     43\n",
              "Seychelles                  43\n",
              "Sierra Leone                43\n",
              "Somalia                     43\n",
              "South Africa                43\n",
              "South Sudan                 43\n",
              "Sudan                       43\n",
              "Tanzania                    43\n",
              "Togo                        43\n",
              "Tunisia                     43\n",
              "Uganda                      43\n",
              "Zambia                      43\n",
              "Liberia                     43\n",
              "Lesotho                     43\n",
              "Kenya                       43\n",
              "Guinea-Bissau               43\n",
              "Angola                      43\n",
              "Benin                       43\n",
              "Botswana                    43\n",
              "Burkina Faso                43\n",
              "Burundi                     43\n",
              "Cameroon                    43\n",
              "Cabo Verde                  43\n",
              "Central African Republic    43\n",
              "Chad                        43\n",
              "Comoros                     43\n",
              "Congo, Dem. Rep.            43\n",
              "Congo, Rep.                 43\n",
              "Cote d'Ivoire               43\n",
              "Djibouti                    43\n",
              "Egypt                       43\n",
              "Equatorial Guinea           43\n",
              "Eritrea                     43\n",
              "eSwatini                    43\n",
              "Ethiopia                    43\n",
              "Gabon                       43\n",
              "Gambia                      43\n",
              "Ghana                       43\n",
              "Guinea                      43\n",
              "Zimbabwe                    43\n",
              "Name: Country, dtype: int64"
            ]
          },
          "metadata": {},
          "execution_count": 9
        }
      ]
    },
    {
      "cell_type": "markdown",
      "source": [
        "Cat values have no disrepancies\n",
        "> I want to predict GDP Growth per year but regionally rather than country by country; I'll split the data before I impute, scale, etc."
      ],
      "metadata": {
        "id": "ojx6hWzYS0x_"
      }
    },
    {
      "cell_type": "code",
      "source": [
        "Northern_countries = ['Algeria', 'Egypt', 'Libya', 'Morocco', 'Sudan', 'Tunisia']\n",
        "\n",
        "Eastern_countries = ['Burundi', 'Comoros', 'Djibouti', 'Eritrea', 'Ethiopia', 'Kenya', 'Malawi', 'Mauritius', 'Mozambique', 'Rwanda', 'Seychelles', 'Somalia', 'South Sudan', 'Tanzania', 'Uganda', 'Zambia', 'Zimbabwe']\n",
        "\n",
        "Middle_countries = ['Angola', 'Cameroon', 'Central African Republic', 'Chad', 'Congo, Dem. Rep.', 'Congo, Rep.', 'Equatorial Guinea', 'Gabon', 'Sao Tome and Principe']\n",
        "\n",
        "Southern_countries = ['Botswana', 'eSwatini', 'Lesotho', 'Madagascar', 'Namibia', 'South Africa']\n",
        "\n",
        "Western_countries = ['Benin', 'Burkina Faso', 'Cabo Verde', \"Cote d'Ivoire\", 'Gambia', 'Ghana', 'Guinea', 'Guinea-Bissau', 'Liberia', 'Mali', 'Mauritania', 'Niger', 'Nigeria', 'Senegal', 'Sierra Leone', 'Togo' ]\n",
        "\n",
        "region = ['Northern Africa', 'Eastern Africa', 'Middle Africa', 'Southern Africa', 'Western Africa']"
      ],
      "metadata": {
        "id": "Nx2eiUiYfIm5"
      },
      "execution_count": 13,
      "outputs": []
    },
    {
      "cell_type": "code",
      "source": [
        "africa_df['region'] = 'missing'\n",
        "\n",
        "africa_df['region']"
      ],
      "metadata": {
        "colab": {
          "base_uri": "https://localhost:8080/"
        },
        "id": "Gr_cAIGj4ipV",
        "outputId": "19866f29-6384-4e50-f3f3-486b490ae1a2"
      },
      "execution_count": 12,
      "outputs": [
        {
          "output_type": "execute_result",
          "data": {
            "text/plain": [
              "0       missing\n",
              "1       missing\n",
              "2       missing\n",
              "3       missing\n",
              "4       missing\n",
              "         ...   \n",
              "2317    missing\n",
              "2318    missing\n",
              "2319    missing\n",
              "2320    missing\n",
              "2321    missing\n",
              "Name: region, Length: 2322, dtype: object"
            ]
          },
          "metadata": {},
          "execution_count": 12
        }
      ]
    },
    {
      "cell_type": "code",
      "source": [
        "africa_df.loc[africa_df['Country'].isin(Northern_countries), 'region']= 'North Africa'"
      ],
      "metadata": {
        "id": "EK3z4gRl4_l-"
      },
      "execution_count": 14,
      "outputs": []
    },
    {
      "cell_type": "code",
      "source": [
        "africa_df.loc[africa_df['Country'].isin(Eastern_countries), 'region']= 'East Africa'"
      ],
      "metadata": {
        "id": "tFQODMXz_Jt5"
      },
      "execution_count": 25,
      "outputs": []
    },
    {
      "cell_type": "code",
      "source": [
        "africa_df.loc[africa_df['Country'].isin(Middle_countries), 'region']= 'Middle Africa'"
      ],
      "metadata": {
        "id": "cmEusMVQ_Tzo"
      },
      "execution_count": 26,
      "outputs": []
    },
    {
      "cell_type": "code",
      "source": [
        "africa_df.loc[africa_df['Country'].isin(Southern_countries), 'region']= 'South Africa'"
      ],
      "metadata": {
        "id": "OgrnzaY5_ZKV"
      },
      "execution_count": 27,
      "outputs": []
    },
    {
      "cell_type": "code",
      "source": [
        "africa_df.loc[africa_df['Country'].isin(Western_countries), 'region']= 'West Africa'"
      ],
      "metadata": {
        "id": "4fF47bDU_dkw"
      },
      "execution_count": 28,
      "outputs": []
    },
    {
      "cell_type": "code",
      "source": [
        "africa_df['region'].value_counts()"
      ],
      "metadata": {
        "colab": {
          "base_uri": "https://localhost:8080/"
        },
        "id": "Vvf9sxl96Urs",
        "outputId": "c3a6dd17-e7e6-4a8e-8534-c2b5df8f2eb9"
      },
      "execution_count": 30,
      "outputs": [
        {
          "output_type": "execute_result",
          "data": {
            "text/plain": [
              "East Africa      731\n",
              "West Africa      688\n",
              "Middle Africa    387\n",
              "South Africa     258\n",
              "Name: region, dtype: int64"
            ]
          },
          "metadata": {},
          "execution_count": 30
        }
      ]
    },
    {
      "cell_type": "markdown",
      "source": [
        "###**Train Test Split**"
      ],
      "metadata": {
        "id": "qc8SvK2CZIP2"
      }
    },
    {
      "cell_type": "code",
      "source": [
        "X = africa_df.drop(columns= ['Real GDP growth (annual %)', 'Year', 'Country'])\n",
        "\n",
        "y = africa_df['Real GDP growth (annual %)']\n",
        "\n",
        "X_train, X_test, y_train, y_test = train_test_split(X, y, random_state = 42)"
      ],
      "metadata": {
        "id": "3vwfWueDKlHQ"
      },
      "execution_count": 26,
      "outputs": []
    },
    {
      "cell_type": "markdown",
      "source": [
        "Instantiate Column selectors"
      ],
      "metadata": {
        "id": "imKSnQ0jZUo6"
      }
    },
    {
      "cell_type": "code",
      "source": [
        "cat_selector = make_column_selector(dtype_include='object')\n",
        "num_selector = make_column_selector(dtype_include='number')"
      ],
      "metadata": {
        "id": "Fgzj4XGMZEOS"
      },
      "execution_count": 27,
      "outputs": []
    },
    {
      "cell_type": "markdown",
      "source": [
        "Instantiate Transformers"
      ],
      "metadata": {
        "id": "bM4tcVdcZsj7"
      }
    },
    {
      "cell_type": "code",
      "source": [
        "Scaler = StandardScaler()\n",
        "ohe = OneHotEncoder(handle_unknown='ignore', sparse=False)"
      ],
      "metadata": {
        "id": "X3FNaSfzZ3y_"
      },
      "execution_count": 33,
      "outputs": []
    },
    {
      "cell_type": "code",
      "source": [
        "f, ax = plt.subplots(figsize=(6.5, 6.5))\n",
        "sns.despine(f, left=True, bottom=True)\n",
        "\n",
        "sns.scatterplot(x='Year', y='Real GDP growth (annual %)', hue='Real GDP growth (annual %)',sizes=(1, 8), linewidth=0, data=africa_df, ax=ax);"
      ],
      "metadata": {
        "colab": {
          "base_uri": "https://localhost:8080/",
          "height": 415
        },
        "id": "wbgG7WP6zak8",
        "outputId": "c4d9c113-a720-440b-a07c-64181cfb2bcf"
      },
      "execution_count": 28,
      "outputs": [
        {
          "output_type": "display_data",
          "data": {
            "text/plain": [
              "<Figure size 468x468 with 1 Axes>"
            ],
            "image/png": "[encoded data removed]"
          },
          "metadata": {
            "needs_background": "light"
          }
        }
      ]
    },
    {
      "cell_type": "markdown",
      "source": [
        "I think I want my target to be GDP growth per year; as GDP seems to always be a common economic growth identifier."
      ],
      "metadata": {
        "id": "AL67S3-CvEPI"
      }
    }
  ]
}