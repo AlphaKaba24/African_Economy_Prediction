{
  "nbformat": 4,
  "nbformat_minor": 0,
  "metadata": {
    "colab": {
      "name": "africa_GDP",
      "provenance": [],
      "authorship_tag": "ABX9TyMcbHreWiq+mj0Zvlam2Fgm",
      "include_colab_link": true
    },
    "kernelspec": {
      "name": "python3",
      "display_name": "Python 3"
    },
    "language_info": {
      "name": "python"
    }
  },
  "cells": [
    {
      "cell_type": "markdown",
      "metadata": {
        "id": "view-in-github",
        "colab_type": "text"
      },
      "source": [
        "<a href=\"https://colab.research.google.com/github/AlphaKaba24/systemic_crisis_prediction/blob/main/africa_GDP.ipynb\" target=\"_parent\"><img src=\"https://colab.research.google.com/assets/colab-badge.svg\" alt=\"Open In Colab\"/></a>"
      ]
    },
    {
      "cell_type": "markdown",
      "source": [
        "#Alpha Kaba\n",
        "##Project 2 - Part 2 \n",
        "###6/15/22"
      ],
      "metadata": {
        "id": "bXshy-nmt2oM"
      }
    },
    {
      "cell_type": "code",
      "source": [
        "import pandas as pd\n",
        "import numpy as np\n",
        "from sklearn.model_selection import train_test_split\n",
        "import seaborn as sns\n",
        "import matplotlib.pyplot as plt"
      ],
      "metadata": {
        "id": "jLAD2txquZYB"
      },
      "execution_count": 32,
      "outputs": []
    },
    {
      "cell_type": "code",
      "execution_count": 2,
      "metadata": {
        "colab": {
          "base_uri": "https://localhost:8080/",
          "height": 421
        },
        "id": "WB2abHeQt19N",
        "outputId": "5e8b80bf-798a-46d5-ed85-c946f67143c6"
      },
      "outputs": [
        {
          "output_type": "execute_result",
          "data": {
            "text/plain": [
              "  Country  Year  Real per Capita GDP Growth Rate (annual %)  \\\n",
              "0  Malawi  1980                                         NaN   \n",
              "1  Malawi  1981                                      -13.06   \n",
              "2  Malawi  1982                                       -0.93   \n",
              "3  Malawi  1983                                        1.56   \n",
              "4  Malawi  1984                                        0.54   \n",
              "\n",
              "   Real GDP growth (annual %)  Gross domestic product, (constant prices US$)  \\\n",
              "0                         NaN                                        3038.14   \n",
              "1                      -10.81                                        2709.74   \n",
              "2                        1.44                                        2748.84   \n",
              "3                        4.21                                        2864.70   \n",
              "4                        3.92                                        2976.95   \n",
              "\n",
              "   Gross domestic product, current prices (current US$)  \\\n",
              "0                                            2236.36      \n",
              "1                                            2236.40      \n",
              "2                                            2113.68      \n",
              "3                                            2203.66      \n",
              "4                                            2157.88      \n",
              "\n",
              "   Final consumption expenditure  (current US$)  \\\n",
              "0                                       1104.30   \n",
              "1                                       1091.26   \n",
              "2                                       1002.45   \n",
              "3                                       1037.06   \n",
              "4                                       1028.95   \n",
              "\n",
              "   General government final consumption expenditure (current US$)  \\\n",
              "0                                             238.76                \n",
              "1                                             221.16                \n",
              "2                                             206.82                \n",
              "3                                             200.81                \n",
              "4                                             189.62                \n",
              "\n",
              "   Household final consumption expenditure (current US$)  \\\n",
              "0                                             865.54       \n",
              "1                                             870.10       \n",
              "2                                             795.63       \n",
              "3                                             836.26       \n",
              "4                                             839.34       \n",
              "\n",
              "   Gross capital formation (current US$)  ...  \\\n",
              "0                                 306.24  ...   \n",
              "1                                 218.14  ...   \n",
              "2                                 252.58  ...   \n",
              "3                                 278.87  ...   \n",
              "4                                 155.58  ...   \n",
              "\n",
              "   Imports of goods and services (% of GDP)  \\\n",
              "0                                     21.48   \n",
              "1                                     17.41   \n",
              "2                                     16.10   \n",
              "3                                     15.73   \n",
              "4                                     14.79   \n",
              "\n",
              "   Central government, Fiscal Balance (Current US $)  \\\n",
              "0                                            -142.96   \n",
              "1                                            -133.47   \n",
              "2                                            -119.21   \n",
              "3                                             -96.80   \n",
              "4                                             -78.94   \n",
              "\n",
              "   Central government, total revenue and grants  (Current US $)  \\\n",
              "0                                             298.61              \n",
              "1                                             276.61              \n",
              "2                                             254.71              \n",
              "3                                             250.68              \n",
              "4                                             239.30              \n",
              "\n",
              "   Central government, total expenditure and net lending  (Current US $)  \\\n",
              "0                                             441.57                       \n",
              "1                                             410.09                       \n",
              "2                                             373.92                       \n",
              "3                                             347.48                       \n",
              "4                                             318.24                       \n",
              "\n",
              "   Central government, Fiscal Balance (% of GDP)  \\\n",
              "0                                          -6.39   \n",
              "1                                          -5.97   \n",
              "2                                          -5.64   \n",
              "3                                          -4.39   \n",
              "4                                          -3.66   \n",
              "\n",
              "   Central government, total revenue and grants  (% of GDP)  \\\n",
              "0                                              13.35          \n",
              "1                                              12.37          \n",
              "2                                              12.05          \n",
              "3                                              11.38          \n",
              "4                                              11.09          \n",
              "\n",
              "   Central government, total expenditure and net lending  (% of GDP)  \\\n",
              "0                                              19.75                   \n",
              "1                                              18.34                   \n",
              "2                                              17.69                   \n",
              "3                                              15.77                   \n",
              "4                                              14.75                   \n",
              "\n",
              "   Current account balance (Net, BoP, cur. US$)  \\\n",
              "0                                       -207.07   \n",
              "1                                        -86.71   \n",
              "2                                        -91.15   \n",
              "3                                       -103.94   \n",
              "4                                          3.88   \n",
              "\n",
              "   Current account balance (As % of GDP)  \\\n",
              "0                                  -9.26   \n",
              "1                                  -3.88   \n",
              "2                                  -4.31   \n",
              "3                                  -4.72   \n",
              "4                                   0.18   \n",
              "\n",
              "   Inflation, consumer prices (annual %)  \n",
              "0                                    NaN  \n",
              "1                                  12.01  \n",
              "2                                   9.52  \n",
              "3                                  13.77  \n",
              "4                                  19.74  \n",
              "\n",
              "[5 rows x 31 columns]"
            ],
            "text/html": [
              "\n",
              "  <div id=\"df-3fcfa2b4-1a15-44e2-84a5-3484d44b6db4\">\n",
              "    <div class=\"colab-df-container\">\n",
              "      <div>\n",
              "<style scoped>\n",
              "    .dataframe tbody tr th:only-of-type {\n",
              "        vertical-align: middle;\n",
              "    }\n",
              "\n",
              "    .dataframe tbody tr th {\n",
              "        vertical-align: top;\n",
              "    }\n",
              "\n",
              "    .dataframe thead th {\n",
              "        text-align: right;\n",
              "    }\n",
              "</style>\n",
              "<table border=\"1\" class=\"dataframe\">\n",
              "  <thead>\n",
              "    <tr style=\"text-align: right;\">\n",
              "      <th></th>\n",
              "      <th>Country</th>\n",
              "      <th>Year</th>\n",
              "      <th>Real per Capita GDP Growth Rate (annual %)</th>\n",
              "      <th>Real GDP growth (annual %)</th>\n",
              "      <th>Gross domestic product, (constant prices US$)</th>\n",
              "      <th>Gross domestic product, current prices (current US$)</th>\n",
              "      <th>Final consumption expenditure  (current US$)</th>\n",
              "      <th>General government final consumption expenditure (current US$)</th>\n",
              "      <th>Household final consumption expenditure (current US$)</th>\n",
              "      <th>Gross capital formation (current US$)</th>\n",
              "      <th>...</th>\n",
              "      <th>Imports of goods and services (% of GDP)</th>\n",
              "      <th>Central government, Fiscal Balance (Current US $)</th>\n",
              "      <th>Central government, total revenue and grants  (Current US $)</th>\n",
              "      <th>Central government, total expenditure and net lending  (Current US $)</th>\n",
              "      <th>Central government, Fiscal Balance (% of GDP)</th>\n",
              "      <th>Central government, total revenue and grants  (% of GDP)</th>\n",
              "      <th>Central government, total expenditure and net lending  (% of GDP)</th>\n",
              "      <th>Current account balance (Net, BoP, cur. US$)</th>\n",
              "      <th>Current account balance (As % of GDP)</th>\n",
              "      <th>Inflation, consumer prices (annual %)</th>\n",
              "    </tr>\n",
              "  </thead>\n",
              "  <tbody>\n",
              "    <tr>\n",
              "      <th>0</th>\n",
              "      <td>Malawi</td>\n",
              "      <td>1980</td>\n",
              "      <td>NaN</td>\n",
              "      <td>NaN</td>\n",
              "      <td>3038.14</td>\n",
              "      <td>2236.36</td>\n",
              "      <td>1104.30</td>\n",
              "      <td>238.76</td>\n",
              "      <td>865.54</td>\n",
              "      <td>306.24</td>\n",
              "      <td>...</td>\n",
              "      <td>21.48</td>\n",
              "      <td>-142.96</td>\n",
              "      <td>298.61</td>\n",
              "      <td>441.57</td>\n",
              "      <td>-6.39</td>\n",
              "      <td>13.35</td>\n",
              "      <td>19.75</td>\n",
              "      <td>-207.07</td>\n",
              "      <td>-9.26</td>\n",
              "      <td>NaN</td>\n",
              "    </tr>\n",
              "    <tr>\n",
              "      <th>1</th>\n",
              "      <td>Malawi</td>\n",
              "      <td>1981</td>\n",
              "      <td>-13.06</td>\n",
              "      <td>-10.81</td>\n",
              "      <td>2709.74</td>\n",
              "      <td>2236.40</td>\n",
              "      <td>1091.26</td>\n",
              "      <td>221.16</td>\n",
              "      <td>870.10</td>\n",
              "      <td>218.14</td>\n",
              "      <td>...</td>\n",
              "      <td>17.41</td>\n",
              "      <td>-133.47</td>\n",
              "      <td>276.61</td>\n",
              "      <td>410.09</td>\n",
              "      <td>-5.97</td>\n",
              "      <td>12.37</td>\n",
              "      <td>18.34</td>\n",
              "      <td>-86.71</td>\n",
              "      <td>-3.88</td>\n",
              "      <td>12.01</td>\n",
              "    </tr>\n",
              "    <tr>\n",
              "      <th>2</th>\n",
              "      <td>Malawi</td>\n",
              "      <td>1982</td>\n",
              "      <td>-0.93</td>\n",
              "      <td>1.44</td>\n",
              "      <td>2748.84</td>\n",
              "      <td>2113.68</td>\n",
              "      <td>1002.45</td>\n",
              "      <td>206.82</td>\n",
              "      <td>795.63</td>\n",
              "      <td>252.58</td>\n",
              "      <td>...</td>\n",
              "      <td>16.10</td>\n",
              "      <td>-119.21</td>\n",
              "      <td>254.71</td>\n",
              "      <td>373.92</td>\n",
              "      <td>-5.64</td>\n",
              "      <td>12.05</td>\n",
              "      <td>17.69</td>\n",
              "      <td>-91.15</td>\n",
              "      <td>-4.31</td>\n",
              "      <td>9.52</td>\n",
              "    </tr>\n",
              "    <tr>\n",
              "      <th>3</th>\n",
              "      <td>Malawi</td>\n",
              "      <td>1983</td>\n",
              "      <td>1.56</td>\n",
              "      <td>4.21</td>\n",
              "      <td>2864.70</td>\n",
              "      <td>2203.66</td>\n",
              "      <td>1037.06</td>\n",
              "      <td>200.81</td>\n",
              "      <td>836.26</td>\n",
              "      <td>278.87</td>\n",
              "      <td>...</td>\n",
              "      <td>15.73</td>\n",
              "      <td>-96.80</td>\n",
              "      <td>250.68</td>\n",
              "      <td>347.48</td>\n",
              "      <td>-4.39</td>\n",
              "      <td>11.38</td>\n",
              "      <td>15.77</td>\n",
              "      <td>-103.94</td>\n",
              "      <td>-4.72</td>\n",
              "      <td>13.77</td>\n",
              "    </tr>\n",
              "    <tr>\n",
              "      <th>4</th>\n",
              "      <td>Malawi</td>\n",
              "      <td>1984</td>\n",
              "      <td>0.54</td>\n",
              "      <td>3.92</td>\n",
              "      <td>2976.95</td>\n",
              "      <td>2157.88</td>\n",
              "      <td>1028.95</td>\n",
              "      <td>189.62</td>\n",
              "      <td>839.34</td>\n",
              "      <td>155.58</td>\n",
              "      <td>...</td>\n",
              "      <td>14.79</td>\n",
              "      <td>-78.94</td>\n",
              "      <td>239.30</td>\n",
              "      <td>318.24</td>\n",
              "      <td>-3.66</td>\n",
              "      <td>11.09</td>\n",
              "      <td>14.75</td>\n",
              "      <td>3.88</td>\n",
              "      <td>0.18</td>\n",
              "      <td>19.74</td>\n",
              "    </tr>\n",
              "  </tbody>\n",
              "</table>\n",
              "<p>5 rows × 31 columns</p>\n",
              "</div>\n",
              "      <button class=\"colab-df-convert\" onclick=\"convertToInteractive('df-3fcfa2b4-1a15-44e2-84a5-3484d44b6db4')\"\n",
              "              title=\"Convert this dataframe to an interactive table.\"\n",
              "              style=\"display:none;\">\n",
              "        \n",
              "  <svg xmlns=\"http://www.w3.org/2000/svg\" height=\"24px\"viewBox=\"0 0 24 24\"\n",
              "       width=\"24px\">\n",
              "    <path d=\"M0 0h24v24H0V0z\" fill=\"none\"/>\n",
              "    <path d=\"M18.56 5.44l.94 2.06.94-2.06 2.06-.94-2.06-.94-.94-2.06-.94 2.06-2.06.94zm-11 1L8.5 8.5l.94-2.06 2.06-.94-2.06-.94L8.5 2.5l-.94 2.06-2.06.94zm10 10l.94 2.06.94-2.06 2.06-.94-2.06-.94-.94-2.06-.94 2.06-2.06.94z\"/><path d=\"M17.41 7.96l-1.37-1.37c-.4-.4-.92-.59-1.43-.59-.52 0-1.04.2-1.43.59L10.3 9.45l-7.72 7.72c-.78.78-.78 2.05 0 2.83L4 21.41c.39.39.9.59 1.41.59.51 0 1.02-.2 1.41-.59l7.78-7.78 2.81-2.81c.8-.78.8-2.07 0-2.86zM5.41 20L4 18.59l7.72-7.72 1.47 1.35L5.41 20z\"/>\n",
              "  </svg>\n",
              "      </button>\n",
              "      \n",
              "  <style>\n",
              "    .colab-df-container {\n",
              "      display:flex;\n",
              "      flex-wrap:wrap;\n",
              "      gap: 12px;\n",
              "    }\n",
              "\n",
              "    .colab-df-convert {\n",
              "      background-color: #E8F0FE;\n",
              "      border: none;\n",
              "      border-radius: 50%;\n",
              "      cursor: pointer;\n",
              "      display: none;\n",
              "      fill: #1967D2;\n",
              "      height: 32px;\n",
              "      padding: 0 0 0 0;\n",
              "      width: 32px;\n",
              "    }\n",
              "\n",
              "    .colab-df-convert:hover {\n",
              "      background-color: #E2EBFA;\n",
              "      box-shadow: 0px 1px 2px rgba(60, 64, 67, 0.3), 0px 1px 3px 1px rgba(60, 64, 67, 0.15);\n",
              "      fill: #174EA6;\n",
              "    }\n",
              "\n",
              "    [theme=dark] .colab-df-convert {\n",
              "      background-color: #3B4455;\n",
              "      fill: #D2E3FC;\n",
              "    }\n",
              "\n",
              "    [theme=dark] .colab-df-convert:hover {\n",
              "      background-color: #434B5C;\n",
              "      box-shadow: 0px 1px 3px 1px rgba(0, 0, 0, 0.15);\n",
              "      filter: drop-shadow(0px 1px 2px rgba(0, 0, 0, 0.3));\n",
              "      fill: #FFFFFF;\n",
              "    }\n",
              "  </style>\n",
              "\n",
              "      <script>\n",
              "        const buttonEl =\n",
              "          document.querySelector('#df-3fcfa2b4-1a15-44e2-84a5-3484d44b6db4 button.colab-df-convert');\n",
              "        buttonEl.style.display =\n",
              "          google.colab.kernel.accessAllowed ? 'block' : 'none';\n",
              "\n",
              "        async function convertToInteractive(key) {\n",
              "          const element = document.querySelector('#df-3fcfa2b4-1a15-44e2-84a5-3484d44b6db4');\n",
              "          const dataTable =\n",
              "            await google.colab.kernel.invokeFunction('convertToInteractive',\n",
              "                                                     [key], {});\n",
              "          if (!dataTable) return;\n",
              "\n",
              "          const docLinkHtml = 'Like what you see? Visit the ' +\n",
              "            '<a target=\"_blank\" href=https://colab.research.google.com/notebooks/data_table.ipynb>data table notebook</a>'\n",
              "            + ' to learn more about interactive tables.';\n",
              "          element.innerHTML = '';\n",
              "          dataTable['output_type'] = 'display_data';\n",
              "          await google.colab.output.renderOutput(dataTable, element);\n",
              "          const docLink = document.createElement('div');\n",
              "          docLink.innerHTML = docLinkHtml;\n",
              "          element.appendChild(docLink);\n",
              "        }\n",
              "      </script>\n",
              "    </div>\n",
              "  </div>\n",
              "  "
            ]
          },
          "metadata": {},
          "execution_count": 2
        }
      ],
      "source": [
        "africa_df = pd.read_csv('/content/ObservationData_lavlqce.csv')\n",
        "africa_df.head()"
      ]
    },
    {
      "cell_type": "code",
      "source": [
        "africa_df.info()"
      ],
      "metadata": {
        "colab": {
          "base_uri": "https://localhost:8080/"
        },
        "id": "AQkExIMuzHSm",
        "outputId": "63256267-4057-4e8a-b555-d1677a530a37"
      },
      "execution_count": 19,
      "outputs": [
        {
          "output_type": "stream",
          "name": "stdout",
          "text": [
            "<class 'pandas.core.frame.DataFrame'>\n",
            "RangeIndex: 2322 entries, 0 to 2321\n",
            "Data columns (total 31 columns):\n",
            " #   Column                                                                 Non-Null Count  Dtype  \n",
            "---  ------                                                                 --------------  -----  \n",
            " 0   Country                                                                2322 non-null   object \n",
            " 1   Year                                                                   2322 non-null   int64  \n",
            " 2   Real per Capita GDP Growth Rate (annual %)                             2238 non-null   float64\n",
            " 3   Real GDP growth (annual %)                                             2238 non-null   float64\n",
            " 4   Gross domestic product, (constant prices US$)                          2292 non-null   float64\n",
            " 5   Gross domestic product, current prices (current US$)                   2311 non-null   float64\n",
            " 6   Final consumption expenditure  (current US$)                           2239 non-null   float64\n",
            " 7   General government final consumption expenditure (current US$)         2239 non-null   float64\n",
            " 8   Household final consumption expenditure (current US$)                  2239 non-null   float64\n",
            " 9   Gross capital formation (current US$)                                  2239 non-null   float64\n",
            " 10  Gross capital formation, Private sector  (current US$)                 2159 non-null   float64\n",
            " 11  Gross capital formation, Public sector  (current US$)                  2159 non-null   float64\n",
            " 12  Exports of goods and services (current US$)                            2239 non-null   float64\n",
            " 13  Imports of goods and services (current US$)                            2239 non-null   float64\n",
            " 14  Final consumption expenditure  (% of GDP)                              2239 non-null   float64\n",
            " 15  General government final consumption expenditure (% of GDP)            2239 non-null   float64\n",
            " 16  Household final consumption expenditure  (% of GDP)                    2239 non-null   float64\n",
            " 17  Gross capital formation (% of GDP)                                     2239 non-null   float64\n",
            " 18  Gross capital formation, Private sector (% GDP)                        2159 non-null   float64\n",
            " 19  Gross capital formation, Public sector (% GDP)                         2159 non-null   float64\n",
            " 20  Exports of goods and services (% of GDP)                               2239 non-null   float64\n",
            " 21  Imports of goods and services (% of GDP)                               2239 non-null   float64\n",
            " 22  Central government, Fiscal Balance (Current US $)                      2173 non-null   float64\n",
            " 23  Central government, total revenue and grants  (Current US $)           2158 non-null   float64\n",
            " 24  Central government, total expenditure and net lending  (Current US $)  2162 non-null   float64\n",
            " 25  Central government, Fiscal Balance (% of GDP)                          2175 non-null   float64\n",
            " 26  Central government, total revenue and grants  (% of GDP)               2158 non-null   float64\n",
            " 27  Central government, total expenditure and net lending  (% of GDP)      2162 non-null   float64\n",
            " 28  Current account balance (Net, BoP, cur. US$)                           2204 non-null   float64\n",
            " 29  Current account balance (As % of GDP)                                  2202 non-null   float64\n",
            " 30  Inflation, consumer prices (annual %)                                  2168 non-null   float64\n",
            "dtypes: float64(29), int64(1), object(1)\n",
            "memory usage: 562.5+ KB\n"
          ]
        }
      ]
    },
    {
      "cell_type": "code",
      "source": [
        "africa_df.describe"
      ],
      "metadata": {
        "id": "jyh_tgysuxgc"
      },
      "execution_count": null,
      "outputs": []
    },
    {
      "cell_type": "code",
      "source": [
        "print(africa_df.shape[0])"
      ],
      "metadata": {
        "colab": {
          "base_uri": "https://localhost:8080/"
        },
        "id": "73Li66kWviO-",
        "outputId": "09200ecc-0fbb-45c0-bf0a-5a7d3f1e67da"
      },
      "execution_count": 5,
      "outputs": [
        {
          "output_type": "stream",
          "name": "stdout",
          "text": [
            "2322\n"
          ]
        }
      ]
    },
    {
      "cell_type": "code",
      "source": [
        "africa_df.duplicated().sum()"
      ],
      "metadata": {
        "colab": {
          "base_uri": "https://localhost:8080/"
        },
        "id": "ageW-nJlvmXI",
        "outputId": "758533c3-b55a-42fb-c00d-520dabc140a9"
      },
      "execution_count": 13,
      "outputs": [
        {
          "output_type": "execute_result",
          "data": {
            "text/plain": [
              "0"
            ]
          },
          "metadata": {},
          "execution_count": 13
        }
      ]
    },
    {
      "cell_type": "markdown",
      "source": [
        "No duplicates luckily"
      ],
      "metadata": {
        "id": "YbYYsOBO4GlR"
      }
    },
    {
      "cell_type": "code",
      "source": [
        "africa_df.isna().sum()"
      ],
      "metadata": {
        "colab": {
          "base_uri": "https://localhost:8080/"
        },
        "id": "qIR7LDiewYwU",
        "outputId": "1f751db8-7239-45c3-9cdc-96cad4f6dbd0"
      },
      "execution_count": 14,
      "outputs": [
        {
          "output_type": "execute_result",
          "data": {
            "text/plain": [
              "Country                                                                    0\n",
              "Year                                                                       0\n",
              "Real per Capita GDP Growth Rate (annual %)                                84\n",
              "Real GDP growth (annual %)                                                84\n",
              "Gross domestic product, (constant prices US$)                             30\n",
              "Gross domestic product, current prices (current US$)                      11\n",
              "Final consumption expenditure  (current US$)                              83\n",
              "General government final consumption expenditure (current US$)            83\n",
              "Household final consumption expenditure (current US$)                     83\n",
              "Gross capital formation (current US$)                                     83\n",
              "Gross capital formation, Private sector  (current US$)                   163\n",
              "Gross capital formation, Public sector  (current US$)                    163\n",
              "Exports of goods and services (current US$)                               83\n",
              "Imports of goods and services (current US$)                               83\n",
              "Final consumption expenditure  (% of GDP)                                 83\n",
              "General government final consumption expenditure (% of GDP)               83\n",
              "Household final consumption expenditure  (% of GDP)                       83\n",
              "Gross capital formation (% of GDP)                                        83\n",
              "Gross capital formation, Private sector (% GDP)                          163\n",
              "Gross capital formation, Public sector (% GDP)                           163\n",
              "Exports of goods and services (% of GDP)                                  83\n",
              "Imports of goods and services (% of GDP)                                  83\n",
              "Central government, Fiscal Balance (Current US $)                        149\n",
              "Central government, total revenue and grants  (Current US $)             164\n",
              "Central government, total expenditure and net lending  (Current US $)    160\n",
              "Central government, Fiscal Balance (% of GDP)                            147\n",
              "Central government, total revenue and grants  (% of GDP)                 164\n",
              "Central government, total expenditure and net lending  (% of GDP)        160\n",
              "Current account balance (Net, BoP, cur. US$)                             118\n",
              "Current account balance (As % of GDP)                                    120\n",
              "Inflation, consumer prices (annual %)                                    154\n",
              "dtype: int64"
            ]
          },
          "metadata": {},
          "execution_count": 14
        }
      ]
    },
    {
      "cell_type": "markdown",
      "source": [
        "The missing values represent such a small amount of the data so imputing might help us out here."
      ],
      "metadata": {
        "id": "q7jCkxwC4Umt"
      }
    },
    {
      "cell_type": "code",
      "source": [
        "africa_df['Real per Capita GDP Growth Rate (annual %)'].value_counts()"
      ],
      "metadata": {
        "colab": {
          "base_uri": "https://localhost:8080/"
        },
        "id": "dYt087MEwhya",
        "outputId": "a7985112-101c-409e-deb1-279cf1f59adc"
      },
      "execution_count": 15,
      "outputs": [
        {
          "output_type": "execute_result",
          "data": {
            "text/plain": [
              " 1.970000     8\n",
              " 1.340000     6\n",
              " 3.290000     5\n",
              " 0.880000     5\n",
              " 2.290000     5\n",
              "             ..\n",
              "-10.973042    1\n",
              " 6.317935     1\n",
              "-21.365892    1\n",
              " 29.747806    1\n",
              " 1.399660     1\n",
              "Name: Real per Capita GDP Growth Rate (annual %), Length: 1691, dtype: int64"
            ]
          },
          "metadata": {},
          "execution_count": 15
        }
      ]
    },
    {
      "cell_type": "code",
      "source": [
        "africa_df.dtypes"
      ],
      "metadata": {
        "colab": {
          "base_uri": "https://localhost:8080/"
        },
        "id": "xvo6OtcIvynW",
        "outputId": "8bd3d53e-7f8d-4b6a-ce47-1c2a871c7f1c"
      },
      "execution_count": 12,
      "outputs": [
        {
          "output_type": "execute_result",
          "data": {
            "text/plain": [
              "Country                                                                   object\n",
              "Year                                                                       int64\n",
              "Real per Capita GDP Growth Rate (annual %)                               float64\n",
              "Real GDP growth (annual %)                                               float64\n",
              "Gross domestic product, (constant prices US$)                            float64\n",
              "Gross domestic product, current prices (current US$)                     float64\n",
              "Final consumption expenditure  (current US$)                             float64\n",
              "General government final consumption expenditure (current US$)           float64\n",
              "Household final consumption expenditure (current US$)                    float64\n",
              "Gross capital formation (current US$)                                    float64\n",
              "Gross capital formation, Private sector  (current US$)                   float64\n",
              "Gross capital formation, Public sector  (current US$)                    float64\n",
              "Exports of goods and services (current US$)                              float64\n",
              "Imports of goods and services (current US$)                              float64\n",
              "Final consumption expenditure  (% of GDP)                                float64\n",
              "General government final consumption expenditure (% of GDP)              float64\n",
              "Household final consumption expenditure  (% of GDP)                      float64\n",
              "Gross capital formation (% of GDP)                                       float64\n",
              "Gross capital formation, Private sector (% GDP)                          float64\n",
              "Gross capital formation, Public sector (% GDP)                           float64\n",
              "Exports of goods and services (% of GDP)                                 float64\n",
              "Imports of goods and services (% of GDP)                                 float64\n",
              "Central government, Fiscal Balance (Current US $)                        float64\n",
              "Central government, total revenue and grants  (Current US $)             float64\n",
              "Central government, total expenditure and net lending  (Current US $)    float64\n",
              "Central government, Fiscal Balance (% of GDP)                            float64\n",
              "Central government, total revenue and grants  (% of GDP)                 float64\n",
              "Central government, total expenditure and net lending  (% of GDP)        float64\n",
              "Current account balance (Net, BoP, cur. US$)                             float64\n",
              "Current account balance (As % of GDP)                                    float64\n",
              "Inflation, consumer prices (annual %)                                    float64\n",
              "dtype: object"
            ]
          },
          "metadata": {},
          "execution_count": 12
        }
      ]
    },
    {
      "cell_type": "code",
      "source": [
        "f, ax = plt.subplots(figsize=(6.5, 6.5))\n",
        "sns.despine(f, left=True, bottom=True)\n",
        "\n",
        "sns.scatterplot(x='Year', y='Real GDP growth (annual %)', hue='Real GDP growth (annual %)',sizes=(1, 8), linewidth=0, data=africa_df, ax=ax);"
      ],
      "metadata": {
        "colab": {
          "base_uri": "https://localhost:8080/",
          "height": 421
        },
        "id": "wbgG7WP6zak8",
        "outputId": "c8e124d4-3646-4343-d73d-344df69770a3"
      },
      "execution_count": 37,
      "outputs": [
        {
          "output_type": "display_data",
          "data": {
            "text/plain": [
              "<Figure size 468x468 with 1 Axes>"
            ],
            "image/png": "[encoded data removed]"
          },
          "metadata": {}
        }
      ]
    },
    {
      "cell_type": "markdown",
      "source": [
        "I think I want my target to be GDP growth per year; as GDP seems to always be a common economic growth identifier."
      ],
      "metadata": {
        "id": "AL67S3-CvEPI"
      }
    }
  ]
}